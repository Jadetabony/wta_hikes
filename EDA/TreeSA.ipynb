{
 "cells": [
  {
   "cell_type": "code",
   "execution_count": 1,
   "metadata": {
    "collapsed": true
   },
   "outputs": [],
   "source": [
    "from __future__ import division\n",
    "import pandas as pd\n",
    "import numpy as np\n",
    "import string\n",
    "import matplotlib.pyplot as plt\n",
    "import enchant\n",
    "from pymongo import MongoClient\n",
    "from sklearn.cross_validation import train_test_split\n",
    "from sklearn.feature_extraction.text import TfidfVectorizer\n",
    "from sklearn.ensemble import GradientBoostingClassifier, AdaBoostClassifier, RandomForestClassifier\n",
    "from sklearn.metrics import accuracy_score, recall_score, precision_score\n",
    "from sklearn.naive_bayes import MultinomialNB\n",
    "import seaborn as sns\n",
    "import pdb\n",
    "%matplotlib inline"
   ]
  },
  {
   "cell_type": "markdown",
   "metadata": {},
   "source": [
    "## Get data"
   ]
  },
  {
   "cell_type": "code",
   "execution_count": 2,
   "metadata": {
    "collapsed": true
   },
   "outputs": [],
   "source": [
    "connection = MongoClient()\n",
    "db = connection.wta\n",
    "\n",
    "def mongo2PandasClean(mongodb, drop_id=True):\n",
    "    df = pd.DataFrame(list(mongodb.find()))\n",
    "    if drop_id:\n",
    "        del df['_id']\n",
    "    return df\n",
    "\n",
    "df = mongo2PandasClean(db.trainingTR)"
   ]
  },
  {
   "cell_type": "code",
   "execution_count": 3,
   "metadata": {
    "collapsed": true
   },
   "outputs": [],
   "source": [
    "d = enchant.Dict(\"en_US\")\n",
    "\n",
    "def dropNonEnglish(row):\n",
    "    eng = 0\n",
    "    words = 0\n",
    "    for word in row.split():\n",
    "        words += 1\n",
    "        if d.check(word):\n",
    "            eng += 1\n",
    "    return eng/words\n",
    "\n",
    "\n",
    "df = df[df['Text'].map(dropNonEnglish) > 0.5]\n",
    "df['Positive'] = [1 if int(r) > 3 else 0 for r in df['Rating']]"
   ]
  },
  {
   "cell_type": "code",
   "execution_count": 4,
   "metadata": {
    "collapsed": false
   },
   "outputs": [],
   "source": [
    "X = df['Text']\n",
    "y = df['Positive']\n",
    "X_train, X_test, y_train, y_test = train_test_split(X, y, random_state=0, )"
   ]
  },
  {
   "cell_type": "markdown",
   "metadata": {},
   "source": [
    "## Vectorize TRAINING data only\n",
    "\n",
    "    * Max_df = 0.25\n",
    "    * max_features = 100"
   ]
  },
  {
   "cell_type": "code",
   "execution_count": 5,
   "metadata": {
    "collapsed": true
   },
   "outputs": [],
   "source": [
    "tfidf = TfidfVectorizer(stop_words='english', max_df=0.25, max_features=100).fit(X_train)\n",
    "X_train = tfidf.transform(X_train)\n",
    "bag_o_words = tfidf.get_feature_names()"
   ]
  },
  {
   "cell_type": "code",
   "execution_count": 6,
   "metadata": {
    "collapsed": false
   },
   "outputs": [],
   "source": [
    "def prettyPrint(model, X_test, y_test, with_words=True):\n",
    "    print \"Accuracy: \", accuracy_score(y_test, model.predict(X_test.toarray()))\n",
    "    print \"Recall: \", recall_score(y_test, model.predict(X_test.toarray()))\n",
    "    print \"Precision: \", precision_score(y_test, model.predict(X_test.toarray()))\n",
    "    if with_words:\n",
    "        print \"Top 20 Most Important Features: \"\n",
    "        ix = np.argsort(model.feature_importances_)[-10:]\n",
    "        for i in ix:\n",
    "            print bag_o_words[i]\n",
    "    "
   ]
  },
  {
   "cell_type": "markdown",
   "metadata": {},
   "source": [
    "## Transform test data based on trained model"
   ]
  },
  {
   "cell_type": "code",
   "execution_count": 7,
   "metadata": {
    "collapsed": false
   },
   "outputs": [],
   "source": [
    "X_test = tfidf.transform(X_test)"
   ]
  },
  {
   "cell_type": "code",
   "execution_count": 8,
   "metadata": {
    "collapsed": false
   },
   "outputs": [
    {
     "name": "stdout",
     "output_type": "stream",
     "text": [
      "RandomForestClassifier(bootstrap=True, class_weight=None, criterion='gini',\n",
      "            max_depth=None, max_features='auto', max_leaf_nodes=None,\n",
      "            min_samples_leaf=1, min_samples_split=2,\n",
      "            min_weight_fraction_leaf=0.0, n_estimators=10, n_jobs=1,\n",
      "            oob_score=False, random_state=None, verbose=0,\n",
      "            warm_start=False)\n",
      "Accuracy:  0.934426229508\n",
      "Recall:  1.0\n",
      "Precision:  0.934426229508\n",
      "Top 20 Most Important Features: \n",
      "times\n",
      "rocks\n",
      "trees\n",
      "place\n",
      "didn\n",
      "better\n",
      "long\n",
      "time\n",
      "trip\n",
      "waterfall\n",
      "GradientBoostingClassifier(init=None, learning_rate=0.1, loss='deviance',\n",
      "              max_depth=3, max_features=None, max_leaf_nodes=None,\n",
      "              min_samples_leaf=1, min_samples_split=2,\n",
      "              min_weight_fraction_leaf=0.0, n_estimators=100,\n",
      "              presort='auto', random_state=None, subsample=1.0, verbose=0,\n",
      "              warm_start=False)\n",
      "Accuracy:  0.926229508197\n",
      "Recall:  0.991228070175\n",
      "Precision:  0.933884297521\n",
      "Top 20 Most Important Features: \n",
      "day\n",
      "10\n",
      "rocks\n",
      "walk\n",
      "place\n",
      "awesome\n",
      "trip\n",
      "waterfall\n",
      "ll\n",
      "really\n",
      "AdaBoostClassifier(algorithm='SAMME.R', base_estimator=None,\n",
      "          learning_rate=1.0, n_estimators=50, random_state=None)\n",
      "Accuracy:  0.94262295082\n",
      "Recall:  0.991228070175\n",
      "Precision:  0.949579831933\n",
      "Top 20 Most Important Features: \n",
      "quite\n",
      "recommend\n",
      "miles\n",
      "time\n",
      "beautiful\n",
      "waterfall\n",
      "really\n",
      "nice\n",
      "trip\n",
      "day\n"
     ]
    }
   ],
   "source": [
    "for model in [RandomForestClassifier(), GradientBoostingClassifier(), AdaBoostClassifier()]:\n",
    "    mod = model.fit(X_train, y_train)\n",
    "    print str(model)\n",
    "    prettyPrint(model, X_test, y_test)"
   ]
  },
  {
   "cell_type": "markdown",
   "metadata": {},
   "source": [
    "## Vectorizing again\n",
    "    * max_df=0.5\n",
    "    * max_features=100\n",
    "    * bigrams"
   ]
  },
  {
   "cell_type": "code",
   "execution_count": 9,
   "metadata": {
    "collapsed": false
   },
   "outputs": [
    {
     "name": "stdout",
     "output_type": "stream",
     "text": [
      "RandomForestClassifier(bootstrap=True, class_weight=None, criterion='gini',\n",
      "            max_depth=None, max_features='auto', max_leaf_nodes=None,\n",
      "            min_samples_leaf=1, min_samples_split=2,\n",
      "            min_weight_fraction_leaf=0.0, n_estimators=10, n_jobs=1,\n",
      "            oob_score=False, random_state=None, verbose=0,\n",
      "            warm_start=False)\n",
      "Accuracy:  0.926229508197\n",
      "Recall:  0.991228070175\n",
      "Precision:  0.933884297521\n",
      "Top 20 Most Important Features: \n",
      "great\n",
      "long\n",
      "waterfall\n",
      "place\n",
      "good\n",
      "trip\n",
      "hike\n",
      "really\n",
      "trail\n",
      "walk\n",
      "GradientBoostingClassifier(init=None, learning_rate=0.1, loss='deviance',\n",
      "              max_depth=3, max_features=None, max_leaf_nodes=None,\n",
      "              min_samples_leaf=1, min_samples_split=2,\n",
      "              min_weight_fraction_leaf=0.0, n_estimators=100,\n",
      "              presort='auto', random_state=None, subsample=1.0, verbose=0,\n",
      "              warm_start=False)\n",
      "Accuracy:  0.926229508197\n",
      "Recall:  0.991228070175\n",
      "Precision:  0.933884297521\n",
      "Top 20 Most Important Features: \n",
      "day hike\n",
      "great\n",
      "awesome\n",
      "hike\n",
      "waterfall\n",
      "really\n",
      "ll\n",
      "trip\n",
      "lot\n",
      "trail\n",
      "AdaBoostClassifier(algorithm='SAMME.R', base_estimator=None,\n",
      "          learning_rate=1.0, n_estimators=50, random_state=None)\n",
      "Accuracy:  0.918032786885\n",
      "Recall:  0.982456140351\n",
      "Precision:  0.933333333333\n",
      "Top 20 Most Important Features: \n",
      "miles\n",
      "definitely\n",
      "day\n",
      "waterfall\n",
      "nice\n",
      "good\n",
      "day hike\n",
      "place\n",
      "hike\n",
      "trail\n"
     ]
    }
   ],
   "source": [
    "X = df['Text']\n",
    "y = df['Positive']\n",
    "X_train, X_test, y_train, y_test = train_test_split(X, y, random_state=0)\n",
    "\n",
    "tfidf = TfidfVectorizer(stop_words='english', ngram_range=[1,2], max_df=0.5, max_features=100).fit(X_train)\n",
    "X_train = tfidf.transform(X_train)\n",
    "bag_o_words = tfidf.get_feature_names()\n",
    "X_test = tfidf.transform(X_test)\n",
    "for model in [RandomForestClassifier(), GradientBoostingClassifier(), AdaBoostClassifier()]:\n",
    "    mod = model.fit(X_train, y_train)\n",
    "    print str(model)\n",
    "    prettyPrint(model, X_test, y_test)"
   ]
  },
  {
   "cell_type": "markdown",
   "metadata": {},
   "source": [
    "## Vectorizing again\n",
    "    * max_df=0.5\n",
    "    * max_features=100\n",
    "    * bigrams"
   ]
  },
  {
   "cell_type": "code",
   "execution_count": 10,
   "metadata": {
    "collapsed": false
   },
   "outputs": [
    {
     "name": "stdout",
     "output_type": "stream",
     "text": [
      "RandomForestClassifier(bootstrap=True, class_weight=None, criterion='gini',\n",
      "            max_depth=None, max_features='auto', max_leaf_nodes=None,\n",
      "            min_samples_leaf=1, min_samples_split=2,\n",
      "            min_weight_fraction_leaf=0.0, n_estimators=10, n_jobs=1,\n",
      "            oob_score=False, random_state=None, verbose=0,\n",
      "            warm_start=False)\n",
      "Accuracy:  0.926229508197\n",
      "Recall:  0.991228070175\n",
      "Precision:  0.933884297521\n",
      "Top 20 Most Important Features: \n",
      "walk\n",
      "springs\n",
      "trail\n",
      "awesome\n",
      "nice\n",
      "trip\n",
      "left\n",
      "place\n",
      "past\n",
      "hike\n",
      "GradientBoostingClassifier(init=None, learning_rate=0.1, loss='deviance',\n",
      "              max_depth=3, max_features=None, max_leaf_nodes=None,\n",
      "              min_samples_leaf=1, min_samples_split=2,\n",
      "              min_weight_fraction_leaf=0.0, n_estimators=100,\n",
      "              presort='auto', random_state=None, subsample=1.0, verbose=0,\n",
      "              warm_start=False)\n",
      "Accuracy:  0.926229508197\n",
      "Recall:  0.991228070175\n",
      "Precision:  0.933884297521\n",
      "Top 20 Most Important Features: \n",
      "day\n",
      "love\n",
      "springs\n",
      "entire\n",
      "awesome\n",
      "waterfall\n",
      "past\n",
      "really\n",
      "trail\n",
      "trip\n",
      "AdaBoostClassifier(algorithm='SAMME.R', base_estimator=None,\n",
      "          learning_rate=1.0, n_estimators=50, random_state=None)\n",
      "Accuracy:  0.926229508197\n",
      "Recall:  0.991228070175\n",
      "Precision:  0.933884297521\n",
      "Top 20 Most Important Features: \n",
      "waterfalls\n",
      "entire\n",
      "really\n",
      "love\n",
      "day\n",
      "trip\n",
      "nice\n",
      "time\n",
      "place\n",
      "awesome\n"
     ]
    }
   ],
   "source": [
    "X = df['Text']\n",
    "y = df['Positive']\n",
    "X_train, X_test, y_train, y_test = train_test_split(X, y, random_state=0)\n",
    "\n",
    "tfidf = TfidfVectorizer(stop_words='english', ngram_range=[1,3], max_df=0.5, max_features=150).fit(X_train)\n",
    "X_train = tfidf.transform(X_train)\n",
    "bag_o_words = tfidf.get_feature_names()\n",
    "X_test = tfidf.transform(X_test)\n",
    "for model in [RandomForestClassifier(), GradientBoostingClassifier(), AdaBoostClassifier()]:\n",
    "    mod = model.fit(X_train, y_train)\n",
    "    print str(model)\n",
    "    prettyPrint(model, X_test, y_test)"
   ]
  },
  {
   "cell_type": "markdown",
   "metadata": {},
   "source": [
    "## Attempting with Multinomial Bayes Base For ADAboosted model\n",
    "\n",
    "http://www.aclweb.org/anthology/S14-2018"
   ]
  },
  {
   "cell_type": "code",
   "execution_count": 11,
   "metadata": {
    "collapsed": false
   },
   "outputs": [
    {
     "name": "stdout",
     "output_type": "stream",
     "text": [
      "AdaBoostClassifier(algorithm='SAMME.R',\n",
      "          base_estimator=MultinomialNB(alpha=1.0, class_prior=None, fit_prior=True),\n",
      "          learning_rate=1.0, n_estimators=50, random_state=None)\n",
      "Accuracy:  0.934426229508\n",
      "Recall:  1.0\n",
      "Precision:  0.934426229508\n",
      "--------------------------------------------------------------------------\n",
      "AdaBoostClassifier(algorithm='SAMME.R', base_estimator=None,\n",
      "          learning_rate=1.0, n_estimators=50, random_state=None)\n",
      "Accuracy:  0.926229508197\n",
      "Recall:  0.991228070175\n",
      "Precision:  0.933884297521\n",
      "--------------------------------------------------------------------------\n"
     ]
    }
   ],
   "source": [
    "X = df['Text']\n",
    "y = df['Positive']\n",
    "X_train, X_test, y_train, y_test = train_test_split(X, y, random_state=0)\n",
    "\n",
    "tfidf = TfidfVectorizer(stop_words='english', max_df=0.1, max_features=100).fit(X_train)\n",
    "X_train = tfidf.transform(X_train)\n",
    "bag_o_words = tfidf.get_feature_names()\n",
    "X_test = tfidf.transform(X_test)\n",
    "for model in [AdaBoostClassifier(base_estimator=MultinomialNB()), AdaBoostClassifier()]:\n",
    "    mod = model.fit(X_train, y_train)\n",
    "    print str(model)\n",
    "    prettyPrint(model, X_test, y_test, with_words=False)\n",
    "    print \"--------------------------------------------------------------------------\""
   ]
  },
  {
   "cell_type": "markdown",
   "metadata": {},
   "source": [
    "## Attempting with Multinomial Bayes Base For ADAboosted model\n",
    " with bigrams and trigrams"
   ]
  },
  {
   "cell_type": "code",
   "execution_count": 12,
   "metadata": {
    "collapsed": false
   },
   "outputs": [
    {
     "name": "stdout",
     "output_type": "stream",
     "text": [
      "AdaBoostClassifier(algorithm='SAMME.R',\n",
      "          base_estimator=MultinomialNB(alpha=1.0, class_prior=None, fit_prior=True),\n",
      "          learning_rate=1.0, n_estimators=50, random_state=None)\n",
      "Accuracy:  0.934426229508\n",
      "Recall:  1.0\n",
      "Precision:  0.934426229508\n",
      "--------------------------------------------------------------------------\n",
      "AdaBoostClassifier(algorithm='SAMME.R', base_estimator=None,\n",
      "          learning_rate=1.0, n_estimators=50, random_state=None)\n",
      "Accuracy:  0.926229508197\n",
      "Recall:  0.991228070175\n",
      "Precision:  0.933884297521\n",
      "--------------------------------------------------------------------------\n"
     ]
    }
   ],
   "source": [
    "X = df['Text']\n",
    "y = df['Positive']\n",
    "X_train, X_test, y_train, y_test = train_test_split(X, y, random_state=0)\n",
    "\n",
    "tfidf = TfidfVectorizer(stop_words='english', max_df=0.1, max_features=100).fit(X_train)\n",
    "X_train = tfidf.transform(X_train)\n",
    "bag_o_words = tfidf.get_feature_names()\n",
    "X_test = tfidf.transform(X_test)\n",
    "for model in [AdaBoostClassifier(base_estimator=MultinomialNB()), AdaBoostClassifier()]:\n",
    "    mod = model.fit(X_train, y_train)\n",
    "    print str(model)\n",
    "    prettyPrint(model, X_test, y_test, with_words=False)\n",
    "    print \"--------------------------------------------------------------------------\""
   ]
  },
  {
   "cell_type": "markdown",
   "metadata": {},
   "source": [
    "## Time for some GridSearching!\n"
   ]
  },
  {
   "cell_type": "code",
   "execution_count": 13,
   "metadata": {
    "collapsed": true
   },
   "outputs": [],
   "source": [
    "from sklearn.grid_search import GridSearchCV"
   ]
  },
  {
   "cell_type": "code",
   "execution_count": 14,
   "metadata": {
    "collapsed": false
   },
   "outputs": [
    {
     "data": {
      "text/plain": [
       "AdaBoostClassifier(algorithm='SAMME.R', base_estimator=None,\n",
       "          learning_rate=1.0, n_estimators=50, random_state=None)"
      ]
     },
     "execution_count": 14,
     "metadata": {},
     "output_type": "execute_result"
    }
   ],
   "source": [
    "AdaBoostClassifier()"
   ]
  },
  {
   "cell_type": "code",
   "execution_count": 15,
   "metadata": {
    "collapsed": false
   },
   "outputs": [
    {
     "data": {
      "text/plain": [
       "GridSearchCV(cv=5, error_score='raise',\n",
       "       estimator=AdaBoostClassifier(algorithm='SAMME.R',\n",
       "          base_estimator=MultinomialNB(alpha=1.0, class_prior=None, fit_prior=True),\n",
       "          learning_rate=1.0, n_estimators=50, random_state=None),\n",
       "       fit_params={}, iid=True, n_jobs=1,\n",
       "       param_grid=[{'n_estimators': [50, 100, 150, 500], 'learning_rate': [0.25, 0.5, 0.75, 1]}],\n",
       "       pre_dispatch='2*n_jobs', refit=True, scoring=None, verbose=0)"
      ]
     },
     "execution_count": 15,
     "metadata": {},
     "output_type": "execute_result"
    }
   ],
   "source": [
    "X = df['Text']\n",
    "y = df['Positive']\n",
    "X_train, X_test, y_train, y_test = train_test_split(X, y, random_state=0)\n",
    "\n",
    "tfidf = TfidfVectorizer(stop_words='english', ngram_range=[1,3], max_df=0.1, max_features=100).fit(X_train)\n",
    "X_train = tfidf.transform(X_train)\n",
    "bag_o_words = tfidf.get_feature_names()\n",
    "X_test = tfidf.transform(X_test)\n",
    "tuning_params = [{'learning_rate': [0.25,0.5,0.75,1], 'n_estimators': [50, 100, 150, 500]}]\n",
    "clf = GridSearchCV(AdaBoostClassifier(base_estimator=MultinomialNB()), tuning_params, cv=5)\n",
    "clf.fit(X_train, y_train)"
   ]
  },
  {
   "cell_type": "code",
   "execution_count": 16,
   "metadata": {
    "collapsed": false
   },
   "outputs": [
    {
     "data": {
      "text/plain": [
       "{'learning_rate': 0.25, 'n_estimators': 50}"
      ]
     },
     "execution_count": 16,
     "metadata": {},
     "output_type": "execute_result"
    }
   ],
   "source": [
    "clf.best_params_"
   ]
  },
  {
   "cell_type": "markdown",
   "metadata": {},
   "source": [
    "## Pickling time"
   ]
  },
  {
   "cell_type": "code",
   "execution_count": 17,
   "metadata": {
    "collapsed": true
   },
   "outputs": [],
   "source": [
    "import cPickle as pickle"
   ]
  },
  {
   "cell_type": "code",
   "execution_count": 18,
   "metadata": {
    "collapsed": false
   },
   "outputs": [],
   "source": [
    "X = df['Text']\n",
    "y = df['Positive']\n",
    "X_train, X_test, y_train, y_test = train_test_split(X, y, random_state=0)\n",
    "\n",
    "tfidf = TfidfVectorizer(stop_words='english', ngram_range=[1,3], max_df=0.1, max_features=100).fit(X_train)\n",
    "X_train = tfidf.transform(X_train)\n",
    "\n",
    "with open('../pickle/vectorizer.pkl', 'wb') as fid:\n",
    "    pickle.dump(tfidf, fid)  \n",
    "    \n",
    "model = AdaBoostClassifier(base_estimator=MultinomialNB(), learning_rate=0.25, n_estimators=50)\n",
    "model = model.fit(X_train, y_train)\n",
    "with open('../pickle/SAmodel.pkl', 'wb') as fid:\n",
    "    pickle.dump(model, fid)"
   ]
  },
  {
   "cell_type": "code",
   "execution_count": null,
   "metadata": {
    "collapsed": true
   },
   "outputs": [],
   "source": []
  }
 ],
 "metadata": {
  "kernelspec": {
   "display_name": "Python 2",
   "language": "python",
   "name": "python2"
  },
  "language_info": {
   "codemirror_mode": {
    "name": "ipython",
    "version": 2
   },
   "file_extension": ".py",
   "mimetype": "text/x-python",
   "name": "python",
   "nbconvert_exporter": "python",
   "pygments_lexer": "ipython2",
   "version": "2.7.12"
  }
 },
 "nbformat": 4,
 "nbformat_minor": 0
}
