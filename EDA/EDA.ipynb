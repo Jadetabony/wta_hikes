{
 "cells": [
  {
   "cell_type": "code",
   "execution_count": 10,
   "metadata": {
    "collapsed": true
   },
   "outputs": [],
   "source": [
    "import pandas as pd\n",
    "import numpy as np\n",
    "import matplotlib.pyplot as plt\n",
    "import seaborn as sns\n",
    "from pymongo import MongoClient\n",
    "import seaborn as sns\n",
    "sns.set_style('whitegrid')\n",
    "%matplotlib inline"
   ]
  },
  {
   "cell_type": "code",
   "execution_count": 7,
   "metadata": {
    "collapsed": false
   },
   "outputs": [],
   "source": [
    "data = pd.read_csv('../data/washington_hikes_clean.csv')"
   ]
  },
  {
   "cell_type": "code",
   "execution_count": 8,
   "metadata": {
    "collapsed": false
   },
   "outputs": [
    {
     "data": {
      "text/html": [
       "<div>\n",
       "<table border=\"1\" class=\"dataframe\">\n",
       "  <thead>\n",
       "    <tr style=\"text-align: right;\">\n",
       "      <th></th>\n",
       "      <th>Unnamed: 0</th>\n",
       "      <th>hike_name</th>\n",
       "      <th>region</th>\n",
       "      <th>length</th>\n",
       "      <th>elevation gain</th>\n",
       "      <th>rating</th>\n",
       "      <th>number_votes</th>\n",
       "      <th>features</th>\n",
       "      <th>pass(0-no pass, 1- pass required)</th>\n",
       "      <th>which_pass</th>\n",
       "      <th>time_from_seattle</th>\n",
       "      <th>url</th>\n",
       "      <th>latlong</th>\n",
       "      <th>numReports</th>\n",
       "      <th>hike_desc</th>\n",
       "      <th>stars</th>\n",
       "      <th>total_dist</th>\n",
       "      <th>lat_long</th>\n",
       "    </tr>\n",
       "  </thead>\n",
       "  <tbody>\n",
       "    <tr>\n",
       "      <th>0</th>\n",
       "      <td>0</td>\n",
       "      <td>Grand Park via Lake Eleanor</td>\n",
       "      <td>Mount Rainier Area -- NE - Sunrise/White River</td>\n",
       "      <td>8.0 miles, roundtrip</td>\n",
       "      <td>1100.0</td>\n",
       "      <td>4.25 out of 5</td>\n",
       "      <td>12.0</td>\n",
       "      <td>[Mountain views, Wildlife, Established campsites]</td>\n",
       "      <td>0</td>\n",
       "      <td>No pass or permit required</td>\n",
       "      <td>116.533333</td>\n",
       "      <td>http://www.wta.org/go-hiking/hikes/grand-park</td>\n",
       "      <td>http://maps.google.com/maps?hl=en&amp;sz=11&amp;spn=0....</td>\n",
       "      <td>212.0</td>\n",
       "      <td>The classic approach (via Sunrise) to this sea...</td>\n",
       "      <td>4.25</td>\n",
       "      <td>8.0</td>\n",
       "      <td>46.9963,-121.6413</td>\n",
       "    </tr>\n",
       "    <tr>\n",
       "      <th>1</th>\n",
       "      <td>1</td>\n",
       "      <td>Shellrock Pass</td>\n",
       "      <td>North Cascades -- Pasayten</td>\n",
       "      <td>NaN</td>\n",
       "      <td>NaN</td>\n",
       "      <td>2.33 out of 5</td>\n",
       "      <td>3.0</td>\n",
       "      <td>[Dogs allowed on leash]</td>\n",
       "      <td>0</td>\n",
       "      <td>No pass or permit required</td>\n",
       "      <td>NaN</td>\n",
       "      <td>http://www.wta.org/go-hiking/hikes/shellrock-pass</td>\n",
       "      <td>NaN</td>\n",
       "      <td>2.0</td>\n",
       "      <td>The Shellrock Pass trail has not been maintain...</td>\n",
       "      <td>2.33</td>\n",
       "      <td>NaN</td>\n",
       "      <td>NaN</td>\n",
       "    </tr>\n",
       "    <tr>\n",
       "      <th>2</th>\n",
       "      <td>2</td>\n",
       "      <td>Soda Peaks Lake</td>\n",
       "      <td>Southwest Washington -- Lewis River Region</td>\n",
       "      <td>7.0 miles, roundtrip</td>\n",
       "      <td>2500.0</td>\n",
       "      <td>3.00 out of 5</td>\n",
       "      <td>4.0</td>\n",
       "      <td>[Old growth, Lakes]</td>\n",
       "      <td>1</td>\n",
       "      <td>Northwest Forest Pass required</td>\n",
       "      <td>227.333333</td>\n",
       "      <td>http://www.wta.org/go-hiking/hikes/soda-peaks-...</td>\n",
       "      <td>http://maps.google.com/maps?hl=en&amp;sz=11&amp;spn=0....</td>\n",
       "      <td>24.0</td>\n",
       "      <td>Take a trip to a seldom-seen part of the South...</td>\n",
       "      <td>3.00</td>\n",
       "      <td>7.0</td>\n",
       "      <td>45.8846,-122.0001</td>\n",
       "    </tr>\n",
       "    <tr>\n",
       "      <th>3</th>\n",
       "      <td>3</td>\n",
       "      <td>Shorthorn</td>\n",
       "      <td>South Cascades -- Mount Adams Area</td>\n",
       "      <td>5.6 miles, roundtrip</td>\n",
       "      <td>1400.0</td>\n",
       "      <td>3.67 out of 5</td>\n",
       "      <td>3.0</td>\n",
       "      <td>[Mountain views, Dogs allowed on leash]</td>\n",
       "      <td>1</td>\n",
       "      <td>Northwest Forest Pass required</td>\n",
       "      <td>207.433333</td>\n",
       "      <td>http://www.wta.org/go-hiking/hikes/shorthorn</td>\n",
       "      <td>http://maps.google.com/maps?hl=en&amp;sz=11&amp;spn=0....</td>\n",
       "      <td>5.0</td>\n",
       "      <td>This trail ascends the south slopes of Mount A...</td>\n",
       "      <td>3.67</td>\n",
       "      <td>5.6</td>\n",
       "      <td>46.1989,-121.0593</td>\n",
       "    </tr>\n",
       "    <tr>\n",
       "      <th>4</th>\n",
       "      <td>4</td>\n",
       "      <td>West Fork Teanaway River</td>\n",
       "      <td>Snoqualmie Region -- Salmon La Sac/Teanaway</td>\n",
       "      <td>9.6 miles, one-way</td>\n",
       "      <td>2800.0</td>\n",
       "      <td>2.75 out of 5</td>\n",
       "      <td>4.0</td>\n",
       "      <td>[Ridges/passes, Wildlife, Established campsite...</td>\n",
       "      <td>1</td>\n",
       "      <td>Northwest Forest Pass required</td>\n",
       "      <td>115.750000</td>\n",
       "      <td>http://www.wta.org/go-hiking/hikes/west-fork-t...</td>\n",
       "      <td>http://maps.google.com/maps?hl=en&amp;sz=11&amp;spn=0....</td>\n",
       "      <td>5.0</td>\n",
       "      <td>The West Fork Teanaway Trail begins at Forest ...</td>\n",
       "      <td>2.75</td>\n",
       "      <td>19.2</td>\n",
       "      <td>47.2915,-121.0064</td>\n",
       "    </tr>\n",
       "  </tbody>\n",
       "</table>\n",
       "</div>"
      ],
      "text/plain": [
       "   Unnamed: 0                    hike_name  \\\n",
       "0           0  Grand Park via Lake Eleanor   \n",
       "1           1               Shellrock Pass   \n",
       "2           2              Soda Peaks Lake   \n",
       "3           3                    Shorthorn   \n",
       "4           4     West Fork Teanaway River   \n",
       "\n",
       "                                           region                length  \\\n",
       "0  Mount Rainier Area -- NE - Sunrise/White River  8.0 miles, roundtrip   \n",
       "1                      North Cascades -- Pasayten                   NaN   \n",
       "2      Southwest Washington -- Lewis River Region  7.0 miles, roundtrip   \n",
       "3              South Cascades -- Mount Adams Area  5.6 miles, roundtrip   \n",
       "4     Snoqualmie Region -- Salmon La Sac/Teanaway    9.6 miles, one-way   \n",
       "\n",
       "   elevation gain         rating  number_votes  \\\n",
       "0          1100.0  4.25 out of 5          12.0   \n",
       "1             NaN  2.33 out of 5           3.0   \n",
       "2          2500.0  3.00 out of 5           4.0   \n",
       "3          1400.0  3.67 out of 5           3.0   \n",
       "4          2800.0  2.75 out of 5           4.0   \n",
       "\n",
       "                                            features  \\\n",
       "0  [Mountain views, Wildlife, Established campsites]   \n",
       "1                            [Dogs allowed on leash]   \n",
       "2                                [Old growth, Lakes]   \n",
       "3            [Mountain views, Dogs allowed on leash]   \n",
       "4  [Ridges/passes, Wildlife, Established campsite...   \n",
       "\n",
       "   pass(0-no pass, 1- pass required)                      which_pass  \\\n",
       "0                                  0      No pass or permit required   \n",
       "1                                  0      No pass or permit required   \n",
       "2                                  1  Northwest Forest Pass required   \n",
       "3                                  1  Northwest Forest Pass required   \n",
       "4                                  1  Northwest Forest Pass required   \n",
       "\n",
       "   time_from_seattle                                                url  \\\n",
       "0         116.533333      http://www.wta.org/go-hiking/hikes/grand-park   \n",
       "1                NaN  http://www.wta.org/go-hiking/hikes/shellrock-pass   \n",
       "2         227.333333  http://www.wta.org/go-hiking/hikes/soda-peaks-...   \n",
       "3         207.433333       http://www.wta.org/go-hiking/hikes/shorthorn   \n",
       "4         115.750000  http://www.wta.org/go-hiking/hikes/west-fork-t...   \n",
       "\n",
       "                                             latlong  numReports  \\\n",
       "0  http://maps.google.com/maps?hl=en&sz=11&spn=0....       212.0   \n",
       "1                                                NaN         2.0   \n",
       "2  http://maps.google.com/maps?hl=en&sz=11&spn=0....        24.0   \n",
       "3  http://maps.google.com/maps?hl=en&sz=11&spn=0....         5.0   \n",
       "4  http://maps.google.com/maps?hl=en&sz=11&spn=0....         5.0   \n",
       "\n",
       "                                           hike_desc  stars  total_dist  \\\n",
       "0  The classic approach (via Sunrise) to this sea...   4.25         8.0   \n",
       "1  The Shellrock Pass trail has not been maintain...   2.33         NaN   \n",
       "2  Take a trip to a seldom-seen part of the South...   3.00         7.0   \n",
       "3  This trail ascends the south slopes of Mount A...   3.67         5.6   \n",
       "4  The West Fork Teanaway Trail begins at Forest ...   2.75        19.2   \n",
       "\n",
       "            lat_long  \n",
       "0  46.9963,-121.6413  \n",
       "1                NaN  \n",
       "2  45.8846,-122.0001  \n",
       "3  46.1989,-121.0593  \n",
       "4  47.2915,-121.0064  "
      ]
     },
     "execution_count": 8,
     "metadata": {},
     "output_type": "execute_result"
    }
   ],
   "source": [
    "data.head()"
   ]
  },
  {
   "cell_type": "code",
   "execution_count": 9,
   "metadata": {
    "collapsed": false
   },
   "outputs": [
    {
     "name": "stdout",
     "output_type": "stream",
     "text": [
      "<class 'pandas.core.frame.DataFrame'>\n",
      "RangeIndex: 3385 entries, 0 to 3384\n",
      "Data columns (total 18 columns):\n",
      "Unnamed: 0                           3385 non-null int64\n",
      "hike_name                            3385 non-null object\n",
      "region                               3383 non-null object\n",
      "length                               1593 non-null object\n",
      "elevation gain                       1593 non-null float64\n",
      "rating                               3384 non-null object\n",
      "number_votes                         3384 non-null float64\n",
      "features                             3385 non-null object\n",
      "pass(0-no pass, 1- pass required)    3385 non-null int64\n",
      "which_pass                           1520 non-null object\n",
      "time_from_seattle                    2136 non-null float64\n",
      "url                                  3385 non-null object\n",
      "latlong                              2194 non-null object\n",
      "numReports                           3384 non-null float64\n",
      "hike_desc                            1444 non-null object\n",
      "stars                                3384 non-null float64\n",
      "total_dist                           1593 non-null float64\n",
      "lat_long                             2194 non-null object\n",
      "dtypes: float64(6), int64(2), object(10)\n",
      "memory usage: 476.1+ KB\n"
     ]
    }
   ],
   "source": [
    "data.info()"
   ]
  },
  {
   "cell_type": "code",
   "execution_count": 7,
   "metadata": {
    "collapsed": false
   },
   "outputs": [
    {
     "data": {
      "text/plain": [
       "array([[<matplotlib.axes._subplots.AxesSubplot object at 0x1148e2210>]], dtype=object)"
      ]
     },
     "execution_count": 7,
     "metadata": {},
     "output_type": "execute_result"
    },
    {
     "data": {
      "image/png": "[encoded data removed]",
      "text/plain": [
       "<matplotlib.figure.Figure at 0x103741850>"
      ]
     },
     "metadata": {},
     "output_type": "display_data"
    }
   ],
   "source": [
    "data.hist(column='total_dist', bins=50)"
   ]
  },
  {
   "cell_type": "code",
   "execution_count": 11,
   "metadata": {
    "collapsed": false
   },
   "outputs": [
    {
     "data": {
      "text/plain": [
       "array([[<matplotlib.axes._subplots.AxesSubplot object at 0x118529510>]], dtype=object)"
      ]
     },
     "execution_count": 11,
     "metadata": {},
     "output_type": "execute_result"
    },
    {
     "data": {
      "image/png": "[encoded data removed]",
      "text/plain": [
       "<matplotlib.figure.Figure at 0x1040b34d0>"
      ]
     },
     "metadata": {},
     "output_type": "display_data"
    }
   ],
   "source": [
    "data.hist(column='elevation gain', bins=50)"
   ]
  },
  {
   "cell_type": "code",
   "execution_count": 15,
   "metadata": {
    "collapsed": true
   },
   "outputs": [],
   "source": [
    "stars = data['stars'].dropna()"
   ]
  },
  {
   "cell_type": "code",
   "execution_count": 28,
   "metadata": {
    "collapsed": false
   },
   "outputs": [
    {
     "data": {
      "text/plain": [
       "<matplotlib.text.Text at 0x11862ac90>"
      ]
     },
     "execution_count": 28,
     "metadata": {},
     "output_type": "execute_result"
    },
    {
     "data": {
      "image/png": "[encoded data removed]",
      "text/plain": [
       "<matplotlib.figure.Figure at 0x1187e9110>"
      ]
     },
     "metadata": {},
     "output_type": "display_data"
    }
   ],
   "source": [
    "plt.figure(figsize=(8,6))\n",
    "plt.hist(stars, color='green', bins=20)\n",
    "plt.xlabel('Star Reviews')"
   ]
  },
  {
   "cell_type": "code",
   "execution_count": 12,
   "metadata": {
    "collapsed": false
   },
   "outputs": [
    {
     "data": {
      "text/html": [
       "<div>\n",
       "<table border=\"1\" class=\"dataframe\">\n",
       "  <thead>\n",
       "    <tr style=\"text-align: right;\">\n",
       "      <th></th>\n",
       "      <th>hike_name</th>\n",
       "      <th>region</th>\n",
       "      <th>length</th>\n",
       "      <th>elevation gain</th>\n",
       "      <th>rating</th>\n",
       "      <th>number_votes</th>\n",
       "      <th>features</th>\n",
       "      <th>pass(0-no pass, 1- pass required)</th>\n",
       "      <th>which_pass</th>\n",
       "      <th>time_from_seattle</th>\n",
       "      <th>url</th>\n",
       "      <th>latlong</th>\n",
       "      <th>numReports</th>\n",
       "      <th>hike_desc</th>\n",
       "      <th>stars</th>\n",
       "      <th>total_dist</th>\n",
       "      <th>lat_long</th>\n",
       "    </tr>\n",
       "  </thead>\n",
       "  <tbody>\n",
       "    <tr>\n",
       "      <th>37</th>\n",
       "      <td>Boundary Trail - Pasayten</td>\n",
       "      <td>North Cascades -- Pasayten</td>\n",
       "      <td>80.0 miles, roundtrip</td>\n",
       "      <td>9000.0</td>\n",
       "      <td>3.25 out of 5</td>\n",
       "      <td>4.0</td>\n",
       "      <td>[Dogs allowed on leash, Ridges/passes, Summits...</td>\n",
       "      <td>1</td>\n",
       "      <td>Northwest Forest Pass required</td>\n",
       "      <td>337.600000</td>\n",
       "      <td>http://www.wta.org/go-hiking/hikes/boundary-tr...</td>\n",
       "      <td>http://maps.google.com/maps?hl=en&amp;sz=11&amp;spn=0....</td>\n",
       "      <td>33.0</td>\n",
       "      <td>Hiking the Boundary Trail is an adventure on m...</td>\n",
       "      <td>3.25</td>\n",
       "      <td>80.0</td>\n",
       "      <td>48.8848,-119.8667</td>\n",
       "    </tr>\n",
       "    <tr>\n",
       "      <th>156</th>\n",
       "      <td>Thunder Creek - Park Creek</td>\n",
       "      <td>North Cascades -- North Cascades Highway - Hwy 20</td>\n",
       "      <td>55.2 miles, roundtrip</td>\n",
       "      <td>9800.0</td>\n",
       "      <td>2.75 out of 5</td>\n",
       "      <td>4.0</td>\n",
       "      <td>[Wildlife, Rivers, Wildflowers/Meadows, Mounta...</td>\n",
       "      <td>1</td>\n",
       "      <td>NaN</td>\n",
       "      <td>148.800000</td>\n",
       "      <td>http://www.wta.org/go-hiking/hikes/park-creek-...</td>\n",
       "      <td>http://maps.google.com/maps?hl=en&amp;sz=11&amp;spn=0....</td>\n",
       "      <td>16.0</td>\n",
       "      <td>Note: The bridge over Thunder Creek located 14...</td>\n",
       "      <td>2.75</td>\n",
       "      <td>55.2</td>\n",
       "      <td>48.6925,-121.0978</td>\n",
       "    </tr>\n",
       "    <tr>\n",
       "      <th>281</th>\n",
       "      <td>Pacific Crest Trail (PCT) Section L - Rainy Pa...</td>\n",
       "      <td>North Cascades</td>\n",
       "      <td>70.3 miles, one-way</td>\n",
       "      <td>13649.0</td>\n",
       "      <td>3.50 out of 5</td>\n",
       "      <td>6.0</td>\n",
       "      <td>[Fall foliage]</td>\n",
       "      <td>1</td>\n",
       "      <td>NaN</td>\n",
       "      <td>180.833333</td>\n",
       "      <td>http://www.wta.org/go-hiking/hikes/pacific-cre...</td>\n",
       "      <td>http://maps.google.com/maps?hl=en&amp;sz=11&amp;spn=0....</td>\n",
       "      <td>33.0</td>\n",
       "      <td>After passing through the North Cascades Natio...</td>\n",
       "      <td>3.50</td>\n",
       "      <td>140.6</td>\n",
       "      <td>48.5180,-120.7352</td>\n",
       "    </tr>\n",
       "    <tr>\n",
       "      <th>783</th>\n",
       "      <td>Dark Peak</td>\n",
       "      <td>Central Cascades -- Entiat Mountains/Lake Chelan</td>\n",
       "      <td>16.0 miles, roundtrip</td>\n",
       "      <td>8513.0</td>\n",
       "      <td>0.00 out of 5</td>\n",
       "      <td>0.0</td>\n",
       "      <td>[Old growth, Summits, Lakes]</td>\n",
       "      <td>0</td>\n",
       "      <td>No pass or permit required</td>\n",
       "      <td>193.150000</td>\n",
       "      <td>http://www.wta.org/go-hiking/hikes/dark-peak</td>\n",
       "      <td>http://maps.google.com/maps?hl=en&amp;sz=11&amp;spn=0....</td>\n",
       "      <td>1.0</td>\n",
       "      <td>A scramble and climb in the North Cascades acc...</td>\n",
       "      <td>0.00</td>\n",
       "      <td>16.0</td>\n",
       "      <td>47.9696,-120.2158</td>\n",
       "    </tr>\n",
       "    <tr>\n",
       "      <th>784</th>\n",
       "      <td>Snowfield Peak</td>\n",
       "      <td>North Cascades -- North Cascades Highway - Hwy 20</td>\n",
       "      <td>22.0 miles, roundtrip</td>\n",
       "      <td>8357.0</td>\n",
       "      <td>0.00 out of 5</td>\n",
       "      <td>0.0</td>\n",
       "      <td>[]</td>\n",
       "      <td>0</td>\n",
       "      <td>No pass or permit required</td>\n",
       "      <td>NaN</td>\n",
       "      <td>http://www.wta.org/go-hiking/hikes/snowfield-peak</td>\n",
       "      <td>NaN</td>\n",
       "      <td>1.0</td>\n",
       "      <td>A climb in the North Cascades. Climbing gear, ...</td>\n",
       "      <td>0.00</td>\n",
       "      <td>22.0</td>\n",
       "      <td>NaN</td>\n",
       "    </tr>\n",
       "    <tr>\n",
       "      <th>791</th>\n",
       "      <td>Pacific Crest Trail (PCT) Section K - Stevens ...</td>\n",
       "      <td>North Cascades</td>\n",
       "      <td>117.5 miles, roundtrip</td>\n",
       "      <td>26351.0</td>\n",
       "      <td>4.00 out of 5</td>\n",
       "      <td>6.0</td>\n",
       "      <td>[Ridges/passes, Wildlife, Established campsite...</td>\n",
       "      <td>1</td>\n",
       "      <td>Northwest Forest Pass required</td>\n",
       "      <td>105.250000</td>\n",
       "      <td>http://www.wta.org/go-hiking/hikes/pacific-cre...</td>\n",
       "      <td>http://maps.google.com/maps?hl=en&amp;sz=11&amp;spn=0....</td>\n",
       "      <td>90.0</td>\n",
       "      <td>There's no two ways about it: Section K is tou...</td>\n",
       "      <td>4.00</td>\n",
       "      <td>117.5</td>\n",
       "      <td>47.7454,-121.0890</td>\n",
       "    </tr>\n",
       "    <tr>\n",
       "      <th>924</th>\n",
       "      <td>Copper Ridge Loop</td>\n",
       "      <td>North Cascades -- Mount Baker Area</td>\n",
       "      <td>34.0 miles, roundtrip</td>\n",
       "      <td>8600.0</td>\n",
       "      <td>5.00 out of 5</td>\n",
       "      <td>1.0</td>\n",
       "      <td>[Wildlife, Established campsites, Mountain vie...</td>\n",
       "      <td>1</td>\n",
       "      <td>Northwest Forest Pass required</td>\n",
       "      <td>166.516667</td>\n",
       "      <td>http://www.wta.org/go-hiking/hikes/copper-ridg...</td>\n",
       "      <td>http://maps.google.com/maps?hl=en&amp;sz=11&amp;spn=0....</td>\n",
       "      <td>4.0</td>\n",
       "      <td>Experience the variety offered by the North Ca...</td>\n",
       "      <td>5.00</td>\n",
       "      <td>34.0</td>\n",
       "      <td>48.9102,-121.5917</td>\n",
       "    </tr>\n",
       "    <tr>\n",
       "      <th>926</th>\n",
       "      <td>Pacific Crest Trail (PCT) Section J - Snoqualm...</td>\n",
       "      <td>Snoqualmie Region -- Snoqualmie Pass</td>\n",
       "      <td>74.7 miles, roundtrip</td>\n",
       "      <td>16000.0</td>\n",
       "      <td>4.33 out of 5</td>\n",
       "      <td>6.0</td>\n",
       "      <td>[Wildlife, Lakes, Rivers, Wildflowers/Meadows,...</td>\n",
       "      <td>1</td>\n",
       "      <td>Northwest Forest Pass required</td>\n",
       "      <td>50.950000</td>\n",
       "      <td>http://www.wta.org/go-hiking/hikes/pacific-cre...</td>\n",
       "      <td>http://maps.google.com/maps?hl=en&amp;sz=11&amp;spn=0....</td>\n",
       "      <td>105.0</td>\n",
       "      <td>Imagine not crossing a road for 75 miles! Back...</td>\n",
       "      <td>4.33</td>\n",
       "      <td>74.7</td>\n",
       "      <td>47.4278,-121.4135</td>\n",
       "    </tr>\n",
       "    <tr>\n",
       "      <th>1015</th>\n",
       "      <td>Pacific Crest Trail (PCT) Section H - Bridge o...</td>\n",
       "      <td>South Cascades</td>\n",
       "      <td>147.5 miles, roundtrip</td>\n",
       "      <td>27996.0</td>\n",
       "      <td>3.75 out of 5</td>\n",
       "      <td>4.0</td>\n",
       "      <td>[Wildlife, Summits, Lakes, Rivers, Wildflowers...</td>\n",
       "      <td>1</td>\n",
       "      <td>NaN</td>\n",
       "      <td>219.733333</td>\n",
       "      <td>http://www.wta.org/go-hiking/hikes/pacific-cre...</td>\n",
       "      <td>http://maps.google.com/maps?hl=en&amp;sz=11&amp;spn=0....</td>\n",
       "      <td>34.0</td>\n",
       "      <td>Offering spectacular views of the three southe...</td>\n",
       "      <td>3.75</td>\n",
       "      <td>147.5</td>\n",
       "      <td>45.8026,-121.9325</td>\n",
       "    </tr>\n",
       "    <tr>\n",
       "      <th>1205</th>\n",
       "      <td>Luna Peak</td>\n",
       "      <td>North Cascades -- North Cascades Highway - Hwy 20</td>\n",
       "      <td>36.5 miles, roundtrip</td>\n",
       "      <td>8009.0</td>\n",
       "      <td>0.00 out of 5</td>\n",
       "      <td>0.0</td>\n",
       "      <td>[Summits, Fall foliage]</td>\n",
       "      <td>1</td>\n",
       "      <td>National Park/Refuge entry fee required</td>\n",
       "      <td>NaN</td>\n",
       "      <td>http://www.wta.org/go-hiking/hikes/luna-peak</td>\n",
       "      <td>http://maps.google.com/maps?hl=en&amp;sz=11&amp;spn=0....</td>\n",
       "      <td>1.0</td>\n",
       "      <td>The tallest peak in the Picket Range of the No...</td>\n",
       "      <td>0.00</td>\n",
       "      <td>36.5</td>\n",
       "      <td>48.8784,-121.2527</td>\n",
       "    </tr>\n",
       "    <tr>\n",
       "      <th>1543</th>\n",
       "      <td>Wonderland Trail</td>\n",
       "      <td>Mount Rainier Area</td>\n",
       "      <td>93.0 miles, roundtrip</td>\n",
       "      <td>22000.0</td>\n",
       "      <td>0.00 out of 5</td>\n",
       "      <td>0.0</td>\n",
       "      <td>[Wildlife, Lakes, Rivers, Wildflowers/Meadows,...</td>\n",
       "      <td>1</td>\n",
       "      <td>National Park/Refuge entry fee required</td>\n",
       "      <td>143.750000</td>\n",
       "      <td>http://www.wta.org/go-hiking/hikes/wonderland-...</td>\n",
       "      <td>http://maps.google.com/maps?hl=en&amp;sz=11&amp;spn=0....</td>\n",
       "      <td>169.0</td>\n",
       "      <td>NaN</td>\n",
       "      <td>0.00</td>\n",
       "      <td>93.0</td>\n",
       "      <td>46.7849,-121.7351</td>\n",
       "    </tr>\n",
       "    <tr>\n",
       "      <th>1808</th>\n",
       "      <td>Pacific Crest Trail (PCT) Section I - White Pa...</td>\n",
       "      <td>South Cascades</td>\n",
       "      <td>99.0 miles, roundtrip</td>\n",
       "      <td>17771.0</td>\n",
       "      <td>3.17 out of 5</td>\n",
       "      <td>6.0</td>\n",
       "      <td>[Wildlife, Summits, Lakes, Rivers, Wildflowers...</td>\n",
       "      <td>1</td>\n",
       "      <td>NaN</td>\n",
       "      <td>150.816667</td>\n",
       "      <td>http://www.wta.org/go-hiking/hikes/pacific-cre...</td>\n",
       "      <td>http://maps.google.com/maps?hl=en&amp;sz=11&amp;spn=0....</td>\n",
       "      <td>54.0</td>\n",
       "      <td>NaN</td>\n",
       "      <td>3.17</td>\n",
       "      <td>99.0</td>\n",
       "      <td>46.6315,-121.4267</td>\n",
       "    </tr>\n",
       "  </tbody>\n",
       "</table>\n",
       "</div>"
      ],
      "text/plain": [
       "                                              hike_name  \\\n",
       "37                            Boundary Trail - Pasayten   \n",
       "156                          Thunder Creek - Park Creek   \n",
       "281   Pacific Crest Trail (PCT) Section L - Rainy Pa...   \n",
       "783                                           Dark Peak   \n",
       "784                                      Snowfield Peak   \n",
       "791   Pacific Crest Trail (PCT) Section K - Stevens ...   \n",
       "924                                   Copper Ridge Loop   \n",
       "926   Pacific Crest Trail (PCT) Section J - Snoqualm...   \n",
       "1015  Pacific Crest Trail (PCT) Section H - Bridge o...   \n",
       "1205                                          Luna Peak   \n",
       "1543                                   Wonderland Trail   \n",
       "1808  Pacific Crest Trail (PCT) Section I - White Pa...   \n",
       "\n",
       "                                                 region  \\\n",
       "37                           North Cascades -- Pasayten   \n",
       "156   North Cascades -- North Cascades Highway - Hwy 20   \n",
       "281                                      North Cascades   \n",
       "783    Central Cascades -- Entiat Mountains/Lake Chelan   \n",
       "784   North Cascades -- North Cascades Highway - Hwy 20   \n",
       "791                                      North Cascades   \n",
       "924                  North Cascades -- Mount Baker Area   \n",
       "926                Snoqualmie Region -- Snoqualmie Pass   \n",
       "1015                                     South Cascades   \n",
       "1205  North Cascades -- North Cascades Highway - Hwy 20   \n",
       "1543                                 Mount Rainier Area   \n",
       "1808                                     South Cascades   \n",
       "\n",
       "                      length  elevation gain         rating  number_votes  \\\n",
       "37     80.0 miles, roundtrip          9000.0  3.25 out of 5           4.0   \n",
       "156    55.2 miles, roundtrip          9800.0  2.75 out of 5           4.0   \n",
       "281      70.3 miles, one-way         13649.0  3.50 out of 5           6.0   \n",
       "783    16.0 miles, roundtrip          8513.0  0.00 out of 5           0.0   \n",
       "784    22.0 miles, roundtrip          8357.0  0.00 out of 5           0.0   \n",
       "791   117.5 miles, roundtrip         26351.0  4.00 out of 5           6.0   \n",
       "924    34.0 miles, roundtrip          8600.0  5.00 out of 5           1.0   \n",
       "926    74.7 miles, roundtrip         16000.0  4.33 out of 5           6.0   \n",
       "1015  147.5 miles, roundtrip         27996.0  3.75 out of 5           4.0   \n",
       "1205   36.5 miles, roundtrip          8009.0  0.00 out of 5           0.0   \n",
       "1543   93.0 miles, roundtrip         22000.0  0.00 out of 5           0.0   \n",
       "1808   99.0 miles, roundtrip         17771.0  3.17 out of 5           6.0   \n",
       "\n",
       "                                               features  \\\n",
       "37    [Dogs allowed on leash, Ridges/passes, Summits...   \n",
       "156   [Wildlife, Rivers, Wildflowers/Meadows, Mounta...   \n",
       "281                                      [Fall foliage]   \n",
       "783                        [Old growth, Summits, Lakes]   \n",
       "784                                                  []   \n",
       "791   [Ridges/passes, Wildlife, Established campsite...   \n",
       "924   [Wildlife, Established campsites, Mountain vie...   \n",
       "926   [Wildlife, Lakes, Rivers, Wildflowers/Meadows,...   \n",
       "1015  [Wildlife, Summits, Lakes, Rivers, Wildflowers...   \n",
       "1205                            [Summits, Fall foliage]   \n",
       "1543  [Wildlife, Lakes, Rivers, Wildflowers/Meadows,...   \n",
       "1808  [Wildlife, Summits, Lakes, Rivers, Wildflowers...   \n",
       "\n",
       "      pass(0-no pass, 1- pass required)  \\\n",
       "37                                    1   \n",
       "156                                   1   \n",
       "281                                   1   \n",
       "783                                   0   \n",
       "784                                   0   \n",
       "791                                   1   \n",
       "924                                   1   \n",
       "926                                   1   \n",
       "1015                                  1   \n",
       "1205                                  1   \n",
       "1543                                  1   \n",
       "1808                                  1   \n",
       "\n",
       "                                   which_pass  time_from_seattle  \\\n",
       "37             Northwest Forest Pass required         337.600000   \n",
       "156                                       NaN         148.800000   \n",
       "281                                       NaN         180.833333   \n",
       "783                No pass or permit required         193.150000   \n",
       "784                No pass or permit required                NaN   \n",
       "791            Northwest Forest Pass required         105.250000   \n",
       "924            Northwest Forest Pass required         166.516667   \n",
       "926            Northwest Forest Pass required          50.950000   \n",
       "1015                                      NaN         219.733333   \n",
       "1205  National Park/Refuge entry fee required                NaN   \n",
       "1543  National Park/Refuge entry fee required         143.750000   \n",
       "1808                                      NaN         150.816667   \n",
       "\n",
       "                                                    url  \\\n",
       "37    http://www.wta.org/go-hiking/hikes/boundary-tr...   \n",
       "156   http://www.wta.org/go-hiking/hikes/park-creek-...   \n",
       "281   http://www.wta.org/go-hiking/hikes/pacific-cre...   \n",
       "783        http://www.wta.org/go-hiking/hikes/dark-peak   \n",
       "784   http://www.wta.org/go-hiking/hikes/snowfield-peak   \n",
       "791   http://www.wta.org/go-hiking/hikes/pacific-cre...   \n",
       "924   http://www.wta.org/go-hiking/hikes/copper-ridg...   \n",
       "926   http://www.wta.org/go-hiking/hikes/pacific-cre...   \n",
       "1015  http://www.wta.org/go-hiking/hikes/pacific-cre...   \n",
       "1205       http://www.wta.org/go-hiking/hikes/luna-peak   \n",
       "1543  http://www.wta.org/go-hiking/hikes/wonderland-...   \n",
       "1808  http://www.wta.org/go-hiking/hikes/pacific-cre...   \n",
       "\n",
       "                                                latlong  numReports  \\\n",
       "37    http://maps.google.com/maps?hl=en&sz=11&spn=0....        33.0   \n",
       "156   http://maps.google.com/maps?hl=en&sz=11&spn=0....        16.0   \n",
       "281   http://maps.google.com/maps?hl=en&sz=11&spn=0....        33.0   \n",
       "783   http://maps.google.com/maps?hl=en&sz=11&spn=0....         1.0   \n",
       "784                                                 NaN         1.0   \n",
       "791   http://maps.google.com/maps?hl=en&sz=11&spn=0....        90.0   \n",
       "924   http://maps.google.com/maps?hl=en&sz=11&spn=0....         4.0   \n",
       "926   http://maps.google.com/maps?hl=en&sz=11&spn=0....       105.0   \n",
       "1015  http://maps.google.com/maps?hl=en&sz=11&spn=0....        34.0   \n",
       "1205  http://maps.google.com/maps?hl=en&sz=11&spn=0....         1.0   \n",
       "1543  http://maps.google.com/maps?hl=en&sz=11&spn=0....       169.0   \n",
       "1808  http://maps.google.com/maps?hl=en&sz=11&spn=0....        54.0   \n",
       "\n",
       "                                              hike_desc  stars  total_dist  \\\n",
       "37    Hiking the Boundary Trail is an adventure on m...   3.25        80.0   \n",
       "156   Note: The bridge over Thunder Creek located 14...   2.75        55.2   \n",
       "281   After passing through the North Cascades Natio...   3.50       140.6   \n",
       "783   A scramble and climb in the North Cascades acc...   0.00        16.0   \n",
       "784   A climb in the North Cascades. Climbing gear, ...   0.00        22.0   \n",
       "791   There's no two ways about it: Section K is tou...   4.00       117.5   \n",
       "924   Experience the variety offered by the North Ca...   5.00        34.0   \n",
       "926   Imagine not crossing a road for 75 miles! Back...   4.33        74.7   \n",
       "1015  Offering spectacular views of the three southe...   3.75       147.5   \n",
       "1205  The tallest peak in the Picket Range of the No...   0.00        36.5   \n",
       "1543                                                NaN   0.00        93.0   \n",
       "1808                                                NaN   3.17        99.0   \n",
       "\n",
       "               lat_long  \n",
       "37    48.8848,-119.8667  \n",
       "156   48.6925,-121.0978  \n",
       "281   48.5180,-120.7352  \n",
       "783   47.9696,-120.2158  \n",
       "784                 NaN  \n",
       "791   47.7454,-121.0890  \n",
       "924   48.9102,-121.5917  \n",
       "926   47.4278,-121.4135  \n",
       "1015  45.8026,-121.9325  \n",
       "1205  48.8784,-121.2527  \n",
       "1543  46.7849,-121.7351  \n",
       "1808  46.6315,-121.4267  "
      ]
     },
     "execution_count": 12,
     "metadata": {},
     "output_type": "execute_result"
    }
   ],
   "source": [
    "data[data['elevation gain']>8000]"
   ]
  },
  {
   "cell_type": "code",
   "execution_count": 21,
   "metadata": {
    "collapsed": true
   },
   "outputs": [],
   "source": [
    "from sklearn.cluster import KMeans\n",
    "from sklearn.decomposition import PCA"
   ]
  },
  {
   "cell_type": "code",
   "execution_count": 8,
   "metadata": {
    "collapsed": false
   },
   "outputs": [
    {
     "data": {
      "text/plain": [
       "Index([u'hike_name', u'region', u'length', u'elevation gain', u'rating',\n",
       "       u'number_votes', u'features', u'pass(0-no pass, 1- pass required)',\n",
       "       u'which_pass', u'time_from_seattle', u'url', u'latlong', u'numReports',\n",
       "       u'hike_desc', u'stars', u'total_dist', u'lat_long'],\n",
       "      dtype='object')"
      ]
     },
     "execution_count": 8,
     "metadata": {},
     "output_type": "execute_result"
    }
   ],
   "source": [
    "data.columns"
   ]
  },
  {
   "cell_type": "code",
   "execution_count": 13,
   "metadata": {
    "collapsed": true
   },
   "outputs": [],
   "source": [
    "features = [u'elevation gain', u'number_votes', u'pass(0-no pass, 1- pass required)',\n",
    "        u'time_from_seattle', u'numReports', u'stars', u'total_dist']"
   ]
  },
  {
   "cell_type": "code",
   "execution_count": 17,
   "metadata": {
    "collapsed": false
   },
   "outputs": [
    {
     "name": "stderr",
     "output_type": "stream",
     "text": [
      "/Users/Jade/anaconda/lib/python2.7/site-packages/ipykernel/__main__.py:2: SettingWithCopyWarning: \n",
      "A value is trying to be set on a copy of a slice from a DataFrame\n",
      "\n",
      "See the caveats in the documentation: http://pandas.pydata.org/pandas-docs/stable/indexing.html#indexing-view-versus-copy\n",
      "  from ipykernel import kernelapp as app\n"
     ]
    }
   ],
   "source": [
    "X = data[features]\n",
    "X.dropna(inplace=True)"
   ]
  },
  {
   "cell_type": "code",
   "execution_count": 23,
   "metadata": {
    "collapsed": false
   },
   "outputs": [
    {
     "data": {
      "text/plain": [
       "KMeans(copy_x=True, init='k-means++', max_iter=300, n_clusters=8, n_init=10,\n",
       "    n_jobs=1, precompute_distances='auto', random_state=None, tol=0.0001,\n",
       "    verbose=0)"
      ]
     },
     "execution_count": 23,
     "metadata": {},
     "output_type": "execute_result"
    }
   ],
   "source": [
    "reduced_data = PCA(n_components=2).fit_transform(X)\n",
    "kmeans = KMeans(init='k-means++', n_init=10)\n",
    "kmeans.fit(reduced_data)\n"
   ]
  },
  {
   "cell_type": "code",
   "execution_count": 5,
   "metadata": {
    "collapsed": true
   },
   "outputs": [],
   "source": [
    "sns.set_style(\"whitegrid\")"
   ]
  },
  {
   "cell_type": "code",
   "execution_count": 16,
   "metadata": {
    "collapsed": false
   },
   "outputs": [
    {
     "data": {
      "text/plain": [
       "<matplotlib.axes._subplots.AxesSubplot at 0x117fc2410>"
      ]
     },
     "execution_count": 16,
     "metadata": {},
     "output_type": "execute_result"
    },
    {
     "data": {
      "image/png": "[encoded data removed]",
      "text/plain": [
       "<matplotlib.figure.Figure at 0x1176b5290>"
      ]
     },
     "metadata": {},
     "output_type": "display_data"
    }
   ],
   "source": [
    "sns.regplot(data['total_dist'], data['elevation gain'])"
   ]
  },
  {
   "cell_type": "code",
   "execution_count": 17,
   "metadata": {
    "collapsed": false
   },
   "outputs": [
    {
     "data": {
      "text/plain": [
       "<matplotlib.axes._subplots.AxesSubplot at 0x11ae4a690>"
      ]
     },
     "execution_count": 17,
     "metadata": {},
     "output_type": "execute_result"
    },
    {
     "data": {
      "image/png": "[encoded data removed]",
      "text/plain": [
       "<matplotlib.figure.Figure at 0x1176abcd0>"
      ]
     },
     "metadata": {},
     "output_type": "display_data"
    }
   ],
   "source": [
    "sns.regplot(data['number_votes'], data['numReports'])"
   ]
  },
  {
   "cell_type": "code",
   "execution_count": 21,
   "metadata": {
    "collapsed": false
   },
   "outputs": [
    {
     "data": {
      "text/plain": [
       "(0, 5.2)"
      ]
     },
     "execution_count": 21,
     "metadata": {},
     "output_type": "execute_result"
    },
    {
     "data": {
      "image/png": "[encoded data removed]",
      "text/plain": [
       "<matplotlib.figure.Figure at 0x11b4116d0>"
      ]
     },
     "metadata": {},
     "output_type": "display_data"
    }
   ],
   "source": [
    "sns.regplot(data['number_votes'], data['stars'])\n",
    "plt.ylim(ymax=5.2, ymin=0)"
   ]
  },
  {
   "cell_type": "code",
   "execution_count": 22,
   "metadata": {
    "collapsed": false
   },
   "outputs": [
    {
     "data": {
      "text/plain": [
       "(0, 5.2)"
      ]
     },
     "execution_count": 22,
     "metadata": {},
     "output_type": "execute_result"
    },
    {
     "data": {
      "image/png": "[encoded data removed]",
      "text/plain": [
       "<matplotlib.figure.Figure at 0x11b411c50>"
      ]
     },
     "metadata": {},
     "output_type": "display_data"
    }
   ],
   "source": [
    "sns.regplot(data['numReports'], data['stars'])\n",
    "plt.ylim(ymax=5.2, ymin=0)"
   ]
  },
  {
   "cell_type": "code",
   "execution_count": 25,
   "metadata": {
    "collapsed": false
   },
   "outputs": [
    {
     "data": {
      "text/plain": [
       "<matplotlib.axes._subplots.AxesSubplot at 0x11ba5d710>"
      ]
     },
     "execution_count": 25,
     "metadata": {},
     "output_type": "execute_result"
    },
    {
     "data": {
      "image/png": "[encoded data removed]",
      "text/plain": [
       "<matplotlib.figure.Figure at 0x11b821910>"
      ]
     },
     "metadata": {},
     "output_type": "display_data"
    }
   ],
   "source": [
    "sns.regplot(data['time_from_seattle'], data['numReports'])"
   ]
  },
  {
   "cell_type": "code",
   "execution_count": 26,
   "metadata": {
    "collapsed": false
   },
   "outputs": [
    {
     "data": {
      "text/plain": [
       "count    2136.000000\n",
       "mean      145.054323\n",
       "std        96.744202\n",
       "min         4.916667\n",
       "25%        92.179167\n",
       "50%       138.133333\n",
       "75%       186.862500\n",
       "max      2863.283333\n",
       "Name: time_from_seattle, dtype: float64"
      ]
     },
     "execution_count": 26,
     "metadata": {},
     "output_type": "execute_result"
    }
   ],
   "source": [
    "data['time_from_seattle'].describe()"
   ]
  },
  {
   "cell_type": "code",
   "execution_count": 28,
   "metadata": {
    "collapsed": false
   },
   "outputs": [
    {
     "data": {
      "text/html": [
       "<div>\n",
       "<table border=\"1\" class=\"dataframe\">\n",
       "  <thead>\n",
       "    <tr style=\"text-align: right;\">\n",
       "      <th></th>\n",
       "      <th>hike_name</th>\n",
       "      <th>region</th>\n",
       "      <th>length</th>\n",
       "      <th>elevation gain</th>\n",
       "      <th>rating</th>\n",
       "      <th>number_votes</th>\n",
       "      <th>features</th>\n",
       "      <th>pass(0-no pass, 1- pass required)</th>\n",
       "      <th>which_pass</th>\n",
       "      <th>time_from_seattle</th>\n",
       "      <th>url</th>\n",
       "      <th>latlong</th>\n",
       "      <th>numReports</th>\n",
       "      <th>hike_desc</th>\n",
       "      <th>stars</th>\n",
       "      <th>total_dist</th>\n",
       "      <th>lat_long</th>\n",
       "    </tr>\n",
       "  </thead>\n",
       "  <tbody>\n",
       "    <tr>\n",
       "      <th>658</th>\n",
       "      <td>Mount Spokane State Park - Mount Kit Carson Lo...</td>\n",
       "      <td>Eastern Washington -- Spokane Area/Coeur d'Alene</td>\n",
       "      <td>13.0 miles, roundtrip</td>\n",
       "      <td>1300.0</td>\n",
       "      <td>0.00 out of 5</td>\n",
       "      <td>0.0</td>\n",
       "      <td>[Mountain views, Wildlife, Waterfalls, Old gro...</td>\n",
       "      <td>1</td>\n",
       "      <td>Discover Pass required</td>\n",
       "      <td>2863.283333</td>\n",
       "      <td>http://www.wta.org/go-hiking/hikes/mount-spoka...</td>\n",
       "      <td>http://maps.google.com/maps?hl=en&amp;sz=11&amp;spn=0....</td>\n",
       "      <td>6.0</td>\n",
       "      <td>Beginning in 1909, Spokane park visionary Fran...</td>\n",
       "      <td>0.0</td>\n",
       "      <td>13.0</td>\n",
       "      <td>44.7212,-70.2491</td>\n",
       "    </tr>\n",
       "  </tbody>\n",
       "</table>\n",
       "</div>"
      ],
      "text/plain": [
       "                                             hike_name  \\\n",
       "658  Mount Spokane State Park - Mount Kit Carson Lo...   \n",
       "\n",
       "                                               region                 length  \\\n",
       "658  Eastern Washington -- Spokane Area/Coeur d'Alene  13.0 miles, roundtrip   \n",
       "\n",
       "     elevation gain         rating  number_votes  \\\n",
       "658          1300.0  0.00 out of 5           0.0   \n",
       "\n",
       "                                              features  \\\n",
       "658  [Mountain views, Wildlife, Waterfalls, Old gro...   \n",
       "\n",
       "     pass(0-no pass, 1- pass required)              which_pass  \\\n",
       "658                                  1  Discover Pass required   \n",
       "\n",
       "     time_from_seattle                                                url  \\\n",
       "658        2863.283333  http://www.wta.org/go-hiking/hikes/mount-spoka...   \n",
       "\n",
       "                                               latlong  numReports  \\\n",
       "658  http://maps.google.com/maps?hl=en&sz=11&spn=0....         6.0   \n",
       "\n",
       "                                             hike_desc  stars  total_dist  \\\n",
       "658  Beginning in 1909, Spokane park visionary Fran...    0.0        13.0   \n",
       "\n",
       "             lat_long  \n",
       "658  44.7212,-70.2491  "
      ]
     },
     "execution_count": 28,
     "metadata": {},
     "output_type": "execute_result"
    }
   ],
   "source": [
    "data[data['time_from_seattle']==max(data['time_from_seattle'])]"
   ]
  },
  {
   "cell_type": "code",
   "execution_count": 29,
   "metadata": {
    "collapsed": false
   },
   "outputs": [
    {
     "data": {
      "text/plain": [
       "count    3384.000000\n",
       "mean       27.577719\n",
       "std        73.039463\n",
       "min         0.000000\n",
       "25%         2.000000\n",
       "50%         6.000000\n",
       "75%        23.000000\n",
       "max      1040.000000\n",
       "Name: numReports, dtype: float64"
      ]
     },
     "execution_count": 29,
     "metadata": {},
     "output_type": "execute_result"
    }
   ],
   "source": [
    "data['numReports'].describe()"
   ]
  },
  {
   "cell_type": "code",
   "execution_count": 38,
   "metadata": {
    "collapsed": false
   },
   "outputs": [
    {
     "data": {
      "text/plain": [
       "30.0"
      ]
     },
     "execution_count": 38,
     "metadata": {},
     "output_type": "execute_result"
    }
   ],
   "source": [
    "np.percentile(data['numReports'].dropna(), 80)"
   ]
  },
  {
   "cell_type": "code",
   "execution_count": 44,
   "metadata": {
    "collapsed": false
   },
   "outputs": [
    {
     "data": {
      "text/html": [
       "<div>\n",
       "<table border=\"1\" class=\"dataframe\">\n",
       "  <thead>\n",
       "    <tr style=\"text-align: right;\">\n",
       "      <th></th>\n",
       "      <th>hike_name</th>\n",
       "      <th>region</th>\n",
       "      <th>length</th>\n",
       "      <th>elevation gain</th>\n",
       "      <th>rating</th>\n",
       "      <th>number_votes</th>\n",
       "      <th>features</th>\n",
       "      <th>pass(0-no pass, 1- pass required)</th>\n",
       "      <th>which_pass</th>\n",
       "      <th>time_from_seattle</th>\n",
       "      <th>url</th>\n",
       "      <th>latlong</th>\n",
       "      <th>numReports</th>\n",
       "      <th>hike_desc</th>\n",
       "      <th>stars</th>\n",
       "      <th>total_dist</th>\n",
       "      <th>lat_long</th>\n",
       "    </tr>\n",
       "  </thead>\n",
       "  <tbody>\n",
       "    <tr>\n",
       "      <th>3074</th>\n",
       "      <td>Chatter Creek</td>\n",
       "      <td>Central Cascades -- Stevens Pass - East</td>\n",
       "      <td>NaN</td>\n",
       "      <td>NaN</td>\n",
       "      <td>4.00 out of 5</td>\n",
       "      <td>4.0</td>\n",
       "      <td>[]</td>\n",
       "      <td>1</td>\n",
       "      <td>Northwest Forest Pass required</td>\n",
       "      <td>167.366667</td>\n",
       "      <td>http://www.wta.org/go-hiking/hikes/chatter-creek</td>\n",
       "      <td>http://maps.google.com/maps?hl=en&amp;sz=11&amp;spn=0....</td>\n",
       "      <td>102.0</td>\n",
       "      <td>NaN</td>\n",
       "      <td>4.00</td>\n",
       "      <td>NaN</td>\n",
       "      <td>47.6100,-120.8902</td>\n",
       "    </tr>\n",
       "    <tr>\n",
       "      <th>3098</th>\n",
       "      <td>Boulder-De Roux / Gallagher Head Lake</td>\n",
       "      <td>Snoqualmie Region -- Salmon La Sac/Teanaway</td>\n",
       "      <td>NaN</td>\n",
       "      <td>NaN</td>\n",
       "      <td>3.40 out of 5</td>\n",
       "      <td>5.0</td>\n",
       "      <td>[]</td>\n",
       "      <td>1</td>\n",
       "      <td>NaN</td>\n",
       "      <td>134.916667</td>\n",
       "      <td>http://www.wta.org/go-hiking/hikes/boulder-de-...</td>\n",
       "      <td>http://maps.google.com/maps?hl=en&amp;sz=11&amp;spn=0....</td>\n",
       "      <td>97.0</td>\n",
       "      <td>NaN</td>\n",
       "      <td>3.40</td>\n",
       "      <td>NaN</td>\n",
       "      <td>47.4174,-120.9361</td>\n",
       "    </tr>\n",
       "    <tr>\n",
       "      <th>3125</th>\n",
       "      <td>Beverly Turnpike</td>\n",
       "      <td>Snoqualmie Region -- Salmon La Sac/Teanaway</td>\n",
       "      <td>NaN</td>\n",
       "      <td>NaN</td>\n",
       "      <td>2.33 out of 5</td>\n",
       "      <td>6.0</td>\n",
       "      <td>[]</td>\n",
       "      <td>1</td>\n",
       "      <td>Northwest Forest Pass required</td>\n",
       "      <td>121.466667</td>\n",
       "      <td>http://www.wta.org/go-hiking/hikes/beverly-tur...</td>\n",
       "      <td>http://maps.google.com/maps?hl=en&amp;sz=11&amp;spn=0....</td>\n",
       "      <td>132.0</td>\n",
       "      <td>NaN</td>\n",
       "      <td>2.33</td>\n",
       "      <td>NaN</td>\n",
       "      <td>47.3892,-120.8725</td>\n",
       "    </tr>\n",
       "    <tr>\n",
       "      <th>3326</th>\n",
       "      <td>Sunrise Mine</td>\n",
       "      <td>North Cascades -- Mountain Loop Highway</td>\n",
       "      <td>NaN</td>\n",
       "      <td>NaN</td>\n",
       "      <td>3.40 out of 5</td>\n",
       "      <td>5.0</td>\n",
       "      <td>[]</td>\n",
       "      <td>1</td>\n",
       "      <td>NaN</td>\n",
       "      <td>102.816667</td>\n",
       "      <td>http://www.wta.org/go-hiking/hikes/sunrise-mine</td>\n",
       "      <td>http://maps.google.com/maps?hl=en&amp;sz=11&amp;spn=0....</td>\n",
       "      <td>97.0</td>\n",
       "      <td>NaN</td>\n",
       "      <td>3.40</td>\n",
       "      <td>NaN</td>\n",
       "      <td>48.0259,-121.4795</td>\n",
       "    </tr>\n",
       "    <tr>\n",
       "      <th>3338</th>\n",
       "      <td>Stafford Creek</td>\n",
       "      <td>Snoqualmie Region -- Salmon La Sac/Teanaway</td>\n",
       "      <td>NaN</td>\n",
       "      <td>NaN</td>\n",
       "      <td>2.50 out of 5</td>\n",
       "      <td>8.0</td>\n",
       "      <td>[]</td>\n",
       "      <td>1</td>\n",
       "      <td>NaN</td>\n",
       "      <td>117.716667</td>\n",
       "      <td>http://www.wta.org/go-hiking/hikes/stafford-creek</td>\n",
       "      <td>http://maps.google.com/maps?hl=en&amp;sz=11&amp;spn=0....</td>\n",
       "      <td>137.0</td>\n",
       "      <td>NaN</td>\n",
       "      <td>2.50</td>\n",
       "      <td>NaN</td>\n",
       "      <td>47.3781,-120.8248</td>\n",
       "    </tr>\n",
       "  </tbody>\n",
       "</table>\n",
       "</div>"
      ],
      "text/plain": [
       "                                  hike_name  \\\n",
       "3074                          Chatter Creek   \n",
       "3098  Boulder-De Roux / Gallagher Head Lake   \n",
       "3125                       Beverly Turnpike   \n",
       "3326                           Sunrise Mine   \n",
       "3338                         Stafford Creek   \n",
       "\n",
       "                                           region length  elevation gain  \\\n",
       "3074      Central Cascades -- Stevens Pass - East    NaN             NaN   \n",
       "3098  Snoqualmie Region -- Salmon La Sac/Teanaway    NaN             NaN   \n",
       "3125  Snoqualmie Region -- Salmon La Sac/Teanaway    NaN             NaN   \n",
       "3326      North Cascades -- Mountain Loop Highway    NaN             NaN   \n",
       "3338  Snoqualmie Region -- Salmon La Sac/Teanaway    NaN             NaN   \n",
       "\n",
       "             rating  number_votes features  pass(0-no pass, 1- pass required)  \\\n",
       "3074  4.00 out of 5           4.0       []                                  1   \n",
       "3098  3.40 out of 5           5.0       []                                  1   \n",
       "3125  2.33 out of 5           6.0       []                                  1   \n",
       "3326  3.40 out of 5           5.0       []                                  1   \n",
       "3338  2.50 out of 5           8.0       []                                  1   \n",
       "\n",
       "                          which_pass  time_from_seattle  \\\n",
       "3074  Northwest Forest Pass required         167.366667   \n",
       "3098                             NaN         134.916667   \n",
       "3125  Northwest Forest Pass required         121.466667   \n",
       "3326                             NaN         102.816667   \n",
       "3338                             NaN         117.716667   \n",
       "\n",
       "                                                    url  \\\n",
       "3074   http://www.wta.org/go-hiking/hikes/chatter-creek   \n",
       "3098  http://www.wta.org/go-hiking/hikes/boulder-de-...   \n",
       "3125  http://www.wta.org/go-hiking/hikes/beverly-tur...   \n",
       "3326    http://www.wta.org/go-hiking/hikes/sunrise-mine   \n",
       "3338  http://www.wta.org/go-hiking/hikes/stafford-creek   \n",
       "\n",
       "                                                latlong  numReports hike_desc  \\\n",
       "3074  http://maps.google.com/maps?hl=en&sz=11&spn=0....       102.0       NaN   \n",
       "3098  http://maps.google.com/maps?hl=en&sz=11&spn=0....        97.0       NaN   \n",
       "3125  http://maps.google.com/maps?hl=en&sz=11&spn=0....       132.0       NaN   \n",
       "3326  http://maps.google.com/maps?hl=en&sz=11&spn=0....        97.0       NaN   \n",
       "3338  http://maps.google.com/maps?hl=en&sz=11&spn=0....       137.0       NaN   \n",
       "\n",
       "      stars  total_dist           lat_long  \n",
       "3074   4.00         NaN  47.6100,-120.8902  \n",
       "3098   3.40         NaN  47.4174,-120.9361  \n",
       "3125   2.33         NaN  47.3892,-120.8725  \n",
       "3326   3.40         NaN  48.0259,-121.4795  \n",
       "3338   2.50         NaN  47.3781,-120.8248  "
      ]
     },
     "execution_count": 44,
     "metadata": {},
     "output_type": "execute_result"
    }
   ],
   "source": [
    "data[data['numReports']>=64].tail()"
   ]
  },
  {
   "cell_type": "code",
   "execution_count": 6,
   "metadata": {
    "collapsed": false
   },
   "outputs": [
    {
     "data": {
      "text/html": [
       "<div>\n",
       "<table border=\"1\" class=\"dataframe\">\n",
       "  <thead>\n",
       "    <tr style=\"text-align: right;\">\n",
       "      <th></th>\n",
       "      <th>hike_name</th>\n",
       "      <th>region</th>\n",
       "      <th>length</th>\n",
       "      <th>elevation gain</th>\n",
       "      <th>rating</th>\n",
       "      <th>number_votes</th>\n",
       "      <th>features</th>\n",
       "      <th>pass(0-no pass, 1- pass required)</th>\n",
       "      <th>which_pass</th>\n",
       "      <th>time_from_seattle</th>\n",
       "      <th>url</th>\n",
       "      <th>latlong</th>\n",
       "      <th>numReports</th>\n",
       "      <th>hike_desc</th>\n",
       "      <th>stars</th>\n",
       "      <th>total_dist</th>\n",
       "      <th>lat_long</th>\n",
       "    </tr>\n",
       "  </thead>\n",
       "  <tbody>\n",
       "    <tr>\n",
       "      <th>1523</th>\n",
       "      <td>City Hall to Pike Place</td>\n",
       "      <td>Puget Sound and Islands -- Seattle-Tacoma Area</td>\n",
       "      <td>NaN</td>\n",
       "      <td>NaN</td>\n",
       "      <td>0.00 out of 5</td>\n",
       "      <td>0.0</td>\n",
       "      <td>[]</td>\n",
       "      <td>0</td>\n",
       "      <td>No pass or permit required</td>\n",
       "      <td>4.916667</td>\n",
       "      <td>http://www.wta.org/go-hiking/hikes/city-hall-t...</td>\n",
       "      <td>http://maps.google.com/maps?hl=en&amp;sz=11&amp;spn=0....</td>\n",
       "      <td>3.0</td>\n",
       "      <td>The route starts at Seattle City Hall, jogs do...</td>\n",
       "      <td>0.0</td>\n",
       "      <td>NaN</td>\n",
       "      <td>47.6095,-122.3415</td>\n",
       "    </tr>\n",
       "  </tbody>\n",
       "</table>\n",
       "</div>"
      ],
      "text/plain": [
       "                    hike_name                                          region  \\\n",
       "1523  City Hall to Pike Place  Puget Sound and Islands -- Seattle-Tacoma Area   \n",
       "\n",
       "     length  elevation gain         rating  number_votes features  \\\n",
       "1523    NaN             NaN  0.00 out of 5           0.0       []   \n",
       "\n",
       "      pass(0-no pass, 1- pass required)                  which_pass  \\\n",
       "1523                                  0  No pass or permit required   \n",
       "\n",
       "      time_from_seattle                                                url  \\\n",
       "1523           4.916667  http://www.wta.org/go-hiking/hikes/city-hall-t...   \n",
       "\n",
       "                                                latlong  numReports  \\\n",
       "1523  http://maps.google.com/maps?hl=en&sz=11&spn=0....         3.0   \n",
       "\n",
       "                                              hike_desc  stars  total_dist  \\\n",
       "1523  The route starts at Seattle City Hall, jogs do...    0.0         NaN   \n",
       "\n",
       "               lat_long  \n",
       "1523  47.6095,-122.3415  "
      ]
     },
     "execution_count": 6,
     "metadata": {},
     "output_type": "execute_result"
    }
   ],
   "source": [
    "data[data['time_from_seattle']==min(data['time_from_seattle'])]"
   ]
  },
  {
   "cell_type": "code",
   "execution_count": 9,
   "metadata": {
    "collapsed": false
   },
   "outputs": [
    {
     "data": {
      "text/html": [
       "<div>\n",
       "<table border=\"1\" class=\"dataframe\">\n",
       "  <thead>\n",
       "    <tr style=\"text-align: right;\">\n",
       "      <th></th>\n",
       "      <th>hike_name</th>\n",
       "      <th>region</th>\n",
       "      <th>length</th>\n",
       "      <th>elevation gain</th>\n",
       "      <th>rating</th>\n",
       "      <th>number_votes</th>\n",
       "      <th>features</th>\n",
       "      <th>pass(0-no pass, 1- pass required)</th>\n",
       "      <th>which_pass</th>\n",
       "      <th>time_from_seattle</th>\n",
       "      <th>url</th>\n",
       "      <th>latlong</th>\n",
       "      <th>numReports</th>\n",
       "      <th>hike_desc</th>\n",
       "      <th>stars</th>\n",
       "      <th>total_dist</th>\n",
       "      <th>lat_long</th>\n",
       "    </tr>\n",
       "  </thead>\n",
       "  <tbody>\n",
       "    <tr>\n",
       "      <th>79</th>\n",
       "      <td>Bandera Mountain</td>\n",
       "      <td>Snoqualmie Region -- North Bend Area</td>\n",
       "      <td>8.0 miles, roundtrip</td>\n",
       "      <td>3400.0</td>\n",
       "      <td>4.23 out of 5</td>\n",
       "      <td>61.0</td>\n",
       "      <td>[Ridges/passes, Dogs allowed on leash, Fall fo...</td>\n",
       "      <td>1</td>\n",
       "      <td>Northwest Forest Pass required</td>\n",
       "      <td>56.150000</td>\n",
       "      <td>http://www.wta.org/go-hiking/hikes/bandera-mou...</td>\n",
       "      <td>http://maps.google.com/maps?hl=en&amp;sz=11&amp;spn=0....</td>\n",
       "      <td>561.0</td>\n",
       "      <td>Bandera Mountain is a chameleon. Most would de...</td>\n",
       "      <td>4.23</td>\n",
       "      <td>8.0</td>\n",
       "      <td>47.4247,-121.5836</td>\n",
       "    </tr>\n",
       "    <tr>\n",
       "      <th>82</th>\n",
       "      <td>Granite Mountain</td>\n",
       "      <td>Snoqualmie Region -- Snoqualmie Pass</td>\n",
       "      <td>8.6 miles, roundtrip</td>\n",
       "      <td>3800.0</td>\n",
       "      <td>4.33 out of 5</td>\n",
       "      <td>66.0</td>\n",
       "      <td>[Mountain views, Dogs allowed on leash, Summit...</td>\n",
       "      <td>1</td>\n",
       "      <td>Northwest Forest Pass required</td>\n",
       "      <td>47.200000</td>\n",
       "      <td>http://www.wta.org/go-hiking/hikes/granite-mou...</td>\n",
       "      <td>http://maps.google.com/maps?hl=en&amp;sz=11&amp;spn=0....</td>\n",
       "      <td>864.0</td>\n",
       "      <td>The astounding views from the summit of the Gr...</td>\n",
       "      <td>4.33</td>\n",
       "      <td>8.6</td>\n",
       "      <td>47.3979,-121.4860</td>\n",
       "    </tr>\n",
       "    <tr>\n",
       "      <th>87</th>\n",
       "      <td>Mailbox Peak</td>\n",
       "      <td>Snoqualmie Region -- North Bend Area</td>\n",
       "      <td>9.4 miles, roundtrip</td>\n",
       "      <td>4000.0</td>\n",
       "      <td>4.00 out of 5</td>\n",
       "      <td>24.0</td>\n",
       "      <td>[Summits, Fall foliage]</td>\n",
       "      <td>1</td>\n",
       "      <td>Discover Pass required</td>\n",
       "      <td>42.816667</td>\n",
       "      <td>http://www.wta.org/go-hiking/hikes/mailbox-peak</td>\n",
       "      <td>http://maps.google.com/maps?hl=en&amp;sz=11&amp;spn=0....</td>\n",
       "      <td>220.0</td>\n",
       "      <td>This hike will have weekly closures during the...</td>\n",
       "      <td>4.00</td>\n",
       "      <td>9.4</td>\n",
       "      <td>47.4675,-121.6748</td>\n",
       "    </tr>\n",
       "    <tr>\n",
       "      <th>90</th>\n",
       "      <td>Mount Si</td>\n",
       "      <td>Snoqualmie Region -- North Bend Area</td>\n",
       "      <td>8.0 miles, roundtrip</td>\n",
       "      <td>3150.0</td>\n",
       "      <td>3.99 out of 5</td>\n",
       "      <td>153.0</td>\n",
       "      <td>[Old growth, Summits, Wildlife]</td>\n",
       "      <td>1</td>\n",
       "      <td>Discover Pass required</td>\n",
       "      <td>40.266667</td>\n",
       "      <td>http://www.wta.org/go-hiking/hikes/mount-si</td>\n",
       "      <td>http://maps.google.com/maps?hl=en&amp;sz=11&amp;spn=0....</td>\n",
       "      <td>1040.0</td>\n",
       "      <td>In the legends of the Snoqualmie people, Mount...</td>\n",
       "      <td>3.99</td>\n",
       "      <td>8.0</td>\n",
       "      <td>47.4880,-121.7231</td>\n",
       "    </tr>\n",
       "    <tr>\n",
       "      <th>251</th>\n",
       "      <td>Mount Washington</td>\n",
       "      <td>Snoqualmie Region -- Snoqualmie Pass</td>\n",
       "      <td>8.5 miles, roundtrip</td>\n",
       "      <td>3250.0</td>\n",
       "      <td>3.86 out of 5</td>\n",
       "      <td>35.0</td>\n",
       "      <td>[Mountain views, Dogs allowed on leash, Establ...</td>\n",
       "      <td>1</td>\n",
       "      <td>Discover Pass required</td>\n",
       "      <td>38.283333</td>\n",
       "      <td>http://www.wta.org/go-hiking/hikes/mount-washi...</td>\n",
       "      <td>http://maps.google.com/maps?hl=en&amp;sz=11&amp;spn=0....</td>\n",
       "      <td>446.0</td>\n",
       "      <td>Ditch the North Bend crowds by heading six mil...</td>\n",
       "      <td>3.86</td>\n",
       "      <td>8.5</td>\n",
       "      <td>47.4420,-121.6722</td>\n",
       "    </tr>\n",
       "    <tr>\n",
       "      <th>335</th>\n",
       "      <td>Mount Si - Old Trail</td>\n",
       "      <td>Snoqualmie Region -- North Bend Area</td>\n",
       "      <td>7.4 miles, roundtrip</td>\n",
       "      <td>3420.0</td>\n",
       "      <td>4.46 out of 5</td>\n",
       "      <td>13.0</td>\n",
       "      <td>[Mountain views, Wildlife, Waterfalls, Old gro...</td>\n",
       "      <td>1</td>\n",
       "      <td>Discover Pass required</td>\n",
       "      <td>43.233333</td>\n",
       "      <td>http://www.wta.org/go-hiking/hikes/mount-si-ol...</td>\n",
       "      <td>http://maps.google.com/maps?hl=en&amp;sz=11&amp;spn=0....</td>\n",
       "      <td>135.0</td>\n",
       "      <td>The “old” trail that ascends Mount Si’s wester...</td>\n",
       "      <td>4.46</td>\n",
       "      <td>7.4</td>\n",
       "      <td>47.4408,-121.6253</td>\n",
       "    </tr>\n",
       "    <tr>\n",
       "      <th>354</th>\n",
       "      <td>West Defiance - Putrid Pete's Peak</td>\n",
       "      <td>Snoqualmie Region -- North Bend Area</td>\n",
       "      <td>6.8 miles, roundtrip</td>\n",
       "      <td>3020.0</td>\n",
       "      <td>3.83 out of 5</td>\n",
       "      <td>6.0</td>\n",
       "      <td>[Mountain views, Summits]</td>\n",
       "      <td>1</td>\n",
       "      <td>Northwest Forest Pass required</td>\n",
       "      <td>56.150000</td>\n",
       "      <td>http://www.wta.org/go-hiking/hikes/west-defiance</td>\n",
       "      <td>http://maps.google.com/maps?hl=en&amp;sz=11&amp;spn=0....</td>\n",
       "      <td>89.0</td>\n",
       "      <td>Hike the Ira Spring trail for to the first swi...</td>\n",
       "      <td>3.83</td>\n",
       "      <td>6.8</td>\n",
       "      <td>47.4267,-121.5864</td>\n",
       "    </tr>\n",
       "    <tr>\n",
       "      <th>670</th>\n",
       "      <td>Mailbox Peak - Old Trail</td>\n",
       "      <td>Snoqualmie Region -- North Bend Area</td>\n",
       "      <td>5.2 miles, roundtrip</td>\n",
       "      <td>4000.0</td>\n",
       "      <td>4.33 out of 5</td>\n",
       "      <td>97.0</td>\n",
       "      <td>[Wildflowers/Meadows, Mountain views, Dogs all...</td>\n",
       "      <td>1</td>\n",
       "      <td>Discover Pass required</td>\n",
       "      <td>42.816667</td>\n",
       "      <td>http://www.wta.org/go-hiking/hikes/mailbox-pea...</td>\n",
       "      <td>http://maps.google.com/maps?hl=en&amp;sz=11&amp;spn=0....</td>\n",
       "      <td>803.0</td>\n",
       "      <td>This hike will have weekly closures during the...</td>\n",
       "      <td>4.33</td>\n",
       "      <td>5.2</td>\n",
       "      <td>47.4674,-121.6748</td>\n",
       "    </tr>\n",
       "    <tr>\n",
       "      <th>742</th>\n",
       "      <td>Granite Mountain Snowshoe</td>\n",
       "      <td>Snoqualmie Region -- Snoqualmie Pass</td>\n",
       "      <td>5.0 miles, roundtrip</td>\n",
       "      <td>3750.0</td>\n",
       "      <td>4.00 out of 5</td>\n",
       "      <td>4.0</td>\n",
       "      <td>[]</td>\n",
       "      <td>1</td>\n",
       "      <td>NaN</td>\n",
       "      <td>47.466667</td>\n",
       "      <td>http://www.wta.org/go-hiking/hikes/granite-mou...</td>\n",
       "      <td>http://maps.google.com/maps?hl=en&amp;sz=11&amp;spn=0....</td>\n",
       "      <td>81.0</td>\n",
       "      <td>Regardless of the air temperature, be prepared...</td>\n",
       "      <td>4.00</td>\n",
       "      <td>5.0</td>\n",
       "      <td>47.3979,-121.4878</td>\n",
       "    </tr>\n",
       "    <tr>\n",
       "      <th>785</th>\n",
       "      <td>Chair Peak</td>\n",
       "      <td>Snoqualmie Region -- Snoqualmie Pass</td>\n",
       "      <td>9.0 miles, roundtrip</td>\n",
       "      <td>6244.0</td>\n",
       "      <td>0.00 out of 5</td>\n",
       "      <td>0.0</td>\n",
       "      <td>[Dogs allowed on leash, Summits]</td>\n",
       "      <td>1</td>\n",
       "      <td>Northwest Forest Pass required</td>\n",
       "      <td>54.666667</td>\n",
       "      <td>http://www.wta.org/go-hiking/hikes/chair-peak</td>\n",
       "      <td>http://maps.google.com/maps?hl=en&amp;sz=11&amp;spn=0....</td>\n",
       "      <td>2.0</td>\n",
       "      <td>A scramble of a peak in the Alpine Lakes Wilde...</td>\n",
       "      <td>0.00</td>\n",
       "      <td>9.0</td>\n",
       "      <td>47.4154,-121.4433</td>\n",
       "    </tr>\n",
       "    <tr>\n",
       "      <th>837</th>\n",
       "      <td>McClellan Butte</td>\n",
       "      <td>Snoqualmie Region -- Snoqualmie Pass</td>\n",
       "      <td>9.0 miles, roundtrip</td>\n",
       "      <td>3700.0</td>\n",
       "      <td>3.75 out of 5</td>\n",
       "      <td>20.0</td>\n",
       "      <td>[Mountain views, Old growth, Summits]</td>\n",
       "      <td>1</td>\n",
       "      <td>Northwest Forest Pass required</td>\n",
       "      <td>41.400000</td>\n",
       "      <td>http://www.wta.org/go-hiking/hikes/mcclellan-b...</td>\n",
       "      <td>http://maps.google.com/maps?hl=en&amp;sz=11&amp;spn=0....</td>\n",
       "      <td>277.0</td>\n",
       "      <td>Along with the numerous other I-90 hikes there...</td>\n",
       "      <td>3.75</td>\n",
       "      <td>9.0</td>\n",
       "      <td>47.4142,-121.5884</td>\n",
       "    </tr>\n",
       "    <tr>\n",
       "      <th>887</th>\n",
       "      <td>Snoqualmie Mountain</td>\n",
       "      <td>Snoqualmie Region</td>\n",
       "      <td>3.8 miles, roundtrip</td>\n",
       "      <td>3105.0</td>\n",
       "      <td>4.50 out of 5</td>\n",
       "      <td>6.0</td>\n",
       "      <td>[]</td>\n",
       "      <td>1</td>\n",
       "      <td>Northwest Forest Pass required</td>\n",
       "      <td>53.633333</td>\n",
       "      <td>http://www.wta.org/go-hiking/hikes/mount-snoqu...</td>\n",
       "      <td>http://maps.google.com/maps?hl=en&amp;sz=11&amp;spn=0....</td>\n",
       "      <td>122.0</td>\n",
       "      <td>A very steep scramble to the summit of a peak ...</td>\n",
       "      <td>4.50</td>\n",
       "      <td>3.8</td>\n",
       "      <td>47.4453,-121.4234</td>\n",
       "    </tr>\n",
       "    <tr>\n",
       "      <th>1715</th>\n",
       "      <td>Thomas Mountain</td>\n",
       "      <td>Snoqualmie Region -- Salmon La Sac/Teanaway</td>\n",
       "      <td>8.0 miles, roundtrip</td>\n",
       "      <td>3400.0</td>\n",
       "      <td>0.00 out of 5</td>\n",
       "      <td>0.0</td>\n",
       "      <td>[Summits, Lakes]</td>\n",
       "      <td>1</td>\n",
       "      <td>Northwest Forest Pass required</td>\n",
       "      <td>73.833333</td>\n",
       "      <td>http://www.wta.org/go-hiking/hikes/thomas-moun...</td>\n",
       "      <td>http://maps.google.com/maps?hl=en&amp;sz=11&amp;spn=0....</td>\n",
       "      <td>7.0</td>\n",
       "      <td>NaN</td>\n",
       "      <td>0.00</td>\n",
       "      <td>8.0</td>\n",
       "      <td>47.2676,-121.1742</td>\n",
       "    </tr>\n",
       "    <tr>\n",
       "      <th>1721</th>\n",
       "      <td>Low Mountain</td>\n",
       "      <td>Snoqualmie Region -- Snoqualmie Pass</td>\n",
       "      <td>6.0 miles, roundtrip</td>\n",
       "      <td>3300.0</td>\n",
       "      <td>0.00 out of 5</td>\n",
       "      <td>0.0</td>\n",
       "      <td>[]</td>\n",
       "      <td>1</td>\n",
       "      <td>Sno-Park pass required</td>\n",
       "      <td>51.900000</td>\n",
       "      <td>http://www.wta.org/go-hiking/hikes/low-mountain</td>\n",
       "      <td>http://maps.google.com/maps?hl=en&amp;sz=11&amp;spn=0....</td>\n",
       "      <td>4.0</td>\n",
       "      <td>NaN</td>\n",
       "      <td>0.00</td>\n",
       "      <td>6.0</td>\n",
       "      <td>47.4348,-121.4693</td>\n",
       "    </tr>\n",
       "    <tr>\n",
       "      <th>2171</th>\n",
       "      <td>Rooster Mountain</td>\n",
       "      <td>Snoqualmie Region -- North Bend Area</td>\n",
       "      <td>8.0 miles, roundtrip</td>\n",
       "      <td>4100.0</td>\n",
       "      <td>4.20 out of 5</td>\n",
       "      <td>5.0</td>\n",
       "      <td>[]</td>\n",
       "      <td>1</td>\n",
       "      <td>Northwest Forest Pass required</td>\n",
       "      <td>71.700000</td>\n",
       "      <td>http://www.wta.org/go-hiking/hikes/rooster-mou...</td>\n",
       "      <td>http://maps.google.com/maps?hl=en&amp;sz=11&amp;spn=0....</td>\n",
       "      <td>17.0</td>\n",
       "      <td>NaN</td>\n",
       "      <td>4.20</td>\n",
       "      <td>8.0</td>\n",
       "      <td>47.5597,-121.5328</td>\n",
       "    </tr>\n",
       "    <tr>\n",
       "      <th>2395</th>\n",
       "      <td>Duke of Kent</td>\n",
       "      <td>Snoqualmie Region -- North Bend Area</td>\n",
       "      <td>7.0 miles, roundtrip</td>\n",
       "      <td>3400.0</td>\n",
       "      <td>3.00 out of 5</td>\n",
       "      <td>4.0</td>\n",
       "      <td>[]</td>\n",
       "      <td>1</td>\n",
       "      <td>NaN</td>\n",
       "      <td>52.833333</td>\n",
       "      <td>http://www.wta.org/go-hiking/hikes/duke-of-kent</td>\n",
       "      <td>http://maps.google.com/maps?hl=en&amp;sz=11&amp;spn=0....</td>\n",
       "      <td>2.0</td>\n",
       "      <td>NaN</td>\n",
       "      <td>3.00</td>\n",
       "      <td>7.0</td>\n",
       "      <td>47.4093,-121.6023</td>\n",
       "    </tr>\n",
       "    <tr>\n",
       "      <th>2981</th>\n",
       "      <td>Dirty Harry's Peak</td>\n",
       "      <td>Snoqualmie Region -- Snoqualmie Pass</td>\n",
       "      <td>8.2 miles, roundtrip</td>\n",
       "      <td>3326.0</td>\n",
       "      <td>2.75 out of 5</td>\n",
       "      <td>8.0</td>\n",
       "      <td>[Mountain views, Summits]</td>\n",
       "      <td>1</td>\n",
       "      <td>Discover Pass required</td>\n",
       "      <td>42.283333</td>\n",
       "      <td>http://www.wta.org/go-hiking/hikes/dirty-harry...</td>\n",
       "      <td>http://maps.google.com/maps?hl=en&amp;sz=11&amp;spn=0....</td>\n",
       "      <td>121.0</td>\n",
       "      <td>NaN</td>\n",
       "      <td>2.75</td>\n",
       "      <td>8.2</td>\n",
       "      <td>47.4343,-121.6327</td>\n",
       "    </tr>\n",
       "  </tbody>\n",
       "</table>\n",
       "</div>"
      ],
      "text/plain": [
       "                               hike_name  \\\n",
       "79                      Bandera Mountain   \n",
       "82                      Granite Mountain   \n",
       "87                          Mailbox Peak   \n",
       "90                              Mount Si   \n",
       "251                     Mount Washington   \n",
       "335                 Mount Si - Old Trail   \n",
       "354   West Defiance - Putrid Pete's Peak   \n",
       "670             Mailbox Peak - Old Trail   \n",
       "742            Granite Mountain Snowshoe   \n",
       "785                           Chair Peak   \n",
       "837                      McClellan Butte   \n",
       "887                  Snoqualmie Mountain   \n",
       "1715                     Thomas Mountain   \n",
       "1721                        Low Mountain   \n",
       "2171                    Rooster Mountain   \n",
       "2395                        Duke of Kent   \n",
       "2981                  Dirty Harry's Peak   \n",
       "\n",
       "                                           region                length  \\\n",
       "79           Snoqualmie Region -- North Bend Area  8.0 miles, roundtrip   \n",
       "82           Snoqualmie Region -- Snoqualmie Pass  8.6 miles, roundtrip   \n",
       "87           Snoqualmie Region -- North Bend Area  9.4 miles, roundtrip   \n",
       "90           Snoqualmie Region -- North Bend Area  8.0 miles, roundtrip   \n",
       "251          Snoqualmie Region -- Snoqualmie Pass  8.5 miles, roundtrip   \n",
       "335          Snoqualmie Region -- North Bend Area  7.4 miles, roundtrip   \n",
       "354          Snoqualmie Region -- North Bend Area  6.8 miles, roundtrip   \n",
       "670          Snoqualmie Region -- North Bend Area  5.2 miles, roundtrip   \n",
       "742          Snoqualmie Region -- Snoqualmie Pass  5.0 miles, roundtrip   \n",
       "785          Snoqualmie Region -- Snoqualmie Pass  9.0 miles, roundtrip   \n",
       "837          Snoqualmie Region -- Snoqualmie Pass  9.0 miles, roundtrip   \n",
       "887                             Snoqualmie Region  3.8 miles, roundtrip   \n",
       "1715  Snoqualmie Region -- Salmon La Sac/Teanaway  8.0 miles, roundtrip   \n",
       "1721         Snoqualmie Region -- Snoqualmie Pass  6.0 miles, roundtrip   \n",
       "2171         Snoqualmie Region -- North Bend Area  8.0 miles, roundtrip   \n",
       "2395         Snoqualmie Region -- North Bend Area  7.0 miles, roundtrip   \n",
       "2981         Snoqualmie Region -- Snoqualmie Pass  8.2 miles, roundtrip   \n",
       "\n",
       "      elevation gain         rating  number_votes  \\\n",
       "79            3400.0  4.23 out of 5          61.0   \n",
       "82            3800.0  4.33 out of 5          66.0   \n",
       "87            4000.0  4.00 out of 5          24.0   \n",
       "90            3150.0  3.99 out of 5         153.0   \n",
       "251           3250.0  3.86 out of 5          35.0   \n",
       "335           3420.0  4.46 out of 5          13.0   \n",
       "354           3020.0  3.83 out of 5           6.0   \n",
       "670           4000.0  4.33 out of 5          97.0   \n",
       "742           3750.0  4.00 out of 5           4.0   \n",
       "785           6244.0  0.00 out of 5           0.0   \n",
       "837           3700.0  3.75 out of 5          20.0   \n",
       "887           3105.0  4.50 out of 5           6.0   \n",
       "1715          3400.0  0.00 out of 5           0.0   \n",
       "1721          3300.0  0.00 out of 5           0.0   \n",
       "2171          4100.0  4.20 out of 5           5.0   \n",
       "2395          3400.0  3.00 out of 5           4.0   \n",
       "2981          3326.0  2.75 out of 5           8.0   \n",
       "\n",
       "                                               features  \\\n",
       "79    [Ridges/passes, Dogs allowed on leash, Fall fo...   \n",
       "82    [Mountain views, Dogs allowed on leash, Summit...   \n",
       "87                              [Summits, Fall foliage]   \n",
       "90                      [Old growth, Summits, Wildlife]   \n",
       "251   [Mountain views, Dogs allowed on leash, Establ...   \n",
       "335   [Mountain views, Wildlife, Waterfalls, Old gro...   \n",
       "354                           [Mountain views, Summits]   \n",
       "670   [Wildflowers/Meadows, Mountain views, Dogs all...   \n",
       "742                                                  []   \n",
       "785                    [Dogs allowed on leash, Summits]   \n",
       "837               [Mountain views, Old growth, Summits]   \n",
       "887                                                  []   \n",
       "1715                                   [Summits, Lakes]   \n",
       "1721                                                 []   \n",
       "2171                                                 []   \n",
       "2395                                                 []   \n",
       "2981                          [Mountain views, Summits]   \n",
       "\n",
       "      pass(0-no pass, 1- pass required)                      which_pass  \\\n",
       "79                                    1  Northwest Forest Pass required   \n",
       "82                                    1  Northwest Forest Pass required   \n",
       "87                                    1          Discover Pass required   \n",
       "90                                    1          Discover Pass required   \n",
       "251                                   1          Discover Pass required   \n",
       "335                                   1          Discover Pass required   \n",
       "354                                   1  Northwest Forest Pass required   \n",
       "670                                   1          Discover Pass required   \n",
       "742                                   1                             NaN   \n",
       "785                                   1  Northwest Forest Pass required   \n",
       "837                                   1  Northwest Forest Pass required   \n",
       "887                                   1  Northwest Forest Pass required   \n",
       "1715                                  1  Northwest Forest Pass required   \n",
       "1721                                  1          Sno-Park pass required   \n",
       "2171                                  1  Northwest Forest Pass required   \n",
       "2395                                  1                             NaN   \n",
       "2981                                  1          Discover Pass required   \n",
       "\n",
       "      time_from_seattle                                                url  \\\n",
       "79            56.150000  http://www.wta.org/go-hiking/hikes/bandera-mou...   \n",
       "82            47.200000  http://www.wta.org/go-hiking/hikes/granite-mou...   \n",
       "87            42.816667    http://www.wta.org/go-hiking/hikes/mailbox-peak   \n",
       "90            40.266667        http://www.wta.org/go-hiking/hikes/mount-si   \n",
       "251           38.283333  http://www.wta.org/go-hiking/hikes/mount-washi...   \n",
       "335           43.233333  http://www.wta.org/go-hiking/hikes/mount-si-ol...   \n",
       "354           56.150000   http://www.wta.org/go-hiking/hikes/west-defiance   \n",
       "670           42.816667  http://www.wta.org/go-hiking/hikes/mailbox-pea...   \n",
       "742           47.466667  http://www.wta.org/go-hiking/hikes/granite-mou...   \n",
       "785           54.666667      http://www.wta.org/go-hiking/hikes/chair-peak   \n",
       "837           41.400000  http://www.wta.org/go-hiking/hikes/mcclellan-b...   \n",
       "887           53.633333  http://www.wta.org/go-hiking/hikes/mount-snoqu...   \n",
       "1715          73.833333  http://www.wta.org/go-hiking/hikes/thomas-moun...   \n",
       "1721          51.900000    http://www.wta.org/go-hiking/hikes/low-mountain   \n",
       "2171          71.700000  http://www.wta.org/go-hiking/hikes/rooster-mou...   \n",
       "2395          52.833333    http://www.wta.org/go-hiking/hikes/duke-of-kent   \n",
       "2981          42.283333  http://www.wta.org/go-hiking/hikes/dirty-harry...   \n",
       "\n",
       "                                                latlong  numReports  \\\n",
       "79    http://maps.google.com/maps?hl=en&sz=11&spn=0....       561.0   \n",
       "82    http://maps.google.com/maps?hl=en&sz=11&spn=0....       864.0   \n",
       "87    http://maps.google.com/maps?hl=en&sz=11&spn=0....       220.0   \n",
       "90    http://maps.google.com/maps?hl=en&sz=11&spn=0....      1040.0   \n",
       "251   http://maps.google.com/maps?hl=en&sz=11&spn=0....       446.0   \n",
       "335   http://maps.google.com/maps?hl=en&sz=11&spn=0....       135.0   \n",
       "354   http://maps.google.com/maps?hl=en&sz=11&spn=0....        89.0   \n",
       "670   http://maps.google.com/maps?hl=en&sz=11&spn=0....       803.0   \n",
       "742   http://maps.google.com/maps?hl=en&sz=11&spn=0....        81.0   \n",
       "785   http://maps.google.com/maps?hl=en&sz=11&spn=0....         2.0   \n",
       "837   http://maps.google.com/maps?hl=en&sz=11&spn=0....       277.0   \n",
       "887   http://maps.google.com/maps?hl=en&sz=11&spn=0....       122.0   \n",
       "1715  http://maps.google.com/maps?hl=en&sz=11&spn=0....         7.0   \n",
       "1721  http://maps.google.com/maps?hl=en&sz=11&spn=0....         4.0   \n",
       "2171  http://maps.google.com/maps?hl=en&sz=11&spn=0....        17.0   \n",
       "2395  http://maps.google.com/maps?hl=en&sz=11&spn=0....         2.0   \n",
       "2981  http://maps.google.com/maps?hl=en&sz=11&spn=0....       121.0   \n",
       "\n",
       "                                              hike_desc  stars  total_dist  \\\n",
       "79    Bandera Mountain is a chameleon. Most would de...   4.23         8.0   \n",
       "82    The astounding views from the summit of the Gr...   4.33         8.6   \n",
       "87    This hike will have weekly closures during the...   4.00         9.4   \n",
       "90    In the legends of the Snoqualmie people, Mount...   3.99         8.0   \n",
       "251   Ditch the North Bend crowds by heading six mil...   3.86         8.5   \n",
       "335   The “old” trail that ascends Mount Si’s wester...   4.46         7.4   \n",
       "354   Hike the Ira Spring trail for to the first swi...   3.83         6.8   \n",
       "670   This hike will have weekly closures during the...   4.33         5.2   \n",
       "742   Regardless of the air temperature, be prepared...   4.00         5.0   \n",
       "785   A scramble of a peak in the Alpine Lakes Wilde...   0.00         9.0   \n",
       "837   Along with the numerous other I-90 hikes there...   3.75         9.0   \n",
       "887   A very steep scramble to the summit of a peak ...   4.50         3.8   \n",
       "1715                                                NaN   0.00         8.0   \n",
       "1721                                                NaN   0.00         6.0   \n",
       "2171                                                NaN   4.20         8.0   \n",
       "2395                                                NaN   3.00         7.0   \n",
       "2981                                                NaN   2.75         8.2   \n",
       "\n",
       "               lat_long  \n",
       "79    47.4247,-121.5836  \n",
       "82    47.3979,-121.4860  \n",
       "87    47.4675,-121.6748  \n",
       "90    47.4880,-121.7231  \n",
       "251   47.4420,-121.6722  \n",
       "335   47.4408,-121.6253  \n",
       "354   47.4267,-121.5864  \n",
       "670   47.4674,-121.6748  \n",
       "742   47.3979,-121.4878  \n",
       "785   47.4154,-121.4433  \n",
       "837   47.4142,-121.5884  \n",
       "887   47.4453,-121.4234  \n",
       "1715  47.2676,-121.1742  \n",
       "1721  47.4348,-121.4693  \n",
       "2171  47.5597,-121.5328  \n",
       "2395  47.4093,-121.6023  \n",
       "2981  47.4343,-121.6327  "
      ]
     },
     "execution_count": 9,
     "metadata": {},
     "output_type": "execute_result"
    }
   ],
   "source": [
    "data[(data['time_from_seattle']<80) & (data['total_dist']<10) & (data['elevation gain']>3000)]"
   ]
  },
  {
   "cell_type": "markdown",
   "metadata": {
    "collapsed": true
   },
   "source": [
    "## Finding and Removing Outliers "
   ]
  },
  {
   "cell_type": "code",
   "execution_count": 89,
   "metadata": {
    "collapsed": false
   },
   "outputs": [
    {
     "data": {
      "text/plain": [
       "(3385, 18)"
      ]
     },
     "execution_count": 89,
     "metadata": {},
     "output_type": "execute_result"
    }
   ],
   "source": [
    "df = pd.read_csv('data/washington_hikes_clean.csv')\n",
    "df.shape"
   ]
  },
  {
   "cell_type": "code",
   "execution_count": 90,
   "metadata": {
    "collapsed": false
   },
   "outputs": [],
   "source": [
    "df = df[~(np.abs(df['elevation gain']-df['elevation gain'].mean())>(3*df['elevation gain'].std()))]"
   ]
  },
  {
   "cell_type": "code",
   "execution_count": 94,
   "metadata": {
    "collapsed": true
   },
   "outputs": [],
   "source": [
    "df = df[~(np.abs(df['total_dist']-df['total_dist'].mean())>(3*df['total_dist'].std()))]"
   ]
  },
  {
   "cell_type": "code",
   "execution_count": 95,
   "metadata": {
    "collapsed": false
   },
   "outputs": [
    {
     "data": {
      "text/plain": [
       "(3337, 18)"
      ]
     },
     "execution_count": 95,
     "metadata": {},
     "output_type": "execute_result"
    }
   ],
   "source": [
    "df.shape"
   ]
  },
  {
   "cell_type": "code",
   "execution_count": 96,
   "metadata": {
    "collapsed": false
   },
   "outputs": [
    {
     "data": {
      "text/plain": [
       "<matplotlib.axes._subplots.AxesSubplot at 0x116e844d0>"
      ]
     },
     "execution_count": 96,
     "metadata": {},
     "output_type": "execute_result"
    },
    {
     "data": {
      "image/png": "[encoded data removed]",
      "text/plain": [
       "<matplotlib.figure.Figure at 0x117c25050>"
      ]
     },
     "metadata": {},
     "output_type": "display_data"
    }
   ],
   "source": [
    "sns.regplot(df['total_dist'], df['elevation gain'])"
   ]
  },
  {
   "cell_type": "code",
   "execution_count": 97,
   "metadata": {
    "collapsed": true
   },
   "outputs": [],
   "source": [
    "df.to_csv('data/washington_hikes_clean_noout.csv', index_col=0)"
   ]
  },
  {
   "cell_type": "code",
   "execution_count": null,
   "metadata": {
    "collapsed": true
   },
   "outputs": [],
   "source": []
  }
 ],
 "metadata": {
  "kernelspec": {
   "display_name": "Python 2",
   "language": "python",
   "name": "python2"
  },
  "language_info": {
   "codemirror_mode": {
    "name": "ipython",
    "version": 2
   },
   "file_extension": ".py",
   "mimetype": "text/x-python",
   "name": "python",
   "nbconvert_exporter": "python",
   "pygments_lexer": "ipython2",
   "version": "2.7.12"
  }
 },
 "nbformat": 4,
 "nbformat_minor": 0
}
