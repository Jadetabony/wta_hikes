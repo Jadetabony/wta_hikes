{
 "cells": [
  {
   "cell_type": "markdown",
   "metadata": {},
   "source": [
    "# Sentiment Analysis\n",
    "\n",
    "**The Problem**  While hikes on the WTA have an average star rating, the individual ratings are not available.  Since individual trip reports are present with username, I decided to attempt to create a sentiment analysis based rating for the trip reports.\n",
    "\n",
    "**Methods Tried**\n",
    "    - Sentiment analysis with algorithms that already exist in python:\n",
    "        * TextBlob Polarity\n",
    "        * Turi GraphLab Sentiment Analysis\n",
    "    - Collecting training data from everytrail.com- each report also has a star rating and creating my own using the following methods:\n",
    "        * Turi GraphLab Sentiment Analysis tool\n",
    "        * Multinomial bayes sentiment analyzer built in python."
   ]
  },
  {
   "cell_type": "code",
   "execution_count": 1,
   "metadata": {
    "collapsed": false
   },
   "outputs": [],
   "source": [
    "from __future__ import division\n",
    "import pandas as pd\n",
    "import numpy as np\n",
    "import string\n",
    "import re\n",
    "import matplotlib.pyplot as plt\n",
    "from src.sentimentAnalysis import detect_sentiment, setRating\n",
    "import cPickle as pickle\n",
    "from pymongo import MongoClient\n",
    "from collections import defaultdict\n",
    "import enchant\n",
    "from nltk.corpus import stopwords\n",
    "%matplotlib inline"
   ]
  },
  {
   "cell_type": "code",
   "execution_count": 2,
   "metadata": {
    "collapsed": false
   },
   "outputs": [],
   "source": [
    "connection = MongoClient()\n",
    "db = connection.wta\n",
    "tripReports = db.trip_reports"
   ]
  },
  {
   "cell_type": "code",
   "execution_count": 3,
   "metadata": {
    "collapsed": true
   },
   "outputs": [],
   "source": [
    "def mongo2PandasClean(mongodb, clean_creator=True, drop_id=True):\n",
    "    df = pd.DataFrame(list(mongodb.find()))\n",
    "    if drop_id:\n",
    "        del df['_id']\n",
    "    return df"
   ]
  },
  {
   "cell_type": "code",
   "execution_count": 4,
   "metadata": {
    "collapsed": false
   },
   "outputs": [],
   "source": [
    "df = mongo2PandasClean(tripReports)"
   ]
  },
  {
   "cell_type": "code",
   "execution_count": 5,
   "metadata": {
    "collapsed": false
   },
   "outputs": [],
   "source": [
    "df = df[df['hike_name']!='']"
   ]
  },
  {
   "cell_type": "markdown",
   "metadata": {
    "collapsed": false
   },
   "source": [
    "### Unpickle Hike identifier and id hikes"
   ]
  },
  {
   "cell_type": "code",
   "execution_count": 6,
   "metadata": {
    "collapsed": false
   },
   "outputs": [],
   "source": [
    "with open('../pickle/ider.pkl', 'rb') as f:\n",
    "    ider = pickle.load(f)\n",
    "df['hike_id'] = [ider[t.encode('utf-8')] for t in df['hike_name']]"
   ]
  },
  {
   "cell_type": "code",
   "execution_count": 7,
   "metadata": {
    "collapsed": false
   },
   "outputs": [
    {
     "data": {
      "text/html": [
       "<div>\n",
       "<table border=\"1\" class=\"dataframe\">\n",
       "  <thead>\n",
       "    <tr style=\"text-align: right;\">\n",
       "      <th></th>\n",
       "      <th>Creator</th>\n",
       "      <th>Date</th>\n",
       "      <th>Rating</th>\n",
       "      <th>Text</th>\n",
       "      <th>author_id</th>\n",
       "      <th>hike_id</th>\n",
       "      <th>hike_name</th>\n",
       "    </tr>\n",
       "  </thead>\n",
       "  <tbody>\n",
       "    <tr>\n",
       "      <th>0</th>\n",
       "      <td>amart005</td>\n",
       "      <td>Jul 31, 2016</td>\n",
       "      <td>2</td>\n",
       "      <td>The first meadow is a marshy mess, but after t...</td>\n",
       "      <td>12474</td>\n",
       "      <td>0</td>\n",
       "      <td>Grand Park via Lake Eleanor</td>\n",
       "    </tr>\n",
       "    <tr>\n",
       "      <th>1</th>\n",
       "      <td>xandwich</td>\n",
       "      <td>Jul 26, 2016</td>\n",
       "      <td>3</td>\n",
       "      <td>Well...we got to Mount Rainier Tuesday morning...</td>\n",
       "      <td>19583</td>\n",
       "      <td>0</td>\n",
       "      <td>Grand Park via Lake Eleanor</td>\n",
       "    </tr>\n",
       "    <tr>\n",
       "      <th>2</th>\n",
       "      <td>HeatherD</td>\n",
       "      <td>Jul 25, 2016</td>\n",
       "      <td>1</td>\n",
       "      <td>Found hiking poles at Lake Eleanor. Comment wi...</td>\n",
       "      <td>4317</td>\n",
       "      <td>0</td>\n",
       "      <td>Grand Park via Lake Eleanor</td>\n",
       "    </tr>\n",
       "    <tr>\n",
       "      <th>3</th>\n",
       "      <td>Lindy99</td>\n",
       "      <td>Jul 24, 2016</td>\n",
       "      <td>4</td>\n",
       "      <td>The WTA guide says this hike is 1,100 foot ele...</td>\n",
       "      <td>6676</td>\n",
       "      <td>0</td>\n",
       "      <td>Grand Park via Lake Eleanor</td>\n",
       "    </tr>\n",
       "    <tr>\n",
       "      <th>4</th>\n",
       "      <td>SpartanHiker</td>\n",
       "      <td>Jul 23, 2016</td>\n",
       "      <td>4</td>\n",
       "      <td>Wonderful hike to Grand park.  Overall the tra...</td>\n",
       "      <td>10392</td>\n",
       "      <td>0</td>\n",
       "      <td>Grand Park via Lake Eleanor</td>\n",
       "    </tr>\n",
       "  </tbody>\n",
       "</table>\n",
       "</div>"
      ],
      "text/plain": [
       "        Creator          Date Rating  \\\n",
       "0      amart005  Jul 31, 2016      2   \n",
       "1      xandwich  Jul 26, 2016      3   \n",
       "2      HeatherD  Jul 25, 2016      1   \n",
       "3       Lindy99  Jul 24, 2016      4   \n",
       "4  SpartanHiker  Jul 23, 2016      4   \n",
       "\n",
       "                                                Text  author_id  hike_id  \\\n",
       "0  The first meadow is a marshy mess, but after t...      12474        0   \n",
       "1  Well...we got to Mount Rainier Tuesday morning...      19583        0   \n",
       "2  Found hiking poles at Lake Eleanor. Comment wi...       4317        0   \n",
       "3  The WTA guide says this hike is 1,100 foot ele...       6676        0   \n",
       "4  Wonderful hike to Grand park.  Overall the tra...      10392        0   \n",
       "\n",
       "                     hike_name  \n",
       "0  Grand Park via Lake Eleanor  \n",
       "1  Grand Park via Lake Eleanor  \n",
       "2  Grand Park via Lake Eleanor  \n",
       "3  Grand Park via Lake Eleanor  \n",
       "4  Grand Park via Lake Eleanor  "
      ]
     },
     "execution_count": 7,
     "metadata": {},
     "output_type": "execute_result"
    }
   ],
   "source": [
    "df.head()"
   ]
  },
  {
   "cell_type": "markdown",
   "metadata": {},
   "source": [
    "## Sentiment analysis"
   ]
  },
  {
   "cell_type": "code",
   "execution_count": 9,
   "metadata": {
    "collapsed": false
   },
   "outputs": [],
   "source": [
    "df['TextBlobSentiment'] = [detect_sentiment(t) for t in df['Text']]"
   ]
  },
  {
   "cell_type": "code",
   "execution_count": 10,
   "metadata": {
    "collapsed": false
   },
   "outputs": [
    {
     "data": {
      "text/plain": [
       "<matplotlib.text.Text at 0x119b5b050>"
      ]
     },
     "execution_count": 10,
     "metadata": {},
     "output_type": "execute_result"
    },
    {
     "data": {
      "image/png": "[encoded data removed]",
      "text/plain": [
       "<matplotlib.figure.Figure at 0x121037b90>"
      ]
     },
     "metadata": {},
     "output_type": "display_data"
    }
   ],
   "source": [
    "_=plt.boxplot(df.TextBlobSentiment)\n",
    "plt.title('TextBlob Sentiment Analysis')\n",
    "plt.ylabel('-1 Negative Sentiment, 1 Positive Sentiment')\n",
    "plt.xlabel('Trip Reports')"
   ]
  },
  {
   "cell_type": "code",
   "execution_count": 11,
   "metadata": {
    "collapsed": false
   },
   "outputs": [
    {
     "data": {
      "text/plain": [
       "<matplotlib.text.Text at 0x12bc762d0>"
      ]
     },
     "execution_count": 11,
     "metadata": {},
     "output_type": "execute_result"
    },
    {
     "data": {
      "image/png": "[encoded data removed]",
      "text/plain": [
       "<matplotlib.figure.Figure at 0x119bb5750>"
      ]
     },
     "metadata": {},
     "output_type": "display_data"
    }
   ],
   "source": [
    "_=plt.hist(df['TextBlobSentiment'], bins=50)\n",
    "plt.title('Distribution of TextBlob Sentiment Ratings on Trip Reports')\n",
    "plt.vlines(np.percentile(df['TextBlobSentiment'], 25), 0, 14000, colors='red')\n",
    "plt.vlines(np.percentile(df['TextBlobSentiment'], 75), 0, 14000, colors='red')\n",
    "plt.ylabel('Number of Reports')\n",
    "plt.xlabel('Sentiment Analysis Rating (-1 Negative Sentiment, 1 Positive Sentiment)')"
   ]
  },
  {
   "cell_type": "code",
   "execution_count": 12,
   "metadata": {
    "collapsed": true
   },
   "outputs": [],
   "source": [
    "df['Rating'] = setRating(df, 'TextBlobSentiment') "
   ]
  },
  {
   "cell_type": "code",
   "execution_count": 34,
   "metadata": {
    "collapsed": true
   },
   "outputs": [],
   "source": [
    "hike_df = pd.read_csv('data/washington_hikes_clean_noout.csv')\n",
    "hike_df = hike_df[['hike_id','stars']]"
   ]
  },
  {
   "cell_type": "code",
   "execution_count": 35,
   "metadata": {
    "collapsed": false
   },
   "outputs": [
    {
     "data": {
      "text/html": [
       "<div>\n",
       "<table border=\"1\" class=\"dataframe\">\n",
       "  <thead>\n",
       "    <tr style=\"text-align: right;\">\n",
       "      <th></th>\n",
       "      <th>Rating</th>\n",
       "      <th>author_id</th>\n",
       "      <th>TextBlobSentiment</th>\n",
       "    </tr>\n",
       "    <tr>\n",
       "      <th>hike_id</th>\n",
       "      <th></th>\n",
       "      <th></th>\n",
       "      <th></th>\n",
       "    </tr>\n",
       "  </thead>\n",
       "  <tbody>\n",
       "    <tr>\n",
       "      <th>0</th>\n",
       "      <td>3.309623</td>\n",
       "      <td>10214.899582</td>\n",
       "      <td>0.185290</td>\n",
       "    </tr>\n",
       "    <tr>\n",
       "      <th>1</th>\n",
       "      <td>3.000000</td>\n",
       "      <td>9227.500000</td>\n",
       "      <td>0.168322</td>\n",
       "    </tr>\n",
       "    <tr>\n",
       "      <th>2</th>\n",
       "      <td>2.111111</td>\n",
       "      <td>10932.185185</td>\n",
       "      <td>0.104747</td>\n",
       "    </tr>\n",
       "    <tr>\n",
       "      <th>3</th>\n",
       "      <td>3.000000</td>\n",
       "      <td>7689.600000</td>\n",
       "      <td>0.203857</td>\n",
       "    </tr>\n",
       "    <tr>\n",
       "      <th>4</th>\n",
       "      <td>2.600000</td>\n",
       "      <td>10487.400000</td>\n",
       "      <td>0.126434</td>\n",
       "    </tr>\n",
       "  </tbody>\n",
       "</table>\n",
       "</div>"
      ],
      "text/plain": [
       "           Rating     author_id  TextBlobSentiment\n",
       "hike_id                                           \n",
       "0        3.309623  10214.899582           0.185290\n",
       "1        3.000000   9227.500000           0.168322\n",
       "2        2.111111  10932.185185           0.104747\n",
       "3        3.000000   7689.600000           0.203857\n",
       "4        2.600000  10487.400000           0.126434"
      ]
     },
     "execution_count": 35,
     "metadata": {},
     "output_type": "execute_result"
    }
   ],
   "source": [
    "mean_text_ratings = df.groupby(by='hike_id').mean()\n",
    "\n",
    "mean_text_ratings.head()"
   ]
  },
  {
   "cell_type": "code",
   "execution_count": 36,
   "metadata": {
    "collapsed": false
   },
   "outputs": [],
   "source": [
    "merged_ratings = hike_df.merge(mean_text_ratings, left_on='hike_id', right_index=True).drop(labels=['author_id','TextBlobSentiment'],axis=1)"
   ]
  },
  {
   "cell_type": "code",
   "execution_count": 37,
   "metadata": {
    "collapsed": false
   },
   "outputs": [
    {
     "data": {
      "text/html": [
       "<div>\n",
       "<table border=\"1\" class=\"dataframe\">\n",
       "  <thead>\n",
       "    <tr style=\"text-align: right;\">\n",
       "      <th></th>\n",
       "      <th>hike_id</th>\n",
       "      <th>stars</th>\n",
       "      <th>Rating</th>\n",
       "    </tr>\n",
       "  </thead>\n",
       "  <tbody>\n",
       "    <tr>\n",
       "      <th>0</th>\n",
       "      <td>0</td>\n",
       "      <td>4.25</td>\n",
       "      <td>3.309623</td>\n",
       "    </tr>\n",
       "    <tr>\n",
       "      <th>1</th>\n",
       "      <td>1</td>\n",
       "      <td>2.33</td>\n",
       "      <td>3.000000</td>\n",
       "    </tr>\n",
       "    <tr>\n",
       "      <th>2</th>\n",
       "      <td>2</td>\n",
       "      <td>3.00</td>\n",
       "      <td>2.111111</td>\n",
       "    </tr>\n",
       "    <tr>\n",
       "      <th>3</th>\n",
       "      <td>3</td>\n",
       "      <td>3.67</td>\n",
       "      <td>3.000000</td>\n",
       "    </tr>\n",
       "    <tr>\n",
       "      <th>4</th>\n",
       "      <td>4</td>\n",
       "      <td>2.75</td>\n",
       "      <td>2.600000</td>\n",
       "    </tr>\n",
       "  </tbody>\n",
       "</table>\n",
       "</div>"
      ],
      "text/plain": [
       "   hike_id  stars    Rating\n",
       "0        0   4.25  3.309623\n",
       "1        1   2.33  3.000000\n",
       "2        2   3.00  2.111111\n",
       "3        3   3.67  3.000000\n",
       "4        4   2.75  2.600000"
      ]
     },
     "execution_count": 37,
     "metadata": {},
     "output_type": "execute_result"
    }
   ],
   "source": [
    "merged_ratings.head()"
   ]
  },
  {
   "cell_type": "code",
   "execution_count": 38,
   "metadata": {
    "collapsed": false
   },
   "outputs": [
    {
     "data": {
      "text/plain": [
       "<matplotlib.text.Text at 0x11baeb250>"
      ]
     },
     "execution_count": 38,
     "metadata": {},
     "output_type": "execute_result"
    },
    {
     "data": {
      "image/png": "[encoded data removed]",
      "text/plain": [
       "<matplotlib.figure.Figure at 0x122ada450>"
      ]
     },
     "metadata": {},
     "output_type": "display_data"
    }
   ],
   "source": [
    "plt.scatter(merged_ratings['stars'], merged_ratings['Rating'])\n",
    "plt.xlabel('WTA Average Star Rating')\n",
    "plt.ylabel('Average Star Rating Calculated with \\n TextBlob Sentiment Analysis')"
   ]
  },
  {
   "cell_type": "code",
   "execution_count": 39,
   "metadata": {
    "collapsed": false
   },
   "outputs": [
    {
     "data": {
      "text/html": [
       "<div>\n",
       "<table border=\"1\" class=\"dataframe\">\n",
       "  <thead>\n",
       "    <tr style=\"text-align: right;\">\n",
       "      <th></th>\n",
       "      <th>hike_id</th>\n",
       "      <th>stars</th>\n",
       "      <th>Rating</th>\n",
       "    </tr>\n",
       "  </thead>\n",
       "  <tbody>\n",
       "    <tr>\n",
       "      <th>hike_id</th>\n",
       "      <td>1.000000</td>\n",
       "      <td>-0.133472</td>\n",
       "      <td>-0.063709</td>\n",
       "    </tr>\n",
       "    <tr>\n",
       "      <th>stars</th>\n",
       "      <td>-0.133472</td>\n",
       "      <td>1.000000</td>\n",
       "      <td>0.097723</td>\n",
       "    </tr>\n",
       "    <tr>\n",
       "      <th>Rating</th>\n",
       "      <td>-0.063709</td>\n",
       "      <td>0.097723</td>\n",
       "      <td>1.000000</td>\n",
       "    </tr>\n",
       "  </tbody>\n",
       "</table>\n",
       "</div>"
      ],
      "text/plain": [
       "          hike_id     stars    Rating\n",
       "hike_id  1.000000 -0.133472 -0.063709\n",
       "stars   -0.133472  1.000000  0.097723\n",
       "Rating  -0.063709  0.097723  1.000000"
      ]
     },
     "execution_count": 39,
     "metadata": {},
     "output_type": "execute_result"
    }
   ],
   "source": [
    "merged_ratings.corr()"
   ]
  },
  {
   "cell_type": "markdown",
   "metadata": {},
   "source": [
    "## Using Dato Graphlab sentiment analysis:\n",
    "\n",
    "https://turi.com/products/create/docs/generated/graphlab.sentiment_analysis.create.html#graphlab.sentiment_analysis.create\n"
   ]
  },
  {
   "cell_type": "code",
   "execution_count": 40,
   "metadata": {
    "collapsed": true
   },
   "outputs": [],
   "source": [
    "import graphlab as gl"
   ]
  },
  {
   "cell_type": "code",
   "execution_count": 41,
   "metadata": {
    "collapsed": false
   },
   "outputs": [],
   "source": [
    "#df = df.dropna()\n",
    "df['hike_id'] = df['hike_id'].fillna(np.nan).astype(int)\n",
    "df['author_id'] = df['author_id'].fillna(np.nan).astype(int)\n",
    "sf = gl.SFrame(df)"
   ]
  },
  {
   "cell_type": "code",
   "execution_count": 42,
   "metadata": {
    "collapsed": false
   },
   "outputs": [],
   "source": [
    "m = gl.sentiment_analysis.create(sf, features=['Text'])"
   ]
  },
  {
   "cell_type": "code",
   "execution_count": 43,
   "metadata": {
    "collapsed": false
   },
   "outputs": [],
   "source": [
    "df['GraphLabSentiment'] = m.predict(sf)"
   ]
  },
  {
   "cell_type": "code",
   "execution_count": 44,
   "metadata": {
    "collapsed": false
   },
   "outputs": [
    {
     "data": {
      "text/plain": [
       "<matplotlib.text.Text at 0x1207ef590>"
      ]
     },
     "execution_count": 44,
     "metadata": {},
     "output_type": "execute_result"
    },
    {
     "data": {
      "image/png": "[encoded data removed]",
      "text/plain": [
       "<matplotlib.figure.Figure at 0x11f600750>"
      ]
     },
     "metadata": {},
     "output_type": "display_data"
    }
   ],
   "source": [
    "_=plt.boxplot(df['GraphLabSentiment'])\n",
    "plt.title('GraphLab Sentiment Analysis')\n",
    "plt.ylabel('0 Negative Sentiment, 1 Positive Sentiment')\n",
    "plt.xlabel('Trip Reports')"
   ]
  },
  {
   "cell_type": "code",
   "execution_count": 45,
   "metadata": {
    "collapsed": false
   },
   "outputs": [
    {
     "data": {
      "text/plain": [
       "<matplotlib.text.Text at 0x119d0c990>"
      ]
     },
     "execution_count": 45,
     "metadata": {},
     "output_type": "execute_result"
    },
    {
     "data": {
      "image/png": "[encoded data removed]",
      "text/plain": [
       "<matplotlib.figure.Figure at 0x11d8befd0>"
      ]
     },
     "metadata": {},
     "output_type": "display_data"
    }
   ],
   "source": [
    "_=plt.hist(df['GraphLabSentiment'], bins=50)\n",
    "plt.title('Distribution of GraphLab Sentiment Ratings on Trip Reports')\n",
    "plt.ylabel('Number of Reports')\n",
    "plt.xlabel('Sentiment Analysis Rating (0 Negative Sentiment, 1 Positive Sentiment)')"
   ]
  },
  {
   "cell_type": "code",
   "execution_count": 46,
   "metadata": {
    "collapsed": false
   },
   "outputs": [
    {
     "name": "stdout",
     "output_type": "stream",
     "text": [
      "Great day for a hike, and a lot of other folks thought the same thing.  I've never seen Grand Park so busy, but I'm also not used to hiking on weekends.  There was some mud and snow on the trail, and some blowdown to duck under, but nothing too bad.  The weather was glorious and the mountain put on a nice show. \r",
      " There was a group of people who had a dog at Grand Park.  When we told them dogs aren't allowed they first claimed that they didn't see the signs, then changed their story and claimed it was a \"comfort animal\".  My wife got pretty vocal with the dingbats, and then as we were parting ways the old guy in the group shouted out, \"Go Bernie!!\"  I was perplexed at what exactly that could mean.  At first I thought he was a Bernie supporter, but upon further reflection I think it was meant as some sort of insult.  Hard to tell.  I replied, \"Make America great again!!\" and we headed on down the trail while the old guy dropped f-bombs in our general direction.  Just another lovely day in nature.\n",
      "\n",
      "\n",
      "Maybe I'm just an idiot or the directions aren't very clear. I could not find this hike after searching for 3 hours, wasted my entire day. Even asked park rangers if they knew about this hike and they never heard about it, we looked it up on this website and the park ranger was completely confused as I was.\n",
      "\n",
      "\n",
      "Trail was snow free, just a small patch near Grand Park, that seemed to be melting out. The mosquitos were SOOO bad. Worse than any hike I've ever done. We had to put sunscreen on in the car so they wouldn't attack us and we all put on insect repellant and had a tough time keeping them off still. The worst was the first mile to the lake. After that there were still lots, but not as bad if you kept moving. It was hard to stop and enjoy the gorgeous view in Grand Park because of how bad the mosquitos were. We have two kids (1 1/2 yr old and a 4 yr old). Usually the 4 year old can manage the hike just fine, but the bugs were so bad, we decided to just go as fast as we could and carry them both. Somehow, maybe the insect repellant did do something, me and my two kids managed to get out mosquito bite free (probably the constant swatting), but my poor husband got about 10 visible bites on just one arm, despite the insect repellant. I had done this same hike a couple years ago and I don't even remember using insect repellant so we must've just gone during a bad time. Still had a good time and weather was hot! Jumped in the lake (very quickly to avoid mosquitos!) on our way out. Also there were several muddy parts on the trail, but we were able to pass them okay.\r",
      " Road to trailhead was good, minus the potholes, and even though it was a Saturday, we found somewhere to park pretty easily. I've driven on the road in a front-wheel drive sedan before and had no problems.\n",
      "\n",
      "\n",
      "We started at the dog park and went up the trail that begins on the right side (west of the dog area). After following the trail up the grade, which follows parallel to the water and gravel road to the east, we stayed to the right at the Y's. We eventually ended up at another entrance to the trail on 6th street (see photos for map). \r",
      " The jaunt we took going south (where we back-tracked) was likely going to take us to Randolph Road, but I'm not sure exactly. We turned around because my partner's knee was bothering him. The trail down to 6th street is pretty overgrown, but it was obvious there was still a trial there. \r",
      " I walked through lots of spiderwebs (you're welcome), so it seemed that not many people used that upper ridge trail (most people stay to the left at the Y's I guess?)\r",
      " Anyhoo, trail was decent, a few patches of mud. The path down to 6th street, which puts you pretty close to someone's home (so I wouldn't necessarily advise it on the regular), starts where you see the split tree on the path (see photo). That's likely a sign that maybe it shouldn't be used, but my partner didn't want to risk going back the way we came and further injure his knee. \r",
      " My tracker said it was 1.35 miles (with the extra jaunt and back), a max elevation gain of 174 feet (with max at 363 feet),\n",
      "\n",
      "\n",
      "Trail stats say hike is 6.5 miles roundtrip, but it was 7.4 miles per my distance tracker. Took roughly 1 hr. 45 min. up, 1 hr. 15 mins back down.\n",
      "\n",
      "\n",
      "**TOWING ALERT**\r",
      " To all members of the hiking community, please be very aware when you visit this trail that there is an ongoing problem with towing cars from the side of the highway that, at best, will ruin your hike, and at worst, poses a threat to the safety of everyone hiking this trail. \r",
      " We were part of a group of at least 10 other cars that were towed on Saturday. All cars were noted as 'abandoned' and 'over the fogline' on the towing reports, which were stickered to a highway sign. No clear directions were given to locate where your vehicle was towed, and the phone number to WSP went straight to voicemail Everyone had to find their towing agency online (if they had signal) or walk along the highway to the restaurant to borrow a phone book, then find transportation to their respective impound lots. \r",
      " This is not about protecting the safety of people on the highway, for the simple fact that leaving at least 15-20 people stranded on the side of the highway puts everyone at risk. Some of the people we talked to had their phones and money in their cars, and so were effectively cut off from accessing help via taxi and had to get rides from strangers. How is this a good move for public safety? And leaving that many people abandoned on the side of the road, where they could easily get hit by oncoming cars or have some other accident or misfortune while trying to figure out how to get to their cars, is completely unconscionable for an agency that prides itself on protecting the public. Furthermore, no one we spoke to was fined or ticketed--only had their cars impounded, which cost upwards of $300 to retrieve (that is, if you were able to access your car that day.) \r",
      " The hiking community in Washington is a strong one, and I hope people will spread the word that something very, very suspicious is happening here. I suspect that this is not about public safety, but about a select group lining their pockets. Please share this message and if you have ideas on how we can make this trail safer and more accessible for everyone, please comment.\n",
      "\n",
      "\n",
      "The trail head is just before the Oyster Bar. It is marked as PNW trail. The elevation gain flatted nicely through the whole trail, except the last half mile before the fork to Oyster Dome. Nice view on the top.\n",
      "\n",
      "\n",
      "Trail dry except for the mud bog.  Bog seems to get wider every year.  But, thanks to recent trail maintenance, there's several logs and boulders you can use to get across and stay out of the worst of the muck.  Water crossings are easy.The Talus trail spur is closed and posted.  Still no trail marker at the \"T\" intersection at ~2.8mi.  Go left for Oyster Dome.\n",
      "\n",
      "\n",
      "An excellent, short day-hike - roundtrip took us 1.5 hours (including a decent amount of time near Spirit Lake).\r",
      " Trail was in good shape - water run-off had carved through the middle of it in parts, and there were some rocks to navigate close to the lake, but overall it's easy to traverse. Bugs weren't bad (some buzzing around during the first half of the hike).  \r",
      " Trail starts off going downhill and levels off close to the lake.  Views were great (even if the clouds were blocking some of St. Helens), and we only came across maybe 10 other people the entire time (no one was down at the bottom). The climb back up makes you sweat, but considering it is relatively short, it's not bad at all.\n",
      "\n",
      "\n",
      "almost from the start there were many blowdowns which were rather easy to get around, the trail was ok to follow all the way to huckleberry creek. had some trouble finding the trail after crossing huckleberry creek however after about 30 minutes we found the trail going up the hill. we took our time climbing the last hill then about maybe 1/4 of a mile from the top we lost whatever trail there was, it was like it disappeared. we finally gave up and hiked back down heading to the trailhead. bugs were horrible and yes we used repellant which helped a bit. I did this hike 20 years ago(stayed a couple of days) and I never remember it being as rough as it was. obviously the trail is NOT maintained as well as it once may have been. \n",
      "\n",
      "\n"
     ]
    }
   ],
   "source": [
    "for row in df['Text'][df['GraphLabSentiment']<0.2].head(10):\n",
    "    print row\n",
    "    print '\\n'"
   ]
  },
  {
   "cell_type": "markdown",
   "metadata": {
    "collapsed": true
   },
   "source": [
    "## Attempting GraphLab's sentiment analysis with scraped TR training data\n",
    "\n",
    "Using data gathered from everytrail.com"
   ]
  },
  {
   "cell_type": "code",
   "execution_count": null,
   "metadata": {
    "collapsed": false
   },
   "outputs": [],
   "source": [
    "connection.close()"
   ]
  },
  {
   "cell_type": "code",
   "execution_count": null,
   "metadata": {
    "collapsed": false
   },
   "outputs": [],
   "source": [
    "train = db.trainingTR\n",
    "train_df = mongo2PandasClean(train, clean_creator=False)"
   ]
  },
  {
   "cell_type": "code",
   "execution_count": null,
   "metadata": {
    "collapsed": false
   },
   "outputs": [],
   "source": [
    "train_df.info()"
   ]
  },
  {
   "cell_type": "code",
   "execution_count": null,
   "metadata": {
    "collapsed": true
   },
   "outputs": [],
   "source": [
    "train_df['Rating'] = [int(r) for r in train_df['Rating']]"
   ]
  },
  {
   "cell_type": "code",
   "execution_count": null,
   "metadata": {
    "collapsed": false
   },
   "outputs": [],
   "source": [
    "_=plt.boxplot(train_df.Rating)\n",
    "plt.title('Training Text Ratings')\n",
    "plt.ylabel('Number of Stars')\n",
    "plt.xlabel('Trip Reports')"
   ]
  },
  {
   "cell_type": "code",
   "execution_count": null,
   "metadata": {
    "collapsed": false
   },
   "outputs": [],
   "source": [
    "_=plt.hist(train_df.Rating, bins=50)\n",
    "plt.title('Distribution of Star Ratings on EveryTrail.com Trip Reports')\n",
    "plt.ylabel('Number of Reports')\n",
    "plt.xlabel('Number of Stars')"
   ]
  },
  {
   "cell_type": "code",
   "execution_count": null,
   "metadata": {
    "collapsed": false
   },
   "outputs": [],
   "source": [
    "train_df.Rating.value_counts()"
   ]
  },
  {
   "cell_type": "code",
   "execution_count": null,
   "metadata": {
    "collapsed": false
   },
   "outputs": [],
   "source": [
    "train_df.head()"
   ]
  },
  {
   "cell_type": "code",
   "execution_count": null,
   "metadata": {
    "collapsed": false
   },
   "outputs": [],
   "source": [
    "train_sf = gl.SFrame(train_df)"
   ]
  },
  {
   "cell_type": "code",
   "execution_count": null,
   "metadata": {
    "collapsed": false
   },
   "outputs": [],
   "source": [
    "trained_model = gl.sentiment_analysis.create(train_sf, target='Rating', features=['Text'], method='bow-logistic')"
   ]
  },
  {
   "cell_type": "code",
   "execution_count": null,
   "metadata": {
    "collapsed": true
   },
   "outputs": [],
   "source": [
    "df['TrainedModelSentiment'] = trained_model.predict(sf)"
   ]
  },
  {
   "cell_type": "code",
   "execution_count": null,
   "metadata": {
    "collapsed": false
   },
   "outputs": [],
   "source": [
    "_=plt.boxplot(df['TrainedModelSentiment'])\n",
    "plt.title('Trained Model Sentiment Analysis')\n",
    "plt.ylabel('0 Negative Sentiment, 1 Positive Sentiment')\n",
    "plt.xlabel('Trip Reports')"
   ]
  },
  {
   "cell_type": "code",
   "execution_count": null,
   "metadata": {
    "collapsed": false
   },
   "outputs": [],
   "source": [
    "_=plt.hist(df['TrainedModelSentiment'], bins=50)\n",
    "plt.title('Distribution of Trained GraphLab Sentiment Ratings on Trip Reports, Trained on everytrail.com Data')\n",
    "plt.ylabel('Number of Reports')\n",
    "plt.xlabel('Sentiment Analysis Rating (0 Negative Sentiment, 1 Positive Sentiment)')"
   ]
  },
  {
   "cell_type": "markdown",
   "metadata": {},
   "source": [
    "### With Oversampling?"
   ]
  },
  {
   "cell_type": "code",
   "execution_count": null,
   "metadata": {
    "collapsed": true
   },
   "outputs": [],
   "source": [
    "#Find rows with ratings of 3 or less.\n",
    "neg_rows = train_df[train_df['Rating'] < 4].index.tolist()\n",
    "pos_rows = train_df[train_df['Rating'] > 3].index.tolist()"
   ]
  },
  {
   "cell_type": "code",
   "execution_count": null,
   "metadata": {
    "collapsed": false
   },
   "outputs": [],
   "source": [
    "#To start with, lets get random sampling from both the positive and negative reviews\n",
    "\n",
    "neg_reviews = train_df.ix[np.random.choice(neg_rows, size=500, replace=True)]\n",
    "neg_reviews['Rating'] = [1 for r in neg_reviews['Rating']]\n",
    "pos_reviews = train_df.ix[np.random.choice(pos_rows, size=500, replace=True)]\n",
    "pos_reviews['Rating'] = [5 for r in pos_reviews['Rating']]"
   ]
  },
  {
   "cell_type": "code",
   "execution_count": null,
   "metadata": {
    "collapsed": false
   },
   "outputs": [],
   "source": [
    "neg_reviews.tail()"
   ]
  },
  {
   "cell_type": "code",
   "execution_count": null,
   "metadata": {
    "collapsed": false
   },
   "outputs": [],
   "source": [
    "neg_reviews.head()"
   ]
  },
  {
   "cell_type": "code",
   "execution_count": null,
   "metadata": {
    "collapsed": false
   },
   "outputs": [],
   "source": [
    "train_df.ix[neg_rows]"
   ]
  },
  {
   "cell_type": "code",
   "execution_count": null,
   "metadata": {
    "collapsed": true
   },
   "outputs": [],
   "source": [
    "#Maybe try using trip reports with poor ratigs "
   ]
  },
  {
   "cell_type": "code",
   "execution_count": 38,
   "metadata": {
    "collapsed": false
   },
   "outputs": [
    {
     "data": {
      "text/html": [
       "<div>\n",
       "<table border=\"1\" class=\"dataframe\">\n",
       "  <thead>\n",
       "    <tr style=\"text-align: right;\">\n",
       "      <th></th>\n",
       "      <th>Creator</th>\n",
       "      <th>Date</th>\n",
       "      <th>Text</th>\n",
       "      <th>hike_name</th>\n",
       "      <th>author_id</th>\n",
       "      <th>hike_id</th>\n",
       "      <th>TextBlobSentiment</th>\n",
       "      <th>Rating</th>\n",
       "    </tr>\n",
       "  </thead>\n",
       "  <tbody>\n",
       "    <tr>\n",
       "      <th>0</th>\n",
       "      <td>amart005</td>\n",
       "      <td>Jul 31, 2016</td>\n",
       "      <td>The first meadow is a marshy mess, but after t...</td>\n",
       "      <td>Grand Park via Lake Eleanor</td>\n",
       "      <td>12474</td>\n",
       "      <td>0</td>\n",
       "      <td>0.125246</td>\n",
       "      <td>3</td>\n",
       "    </tr>\n",
       "    <tr>\n",
       "      <th>1</th>\n",
       "      <td>xandwich</td>\n",
       "      <td>Jul 26, 2016</td>\n",
       "      <td>Well...we got to Mount Rainier Tuesday morning...</td>\n",
       "      <td>Grand Park via Lake Eleanor</td>\n",
       "      <td>19586</td>\n",
       "      <td>0</td>\n",
       "      <td>0.151480</td>\n",
       "      <td>3</td>\n",
       "    </tr>\n",
       "    <tr>\n",
       "      <th>2</th>\n",
       "      <td>HeatherD</td>\n",
       "      <td>Jul 25, 2016</td>\n",
       "      <td>Found hiking poles at Lake Eleanor. Comment wi...</td>\n",
       "      <td>Grand Park via Lake Eleanor</td>\n",
       "      <td>4317</td>\n",
       "      <td>0</td>\n",
       "      <td>0.000000</td>\n",
       "      <td>1</td>\n",
       "    </tr>\n",
       "    <tr>\n",
       "      <th>3</th>\n",
       "      <td>Lindy99</td>\n",
       "      <td>Jul 24, 2016</td>\n",
       "      <td>The WTA guide says this hike is 1,100 foot ele...</td>\n",
       "      <td>Grand Park via Lake Eleanor</td>\n",
       "      <td>6676</td>\n",
       "      <td>0</td>\n",
       "      <td>0.225347</td>\n",
       "      <td>3</td>\n",
       "    </tr>\n",
       "    <tr>\n",
       "      <th>4</th>\n",
       "      <td>SpartanHiker</td>\n",
       "      <td>Jul 23, 2016</td>\n",
       "      <td>Wonderful hike to Grand park.  Overall the tra...</td>\n",
       "      <td>Grand Park via Lake Eleanor</td>\n",
       "      <td>10392</td>\n",
       "      <td>0</td>\n",
       "      <td>0.215000</td>\n",
       "      <td>3</td>\n",
       "    </tr>\n",
       "  </tbody>\n",
       "</table>\n",
       "</div>"
      ],
      "text/plain": [
       "        Creator          Date  \\\n",
       "0      amart005  Jul 31, 2016   \n",
       "1      xandwich  Jul 26, 2016   \n",
       "2      HeatherD  Jul 25, 2016   \n",
       "3       Lindy99  Jul 24, 2016   \n",
       "4  SpartanHiker  Jul 23, 2016   \n",
       "\n",
       "                                                Text  \\\n",
       "0  The first meadow is a marshy mess, but after t...   \n",
       "1  Well...we got to Mount Rainier Tuesday morning...   \n",
       "2  Found hiking poles at Lake Eleanor. Comment wi...   \n",
       "3  The WTA guide says this hike is 1,100 foot ele...   \n",
       "4  Wonderful hike to Grand park.  Overall the tra...   \n",
       "\n",
       "                     hike_name  author_id  hike_id  TextBlobSentiment  Rating  \n",
       "0  Grand Park via Lake Eleanor      12474        0           0.125246       3  \n",
       "1  Grand Park via Lake Eleanor      19586        0           0.151480       3  \n",
       "2  Grand Park via Lake Eleanor       4317        0           0.000000       1  \n",
       "3  Grand Park via Lake Eleanor       6676        0           0.225347       3  \n",
       "4  Grand Park via Lake Eleanor      10392        0           0.215000       3  "
      ]
     },
     "execution_count": 38,
     "metadata": {},
     "output_type": "execute_result"
    }
   ],
   "source": [
    "df.head()"
   ]
  },
  {
   "cell_type": "markdown",
   "metadata": {},
   "source": [
    "## Attempting word graphs as seen in \n",
    "http://varianceexplained.org/r/yelp-sentiment/"
   ]
  },
  {
   "cell_type": "code",
   "execution_count": 13,
   "metadata": {
    "collapsed": true
   },
   "outputs": [],
   "source": [
    "def addWordScores(text, rating, def_dict):\n",
    "    for word in text.lower().strip().split():\n",
    "        def_dict[word.strip(string.punctuation)].append(rating)\n",
    "    return def_dict           "
   ]
  },
  {
   "cell_type": "code",
   "execution_count": 14,
   "metadata": {
    "collapsed": false
   },
   "outputs": [],
   "source": [
    "def WordScoretoPandasDF(df, text_col='Text', rating_col='Rating', drop_numbers=True):\n",
    "    wordRatingTBS = defaultdict(list)\n",
    "    for i in df.index.tolist():\n",
    "        wordRatingTBS = addWordScores(df[text_col][i], df[rating_col][i], wordRatingTBS)\n",
    "    avegWordRatingTBS = dict()\n",
    "    cntWordRatingTBS = dict()\n",
    "    for k, v in wordRatingTBS.iteritems():\n",
    "        avegWordRatingTBS[k] = np.mean(v)\n",
    "        cntWordRatingTBS[k] = len(v)\n",
    "    words = pd.DataFrame(avegWordRatingTBS.items(), columns=['Words', 'Average Rating'])\n",
    "    words['Number of Occurences'] = [cntWordRatingTBS[w] for w in words['Words']]\n",
    "    words = words.ix[1:]\n",
    "    return words"
   ]
  },
  {
   "cell_type": "code",
   "execution_count": 15,
   "metadata": {
    "collapsed": false
   },
   "outputs": [],
   "source": [
    "def dropNonWords(df, column):\n",
    "    i_tokeep = []\n",
    "    d = enchant.Dict(\"en_US\")\n",
    "    for i, w in enumerate(df[column]):\n",
    "        if not d.check(w):\n",
    "            i_tokeep.append(i)\n",
    "    return df.ix[i_tokeep]\n",
    "            "
   ]
  },
  {
   "cell_type": "code",
   "execution_count": 16,
   "metadata": {
    "collapsed": false
   },
   "outputs": [],
   "source": [
    "def dropStopWords(df, column):\n",
    "    i_tokeep = []\n",
    "    for i, w in enumerate(df[column]):\n",
    "        if w not in stopwords.words('english'):\n",
    "            i_tokeep.append(i)\n",
    "    return df.ix[i_tokeep]\n",
    "            "
   ]
  },
  {
   "cell_type": "code",
   "execution_count": 17,
   "metadata": {
    "collapsed": true
   },
   "outputs": [],
   "source": [
    "TBS = WordScoretoPandasDF(df, rating_col='TextBlobSentiment')"
   ]
  },
  {
   "cell_type": "code",
   "execution_count": 18,
   "metadata": {
    "collapsed": false
   },
   "outputs": [
    {
     "data": {
      "text/html": [
       "<div>\n",
       "<table border=\"1\" class=\"dataframe\">\n",
       "  <thead>\n",
       "    <tr style=\"text-align: right;\">\n",
       "      <th></th>\n",
       "      <th>Words</th>\n",
       "      <th>Average Rating</th>\n",
       "      <th>Number of Occurences</th>\n",
       "    </tr>\n",
       "  </thead>\n",
       "  <tbody>\n",
       "    <tr>\n",
       "      <th>1</th>\n",
       "      <td>fawn</td>\n",
       "      <td>0.147966</td>\n",
       "      <td>135</td>\n",
       "    </tr>\n",
       "    <tr>\n",
       "      <th>2</th>\n",
       "      <td>ago.first</td>\n",
       "      <td>0.146289</td>\n",
       "      <td>1</td>\n",
       "    </tr>\n",
       "    <tr>\n",
       "      <th>3</th>\n",
       "      <td>fine....overall</td>\n",
       "      <td>0.067201</td>\n",
       "      <td>4</td>\n",
       "    </tr>\n",
       "    <tr>\n",
       "      <th>4</th>\n",
       "      <td>35mi</td>\n",
       "      <td>0.085947</td>\n",
       "      <td>2</td>\n",
       "    </tr>\n",
       "    <tr>\n",
       "      <th>5</th>\n",
       "      <td>wooda</td>\n",
       "      <td>0.256230</td>\n",
       "      <td>1</td>\n",
       "    </tr>\n",
       "  </tbody>\n",
       "</table>\n",
       "</div>"
      ],
      "text/plain": [
       "             Words  Average Rating  Number of Occurences\n",
       "1             fawn        0.147966                   135\n",
       "2        ago.first        0.146289                     1\n",
       "3  fine....overall        0.067201                     4\n",
       "4             35mi        0.085947                     2\n",
       "5            wooda        0.256230                     1"
      ]
     },
     "execution_count": 18,
     "metadata": {},
     "output_type": "execute_result"
    }
   ],
   "source": [
    "TBS.head()"
   ]
  },
  {
   "cell_type": "code",
   "execution_count": 19,
   "metadata": {
    "collapsed": false
   },
   "outputs": [],
   "source": [
    "TBS = dropNonWords(TBS, 'Words')"
   ]
  },
  {
   "cell_type": "code",
   "execution_count": 20,
   "metadata": {
    "collapsed": false
   },
   "outputs": [],
   "source": [
    "TBS = dropStopWords(TBS, 'Words')"
   ]
  },
  {
   "cell_type": "code",
   "execution_count": 21,
   "metadata": {
    "collapsed": false
   },
   "outputs": [
    {
     "data": {
      "text/html": [
       "<div>\n",
       "<table border=\"1\" class=\"dataframe\">\n",
       "  <thead>\n",
       "    <tr style=\"text-align: right;\">\n",
       "      <th></th>\n",
       "      <th>Words</th>\n",
       "      <th>Average Rating</th>\n",
       "      <th>Number of Occurences</th>\n",
       "    </tr>\n",
       "  </thead>\n",
       "  <tbody>\n",
       "    <tr>\n",
       "      <th>0</th>\n",
       "      <td>NaN</td>\n",
       "      <td>NaN</td>\n",
       "      <td>NaN</td>\n",
       "    </tr>\n",
       "    <tr>\n",
       "      <th>1</th>\n",
       "      <td>fawn</td>\n",
       "      <td>0.147966</td>\n",
       "      <td>135.0</td>\n",
       "    </tr>\n",
       "    <tr>\n",
       "      <th>2</th>\n",
       "      <td>ago.first</td>\n",
       "      <td>0.146289</td>\n",
       "      <td>1.0</td>\n",
       "    </tr>\n",
       "    <tr>\n",
       "      <th>3</th>\n",
       "      <td>fine....overall</td>\n",
       "      <td>0.067201</td>\n",
       "      <td>4.0</td>\n",
       "    </tr>\n",
       "    <tr>\n",
       "      <th>4</th>\n",
       "      <td>35mi</td>\n",
       "      <td>0.085947</td>\n",
       "      <td>2.0</td>\n",
       "    </tr>\n",
       "    <tr>\n",
       "      <th>5</th>\n",
       "      <td>NaN</td>\n",
       "      <td>NaN</td>\n",
       "      <td>NaN</td>\n",
       "    </tr>\n",
       "    <tr>\n",
       "      <th>6</th>\n",
       "      <td>1,800</td>\n",
       "      <td>0.143590</td>\n",
       "      <td>41.0</td>\n",
       "    </tr>\n",
       "    <tr>\n",
       "      <th>7</th>\n",
       "      <td>saturday.river</td>\n",
       "      <td>0.098958</td>\n",
       "      <td>1.0</td>\n",
       "    </tr>\n",
       "    <tr>\n",
       "      <th>8</th>\n",
       "      <td>sowell</td>\n",
       "      <td>0.166288</td>\n",
       "      <td>1.0</td>\n",
       "    </tr>\n",
       "    <tr>\n",
       "      <th>9</th>\n",
       "      <td>creek/crevasses</td>\n",
       "      <td>0.114670</td>\n",
       "      <td>1.0</td>\n",
       "    </tr>\n",
       "    <tr>\n",
       "      <th>10</th>\n",
       "      <td>NaN</td>\n",
       "      <td>NaN</td>\n",
       "      <td>NaN</td>\n",
       "    </tr>\n",
       "    <tr>\n",
       "      <th>11</th>\n",
       "      <td>gag</td>\n",
       "      <td>0.126038</td>\n",
       "      <td>6.0</td>\n",
       "    </tr>\n",
       "    <tr>\n",
       "      <th>12</th>\n",
       "      <td>NaN</td>\n",
       "      <td>NaN</td>\n",
       "      <td>NaN</td>\n",
       "    </tr>\n",
       "    <tr>\n",
       "      <th>13</th>\n",
       "      <td>NaN</td>\n",
       "      <td>NaN</td>\n",
       "      <td>NaN</td>\n",
       "    </tr>\n",
       "    <tr>\n",
       "      <th>14</th>\n",
       "      <td>NaN</td>\n",
       "      <td>NaN</td>\n",
       "      <td>NaN</td>\n",
       "    </tr>\n",
       "    <tr>\n",
       "      <th>15</th>\n",
       "      <td>spiders</td>\n",
       "      <td>0.136251</td>\n",
       "      <td>65.0</td>\n",
       "    </tr>\n",
       "    <tr>\n",
       "      <th>16</th>\n",
       "      <td>NaN</td>\n",
       "      <td>NaN</td>\n",
       "      <td>NaN</td>\n",
       "    </tr>\n",
       "    <tr>\n",
       "      <th>17</th>\n",
       "      <td>NaN</td>\n",
       "      <td>NaN</td>\n",
       "      <td>NaN</td>\n",
       "    </tr>\n",
       "    <tr>\n",
       "      <th>18</th>\n",
       "      <td>woody</td>\n",
       "      <td>0.135777</td>\n",
       "      <td>387.0</td>\n",
       "    </tr>\n",
       "    <tr>\n",
       "      <th>19</th>\n",
       "      <td>NaN</td>\n",
       "      <td>NaN</td>\n",
       "      <td>NaN</td>\n",
       "    </tr>\n",
       "  </tbody>\n",
       "</table>\n",
       "</div>"
      ],
      "text/plain": [
       "              Words  Average Rating  Number of Occurences\n",
       "0               NaN             NaN                   NaN\n",
       "1              fawn        0.147966                 135.0\n",
       "2         ago.first        0.146289                   1.0\n",
       "3   fine....overall        0.067201                   4.0\n",
       "4              35mi        0.085947                   2.0\n",
       "5               NaN             NaN                   NaN\n",
       "6             1,800        0.143590                  41.0\n",
       "7    saturday.river        0.098958                   1.0\n",
       "8            sowell        0.166288                   1.0\n",
       "9   creek/crevasses        0.114670                   1.0\n",
       "10              NaN             NaN                   NaN\n",
       "11              gag        0.126038                   6.0\n",
       "12              NaN             NaN                   NaN\n",
       "13              NaN             NaN                   NaN\n",
       "14              NaN             NaN                   NaN\n",
       "15          spiders        0.136251                  65.0\n",
       "16              NaN             NaN                   NaN\n",
       "17              NaN             NaN                   NaN\n",
       "18            woody        0.135777                 387.0\n",
       "19              NaN             NaN                   NaN"
      ]
     },
     "execution_count": 21,
     "metadata": {},
     "output_type": "execute_result"
    }
   ],
   "source": [
    "TBS.head(20)"
   ]
  },
  {
   "cell_type": "code",
   "execution_count": 22,
   "metadata": {
    "collapsed": true
   },
   "outputs": [],
   "source": [
    "TBS.dropna(inplace=True)"
   ]
  },
  {
   "cell_type": "code",
   "execution_count": null,
   "metadata": {
    "collapsed": false
   },
   "outputs": [],
   "source": [
    "fig, ax = plt.subplots()\n",
    "ax.scatter(TBS['Number of Occurences'], TBS['Average Rating'])\n",
    "for i, txt in enumerate(TBS['Words']):\n",
    "    ax.annotate(txt,(TBS['Number of Occurences'].iloc[i], TBS['Average Rating'].iloc[i]))"
   ]
  },
  {
   "cell_type": "code",
   "execution_count": 32,
   "metadata": {
    "collapsed": false
   },
   "outputs": [
    {
     "data": {
      "text/plain": [
       "135.0"
      ]
     },
     "execution_count": 32,
     "metadata": {},
     "output_type": "execute_result"
    }
   ],
   "source": [
    "TBS['Number of Occurences'].iloc[0]"
   ]
  },
  {
   "cell_type": "code",
   "execution_count": null,
   "metadata": {
    "collapsed": false
   },
   "outputs": [],
   "source": [
    "word = 'has'\n",
    "word in stopwords.words('english')"
   ]
  },
  {
   "cell_type": "code",
   "execution_count": null,
   "metadata": {
    "collapsed": true
   },
   "outputs": [],
   "source": [
    "wordRatingTMS = defaultdict(list)\n",
    "for i in df.index.to_list:\n",
    "    wordRatingsTMS = addWordScores(train_df['Text'][i], train_df['Rating'][i], wordRatingsTMS)\n",
    "   \n"
   ]
  },
  {
   "cell_type": "markdown",
   "metadata": {},
   "source": [
    "## To CSV"
   ]
  },
  {
   "cell_type": "code",
   "execution_count": null,
   "metadata": {
    "collapsed": false
   },
   "outputs": [],
   "source": [
    "### Rewriting mongodb\n",
    "db.trip_reports.drop()\n",
    "for i in range(len(df)):\n",
    "    db.ratings.insert({'Creator': df['Creator'][i], 'Date': df['Date'][i], 'hike_name': df['Name'][i], 'Text': df['Text'][i],\n",
    "                       'author_id':df['author_id'][i], 'hike_id': df['hike_id'][i], 'Rating':df['Rating'][i]})"
   ]
  },
  {
   "cell_type": "code",
   "execution_count": 52,
   "metadata": {
    "collapsed": false
   },
   "outputs": [],
   "source": [
    "df.drop(labels=['TextBlobSentiment', 'GraphLabSentiment'], axis=1, inplace=True)"
   ]
  },
  {
   "cell_type": "code",
   "execution_count": 53,
   "metadata": {
    "collapsed": false
   },
   "outputs": [],
   "source": [
    "df.to_csv('data/tripReports.csv',  encoding='utf-8', )"
   ]
  },
  {
   "cell_type": "code",
   "execution_count": null,
   "metadata": {
    "collapsed": true
   },
   "outputs": [],
   "source": []
  }
 ],
 "metadata": {
  "kernelspec": {
   "display_name": "Python 2",
   "language": "python",
   "name": "python2"
  },
  "language_info": {
   "codemirror_mode": {
    "name": "ipython",
    "version": 2
   },
   "file_extension": ".py",
   "mimetype": "text/x-python",
   "name": "python",
   "nbconvert_exporter": "python",
   "pygments_lexer": "ipython2",
   "version": "2.7.12"
  }
 },
 "nbformat": 4,
 "nbformat_minor": 0
}
