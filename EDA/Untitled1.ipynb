{
 "cells": [
  {
   "cell_type": "code",
   "execution_count": 1,
   "metadata": {
    "collapsed": true
   },
   "outputs": [],
   "source": [
    "from __future__ import division\n",
    "import pandas as pd\n",
    "import numpy as np\n",
    "import string\n",
    "import re\n",
    "import matplotlib.pyplot as plt\n",
    "from src.sentimentAnalysis import detect_sentiment, setRating\n",
    "import cPickle as pickle\n",
    "from pymongo import MongoClient\n",
    "from collections import defaultdict\n",
    "import enchant\n",
    "from nltk.corpus import stopwords\n",
    "%matplotlib inline"
   ]
  },
  {
   "cell_type": "code",
   "execution_count": 2,
   "metadata": {
    "collapsed": true
   },
   "outputs": [],
   "source": [
    "connection = MongoClient()\n",
    "db = connection.wta\n",
    "tripReports = db.trip_reports"
   ]
  },
  {
   "cell_type": "code",
   "execution_count": 3,
   "metadata": {
    "collapsed": true
   },
   "outputs": [],
   "source": [
    "def mongo2PandasClean(mongodb, clean_creator=True, drop_id=True):\n",
    "    df = pd.DataFrame(list(mongodb.find()))\n",
    "    if drop_id:\n",
    "        del df['_id']\n",
    "    return df"
   ]
  },
  {
   "cell_type": "code",
   "execution_count": 4,
   "metadata": {
    "collapsed": true
   },
   "outputs": [],
   "source": [
    "df = mongo2PandasClean(tripReports)"
   ]
  },
  {
   "cell_type": "code",
   "execution_count": 6,
   "metadata": {
    "collapsed": false
   },
   "outputs": [
    {
     "data": {
      "text/plain": [
       "(77725, 7)"
      ]
     },
     "execution_count": 6,
     "metadata": {},
     "output_type": "execute_result"
    }
   ],
   "source": [
    "df.shape"
   ]
  },
  {
   "cell_type": "code",
   "execution_count": 14,
   "metadata": {
    "collapsed": false
   },
   "outputs": [],
   "source": [
    "f = open('tr.txt', 'w')\n",
    "for text in df['Text'][:1000]:\n",
    "    try:\n",
    "        f.write(text)\n",
    "    except:\n",
    "        continue"
   ]
  },
  {
   "cell_type": "code",
   "execution_count": 18,
   "metadata": {
    "collapsed": false
   },
   "outputs": [
    {
     "data": {
      "text/html": [
       "<div>\n",
       "<table border=\"1\" class=\"dataframe\">\n",
       "  <thead>\n",
       "    <tr style=\"text-align: right;\">\n",
       "      <th></th>\n",
       "      <th>Creator</th>\n",
       "      <th>Date</th>\n",
       "      <th>Rating</th>\n",
       "      <th>Text</th>\n",
       "      <th>author_id</th>\n",
       "      <th>hike_id</th>\n",
       "      <th>hike_name</th>\n",
       "    </tr>\n",
       "  </thead>\n",
       "  <tbody>\n",
       "    <tr>\n",
       "      <th>0</th>\n",
       "      <td>amart005</td>\n",
       "      <td>Jul 31, 2016</td>\n",
       "      <td>2</td>\n",
       "      <td>The first meadow is a marshy mess, but after t...</td>\n",
       "      <td>12474</td>\n",
       "      <td>0</td>\n",
       "      <td>Grand Park via Lake Eleanor</td>\n",
       "    </tr>\n",
       "    <tr>\n",
       "      <th>1</th>\n",
       "      <td>xandwich</td>\n",
       "      <td>Jul 26, 2016</td>\n",
       "      <td>3</td>\n",
       "      <td>Well...we got to Mount Rainier Tuesday morning...</td>\n",
       "      <td>19583</td>\n",
       "      <td>0</td>\n",
       "      <td>Grand Park via Lake Eleanor</td>\n",
       "    </tr>\n",
       "    <tr>\n",
       "      <th>2</th>\n",
       "      <td>HeatherD</td>\n",
       "      <td>Jul 25, 2016</td>\n",
       "      <td>1</td>\n",
       "      <td>Found hiking poles at Lake Eleanor. Comment wi...</td>\n",
       "      <td>4317</td>\n",
       "      <td>0</td>\n",
       "      <td>Grand Park via Lake Eleanor</td>\n",
       "    </tr>\n",
       "    <tr>\n",
       "      <th>3</th>\n",
       "      <td>Lindy99</td>\n",
       "      <td>Jul 24, 2016</td>\n",
       "      <td>4</td>\n",
       "      <td>The WTA guide says this hike is 1,100 foot ele...</td>\n",
       "      <td>6676</td>\n",
       "      <td>0</td>\n",
       "      <td>Grand Park via Lake Eleanor</td>\n",
       "    </tr>\n",
       "    <tr>\n",
       "      <th>4</th>\n",
       "      <td>SpartanHiker</td>\n",
       "      <td>Jul 23, 2016</td>\n",
       "      <td>4</td>\n",
       "      <td>Wonderful hike to Grand park.  Overall the tra...</td>\n",
       "      <td>10392</td>\n",
       "      <td>0</td>\n",
       "      <td>Grand Park via Lake Eleanor</td>\n",
       "    </tr>\n",
       "    <tr>\n",
       "      <th>5</th>\n",
       "      <td>hdpMusik3</td>\n",
       "      <td>Jul 21, 2016</td>\n",
       "      <td>2</td>\n",
       "      <td>This was a four-day, 40-mile backpack with fou...</td>\n",
       "      <td>14693</td>\n",
       "      <td>0</td>\n",
       "      <td>Grand Park via Lake Eleanor</td>\n",
       "    </tr>\n",
       "    <tr>\n",
       "      <th>6</th>\n",
       "      <td>DKreuger</td>\n",
       "      <td>Jul 17, 2016</td>\n",
       "      <td>3</td>\n",
       "      <td>Hit the trailhead about 10:15 a.m. with a grou...</td>\n",
       "      <td>2501</td>\n",
       "      <td>0</td>\n",
       "      <td>Grand Park via Lake Eleanor</td>\n",
       "    </tr>\n",
       "    <tr>\n",
       "      <th>7</th>\n",
       "      <td>Cascadian Hiker</td>\n",
       "      <td>Jul 16, 2016</td>\n",
       "      <td>2</td>\n",
       "      <td>I hiked Grand Park last year and it was great,...</td>\n",
       "      <td>1962</td>\n",
       "      <td>0</td>\n",
       "      <td>Grand Park via Lake Eleanor</td>\n",
       "    </tr>\n",
       "    <tr>\n",
       "      <th>8</th>\n",
       "      <td>Alien Dave</td>\n",
       "      <td>Jul 15, 2016</td>\n",
       "      <td>4</td>\n",
       "      <td>(Revisited on Friday, July 15th - update for t...</td>\n",
       "      <td>495</td>\n",
       "      <td>0</td>\n",
       "      <td>Grand Park via Lake Eleanor</td>\n",
       "    </tr>\n",
       "    <tr>\n",
       "      <th>9</th>\n",
       "      <td>[email protected]/* &lt;![CDATA[ */!function(t,e,...</td>\n",
       "      <td>Jul 15, 2016</td>\n",
       "      <td>4</td>\n",
       "      <td>Nice hike after a few potholes on drive up for...</td>\n",
       "      <td>12230</td>\n",
       "      <td>0</td>\n",
       "      <td>Grand Park via Lake Eleanor</td>\n",
       "    </tr>\n",
       "    <tr>\n",
       "      <th>10</th>\n",
       "      <td>dsnacks</td>\n",
       "      <td>Jul 14, 2016</td>\n",
       "      <td>3</td>\n",
       "      <td>Most beautiful day of the week we chose to ven...</td>\n",
       "      <td>13930</td>\n",
       "      <td>0</td>\n",
       "      <td>Grand Park via Lake Eleanor</td>\n",
       "    </tr>\n",
       "    <tr>\n",
       "      <th>11</th>\n",
       "      <td>Trailwanderer22</td>\n",
       "      <td>Jul 13, 2016</td>\n",
       "      <td>2</td>\n",
       "      <td>Headed out late in the afternoon/evening to ch...</td>\n",
       "      <td>11481</td>\n",
       "      <td>0</td>\n",
       "      <td>Grand Park via Lake Eleanor</td>\n",
       "    </tr>\n",
       "    <tr>\n",
       "      <th>12</th>\n",
       "      <td>on_foot</td>\n",
       "      <td>Jul 07, 2016</td>\n",
       "      <td>1</td>\n",
       "      <td>Recommended!  This is a fairly leisurely hike ...</td>\n",
       "      <td>17271</td>\n",
       "      <td>0</td>\n",
       "      <td>Grand Park via Lake Eleanor</td>\n",
       "    </tr>\n",
       "    <tr>\n",
       "      <th>13</th>\n",
       "      <td>JoanO</td>\n",
       "      <td>Jul 06, 2016</td>\n",
       "      <td>5</td>\n",
       "      <td>This is a favorite hike, and even though the l...</td>\n",
       "      <td>5498</td>\n",
       "      <td>0</td>\n",
       "      <td>Grand Park via Lake Eleanor</td>\n",
       "    </tr>\n",
       "    <tr>\n",
       "      <th>14</th>\n",
       "      <td>Windthatroars</td>\n",
       "      <td>Jul 04, 2016</td>\n",
       "      <td>4</td>\n",
       "      <td>It was my first time hiking anything at Mount ...</td>\n",
       "      <td>12073</td>\n",
       "      <td>0</td>\n",
       "      <td>Grand Park via Lake Eleanor</td>\n",
       "    </tr>\n",
       "    <tr>\n",
       "      <th>15</th>\n",
       "      <td>Illexphoto</td>\n",
       "      <td>Jul 03, 2016</td>\n",
       "      <td>2</td>\n",
       "      <td>I'm usually bad about writing trip reports, bu...</td>\n",
       "      <td>4805</td>\n",
       "      <td>0</td>\n",
       "      <td>Grand Park via Lake Eleanor</td>\n",
       "    </tr>\n",
       "    <tr>\n",
       "      <th>16</th>\n",
       "      <td>tacuddy2000</td>\n",
       "      <td>Jul 02, 2016</td>\n",
       "      <td>5</td>\n",
       "      <td>This is a VERY HIGH reward hike!  The trail is...</td>\n",
       "      <td>18756</td>\n",
       "      <td>0</td>\n",
       "      <td>Grand Park via Lake Eleanor</td>\n",
       "    </tr>\n",
       "    <tr>\n",
       "      <th>17</th>\n",
       "      <td>lathrop fam</td>\n",
       "      <td>Jun 30, 2016</td>\n",
       "      <td>1</td>\n",
       "      <td>Forgot to add the pics</td>\n",
       "      <td>16030</td>\n",
       "      <td>0</td>\n",
       "      <td>Grand Park via Lake Eleanor</td>\n",
       "    </tr>\n",
       "    <tr>\n",
       "      <th>18</th>\n",
       "      <td>lathrop fam</td>\n",
       "      <td>Jun 30, 2016</td>\n",
       "      <td>1</td>\n",
       "      <td>If you like donating blood, you'll enjoy this ...</td>\n",
       "      <td>16030</td>\n",
       "      <td>0</td>\n",
       "      <td>Grand Park via Lake Eleanor</td>\n",
       "    </tr>\n",
       "    <tr>\n",
       "      <th>19</th>\n",
       "      <td>AlexV</td>\n",
       "      <td>Jun 27, 2016</td>\n",
       "      <td>3</td>\n",
       "      <td>A very nice hike, great weather allowed us to ...</td>\n",
       "      <td>468</td>\n",
       "      <td>0</td>\n",
       "      <td>Grand Park via Lake Eleanor</td>\n",
       "    </tr>\n",
       "  </tbody>\n",
       "</table>\n",
       "</div>"
      ],
      "text/plain": [
       "                                              Creator          Date Rating  \\\n",
       "0                                            amart005  Jul 31, 2016      2   \n",
       "1                                            xandwich  Jul 26, 2016      3   \n",
       "2                                            HeatherD  Jul 25, 2016      1   \n",
       "3                                             Lindy99  Jul 24, 2016      4   \n",
       "4                                        SpartanHiker  Jul 23, 2016      4   \n",
       "5                                           hdpMusik3  Jul 21, 2016      2   \n",
       "6                                            DKreuger  Jul 17, 2016      3   \n",
       "7                                     Cascadian Hiker  Jul 16, 2016      2   \n",
       "8                                          Alien Dave  Jul 15, 2016      4   \n",
       "9   [email protected]/* <![CDATA[ */!function(t,e,...  Jul 15, 2016      4   \n",
       "10                                            dsnacks  Jul 14, 2016      3   \n",
       "11                                    Trailwanderer22  Jul 13, 2016      2   \n",
       "12                                            on_foot  Jul 07, 2016      1   \n",
       "13                                              JoanO  Jul 06, 2016      5   \n",
       "14                                      Windthatroars  Jul 04, 2016      4   \n",
       "15                                         Illexphoto  Jul 03, 2016      2   \n",
       "16                                        tacuddy2000  Jul 02, 2016      5   \n",
       "17                                        lathrop fam  Jun 30, 2016      1   \n",
       "18                                        lathrop fam  Jun 30, 2016      1   \n",
       "19                                              AlexV  Jun 27, 2016      3   \n",
       "\n",
       "                                                 Text  author_id hike_id  \\\n",
       "0   The first meadow is a marshy mess, but after t...      12474       0   \n",
       "1   Well...we got to Mount Rainier Tuesday morning...      19583       0   \n",
       "2   Found hiking poles at Lake Eleanor. Comment wi...       4317       0   \n",
       "3   The WTA guide says this hike is 1,100 foot ele...       6676       0   \n",
       "4   Wonderful hike to Grand park.  Overall the tra...      10392       0   \n",
       "5   This was a four-day, 40-mile backpack with fou...      14693       0   \n",
       "6   Hit the trailhead about 10:15 a.m. with a grou...       2501       0   \n",
       "7   I hiked Grand Park last year and it was great,...       1962       0   \n",
       "8   (Revisited on Friday, July 15th - update for t...        495       0   \n",
       "9   Nice hike after a few potholes on drive up for...      12230       0   \n",
       "10  Most beautiful day of the week we chose to ven...      13930       0   \n",
       "11  Headed out late in the afternoon/evening to ch...      11481       0   \n",
       "12  Recommended!  This is a fairly leisurely hike ...      17271       0   \n",
       "13  This is a favorite hike, and even though the l...       5498       0   \n",
       "14  It was my first time hiking anything at Mount ...      12073       0   \n",
       "15  I'm usually bad about writing trip reports, bu...       4805       0   \n",
       "16  This is a VERY HIGH reward hike!  The trail is...      18756       0   \n",
       "17                             Forgot to add the pics      16030       0   \n",
       "18  If you like donating blood, you'll enjoy this ...      16030       0   \n",
       "19  A very nice hike, great weather allowed us to ...        468       0   \n",
       "\n",
       "                      hike_name  \n",
       "0   Grand Park via Lake Eleanor  \n",
       "1   Grand Park via Lake Eleanor  \n",
       "2   Grand Park via Lake Eleanor  \n",
       "3   Grand Park via Lake Eleanor  \n",
       "4   Grand Park via Lake Eleanor  \n",
       "5   Grand Park via Lake Eleanor  \n",
       "6   Grand Park via Lake Eleanor  \n",
       "7   Grand Park via Lake Eleanor  \n",
       "8   Grand Park via Lake Eleanor  \n",
       "9   Grand Park via Lake Eleanor  \n",
       "10  Grand Park via Lake Eleanor  \n",
       "11  Grand Park via Lake Eleanor  \n",
       "12  Grand Park via Lake Eleanor  \n",
       "13  Grand Park via Lake Eleanor  \n",
       "14  Grand Park via Lake Eleanor  \n",
       "15  Grand Park via Lake Eleanor  \n",
       "16  Grand Park via Lake Eleanor  \n",
       "17  Grand Park via Lake Eleanor  \n",
       "18  Grand Park via Lake Eleanor  \n",
       "19  Grand Park via Lake Eleanor  "
      ]
     },
     "execution_count": 18,
     "metadata": {},
     "output_type": "execute_result"
    }
   ],
   "source": [
    "df.head(20)"
   ]
  },
  {
   "cell_type": "code",
   "execution_count": 16,
   "metadata": {
    "collapsed": false
   },
   "outputs": [
    {
     "data": {
      "text/plain": [
       "u\"The first meadow is a marshy mess, but after that the trail is in great shape. The bugs were awful along the trail but not bad once at Grand Park thanks to a cool breeze. Started at 8 am and came upon a mama bear and two cubs just off the trail about 100 yds past Lake Eleanor. Mama  and one cub ran right, other cub ran left of the trail- not ideal, so we backed down the trail a ways and kept her in our sights- she didn't appear agitated or frightened. Eventually the three got back together and headed deeper into the forest.  Saw them again on our descent, at the end of the first meadow. Mama was munching and cubs were playing. She watched us briefly but was undeterred. Beautiful to watch them. Good reminder to make noise along the trail- we got lazy about it as we were so close to the camp and could hear people talking. \\rOh yeah- the mountain was out and the flowers were lovely. And also- bear cubs!!\""
      ]
     },
     "execution_count": 16,
     "metadata": {},
     "output_type": "execute_result"
    }
   ],
   "source": [
    "df['Text'][0]"
   ]
  },
  {
   "cell_type": "code",
   "execution_count": 23,
   "metadata": {
    "collapsed": false
   },
   "outputs": [
    {
     "data": {
      "text/plain": [
       "u\"I hiked Grand Park last year and it was great, but it was later in the year and pretty dry, so there weren't any wildflowers in evidence. I decided a few months ago that I wanted to go back when the meadow was blooming, which lead to this trip today.\\r The road to the trail is in ok condition, but there are definitely plenty of potholes. You'll want to take things slowly, but overall you shouldn't have too much trouble. The roads are well-signed, but there's no sign for the trailhead itself. Instead look for the sign for Eleanor Creek and park near that.\\r The trail has some really wet and muddy spots between the trailhead and the small meadow you come to after Lake Eleanor. You can try to pick your way through, stepping from partially submerged rock to slippery log, but unless you're prepared to bushwhack way off trail your feet are going to get messy. I wore my gaiters knowing that this was likely to be the case. There are also a fair number of blowdowns along the trail between the trailhead and when you finally reach Grand Park at the top.\\r Once my friend and I reached Grand Park we found plenty of wildflowers to thrill our senses, though heavy cloud cover prevented us from seeing Mount Rainier. Bummer. We were able to see some of the surrounding peaks and ridges, though, which was nice. We spent some time hanging out in the meadow, enjoying the sights around us. There were a lot of other people doing the same. I even rand into a WTA friend\\u2014Jen\\u2014on the trail.\\r The final thing I'll say about this hike is that you will fight your way through clouds of mosquitoes from the moment you park until you reach Grand Park. I found that the only thing helping me to keep [the tattered remnants of] my sanity was a head net and generous applications of bug spray. Be warned.\""
      ]
     },
     "execution_count": 23,
     "metadata": {},
     "output_type": "execute_result"
    }
   ],
   "source": [
    "df['Text'][7]"
   ]
  },
  {
   "cell_type": "code",
   "execution_count": 22,
   "metadata": {
    "collapsed": false
   },
   "outputs": [
    {
     "data": {
      "text/plain": [
       "u\"I'm usually bad about writing trip reports, but I just wanted to get on here to clarify a few things I saw in previous trip reports.\\r The road in is long and gravel but in pretty good shape. There are a few potholes here and there but there is always a way around, and there were no rough sections or washboard. Once you make the turn from Hwy. 410 it's really hard to get lost as you basically follow the same road until you get to Eleanor Creek (the second creek crossing: Huckleberry Creek is the first). We went in the middle of the holiday weekend and there were quite a few cars there but it was by no means overflowing, so I have to think it would be rare that you'd have to park any appreciable distance from the trailhead.\\r Trail conditions are great. There may have been a little snow a week ago but as of now there is none on the trail. At a couple points it's still close enough to make the trail damp and muddy, but that's it. There is also one big mud puddle very close to the entrance, but even that's pretty easy to cross, and the rest of the mud is not worth mentioning. There are quite a number of downed trees of various sizes and states of decomposition that you have to figure out how to get past. We did a variety of over, under, and around. There were two or three spots where the detour was substantial enough that we momentarily lost the trail on the way out. It might be a good idea to look back at the detours you take to see what they look like from the other direction.\\r I feel like we get spoiled for bugs in Western Washington. We took the bug spray advice seriously and there were very few that bothered me, especially away from the creek. When we left it was still only early evening, but either my bug spray wore off or it was just the time of day for mosquitoes. Easily the most mosquitoes were in the last half-mile of the hike out, along the creek in the woods. Overall they were not a problem, and barely noticeable.\\r The description says that past Lake Eleanor there are increasingly large meadows; this is not quite true. There is one sizeable meadow with two ponds about 3/4 of a mile past the lake, and then something better described as a clearing about a mile further on. The clearing marks the beginning of the most substantial elevation gain; up to that point we'd been saying what an easy hike this was, but that ended up being not quite true.\\r Once you get to Grand Park--holy cow! The city parks in Seattle are not so well-manicured. It's a beautiful green space in and of itself, but of course the selling point is the view of Rainier, so big you feel like you have to lean back to see it all. The wildflowers seemed to be just starting, and I imagine it will be beautiful for a while. I can't do it justice so I'll just stop there, and say go experience it for yourself.\\r On the way out were were warned that someone had seen a small bear far off in the first meadow, but by the time we got back there she or he was long gone; I'm sure the reader understands our mixed feelings about that.\\r A great hike for the holiday weekend. Go do it. Have fun.\""
      ]
     },
     "execution_count": 22,
     "metadata": {},
     "output_type": "execute_result"
    }
   ],
   "source": [
    "df['Text'][15]"
   ]
  },
  {
   "cell_type": "code",
   "execution_count": 20,
   "metadata": {
    "collapsed": false
   },
   "outputs": [
    {
     "data": {
      "text/plain": [
       "u\"This is a favorite hike, and even though the low clouds kept us from seeing the amazing Mt Rainier views it was still a wonderful day! \\rPrevious trip reports said that the trail is muddy between the trail head and the lake.... Having hiked this before I didn't pay much attention because it's always a little muddy there... But it is REALLY muddy!! Passable, but very muddy. There are also many trees down on the trail. All can be easily climbed over, under or walked around. \\rLots of wildflowers blooming; bear grass, Avalanche lilies, lupine, magenta paintbrush, yellow flowers whose name I don't know, and mountain Heather beginning to bloom too. \\rA pair of hikers coming down the trail as we were headed up saw a bear in the first meadow. We saw bear scat more than once, but no bears. \\rThe mosquitos were pretty thick before and around the lake, but not bad after that. \\rA couple more days of sunshine and the flowers will really be impressive!\""
      ]
     },
     "execution_count": 20,
     "metadata": {},
     "output_type": "execute_result"
    }
   ],
   "source": [
    "df['Text'][13]"
   ]
  },
  {
   "cell_type": "code",
   "execution_count": null,
   "metadata": {
    "collapsed": true
   },
   "outputs": [],
   "source": []
  }
 ],
 "metadata": {
  "kernelspec": {
   "display_name": "Python 2",
   "language": "python",
   "name": "python2"
  },
  "language_info": {
   "codemirror_mode": {
    "name": "ipython",
    "version": 2
   },
   "file_extension": ".py",
   "mimetype": "text/x-python",
   "name": "python",
   "nbconvert_exporter": "python",
   "pygments_lexer": "ipython2",
   "version": "2.7.12"
  }
 },
 "nbformat": 4,
 "nbformat_minor": 0
}
