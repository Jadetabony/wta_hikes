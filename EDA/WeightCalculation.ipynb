{
 "cells": [
  {
   "cell_type": "code",
   "execution_count": 14,
   "metadata": {},
   "outputs": [],
   "source": [
    "import pandas as pd\n",
    "import numpy as np\n",
    "import json"
   ]
  },
  {
   "cell_type": "code",
   "execution_count": 7,
   "metadata": {
    "collapsed": true
   },
   "outputs": [],
   "source": [
    "df = pd.read_csv('../data/itemData.csv')\n",
    "df = df.drop(labels=['Unnamed: 0'], axis=1)"
   ]
  },
  {
   "cell_type": "code",
   "execution_count": 8,
   "metadata": {},
   "outputs": [
    {
     "data": {
      "text/html": [
       "<div>\n",
       "<style scoped>\n",
       "    .dataframe tbody tr th:only-of-type {\n",
       "        vertical-align: middle;\n",
       "    }\n",
       "\n",
       "    .dataframe tbody tr th {\n",
       "        vertical-align: top;\n",
       "    }\n",
       "\n",
       "    .dataframe thead th {\n",
       "        text-align: right;\n",
       "    }\n",
       "</style>\n",
       "<table border=\"1\" class=\"dataframe\">\n",
       "  <thead>\n",
       "    <tr style=\"text-align: right;\">\n",
       "      <th></th>\n",
       "      <th>0</th>\n",
       "      <th>1</th>\n",
       "      <th>2</th>\n",
       "      <th>3</th>\n",
       "      <th>4</th>\n",
       "    </tr>\n",
       "  </thead>\n",
       "  <tbody>\n",
       "    <tr>\n",
       "      <th>hike_name</th>\n",
       "      <td>Grand Park via Lake Eleanor</td>\n",
       "      <td>Shellrock Pass</td>\n",
       "      <td>Soda Peaks Lake</td>\n",
       "      <td>Shorthorn</td>\n",
       "      <td>West Fork Teanaway River</td>\n",
       "    </tr>\n",
       "    <tr>\n",
       "      <th>hike_id</th>\n",
       "      <td>0</td>\n",
       "      <td>1</td>\n",
       "      <td>2</td>\n",
       "      <td>3</td>\n",
       "      <td>4</td>\n",
       "    </tr>\n",
       "    <tr>\n",
       "      <th>numReports</th>\n",
       "      <td>212</td>\n",
       "      <td>2</td>\n",
       "      <td>24</td>\n",
       "      <td>5</td>\n",
       "      <td>5</td>\n",
       "    </tr>\n",
       "    <tr>\n",
       "      <th>total_dist</th>\n",
       "      <td>8</td>\n",
       "      <td>NaN</td>\n",
       "      <td>7</td>\n",
       "      <td>5.6</td>\n",
       "      <td>19.2</td>\n",
       "    </tr>\n",
       "    <tr>\n",
       "      <th>elevation gain</th>\n",
       "      <td>1100</td>\n",
       "      <td>NaN</td>\n",
       "      <td>2500</td>\n",
       "      <td>1400</td>\n",
       "      <td>2800</td>\n",
       "    </tr>\n",
       "    <tr>\n",
       "      <th>time_from_seattle</th>\n",
       "      <td>116.533</td>\n",
       "      <td>NaN</td>\n",
       "      <td>227.333</td>\n",
       "      <td>207.433</td>\n",
       "      <td>115.75</td>\n",
       "    </tr>\n",
       "    <tr>\n",
       "      <th>Coast</th>\n",
       "      <td>0</td>\n",
       "      <td>0</td>\n",
       "      <td>0</td>\n",
       "      <td>0</td>\n",
       "      <td>0</td>\n",
       "    </tr>\n",
       "    <tr>\n",
       "      <th>stars</th>\n",
       "      <td>4.25</td>\n",
       "      <td>2.33</td>\n",
       "      <td>3</td>\n",
       "      <td>3.67</td>\n",
       "      <td>2.75</td>\n",
       "    </tr>\n",
       "    <tr>\n",
       "      <th>Dogs allowed on leash</th>\n",
       "      <td>0</td>\n",
       "      <td>1</td>\n",
       "      <td>0</td>\n",
       "      <td>1</td>\n",
       "      <td>1</td>\n",
       "    </tr>\n",
       "    <tr>\n",
       "      <th>Established campsites</th>\n",
       "      <td>1</td>\n",
       "      <td>0</td>\n",
       "      <td>0</td>\n",
       "      <td>0</td>\n",
       "      <td>1</td>\n",
       "    </tr>\n",
       "    <tr>\n",
       "      <th>Fall foliage</th>\n",
       "      <td>0</td>\n",
       "      <td>0</td>\n",
       "      <td>0</td>\n",
       "      <td>0</td>\n",
       "      <td>0</td>\n",
       "    </tr>\n",
       "    <tr>\n",
       "      <th>Good for kids</th>\n",
       "      <td>0</td>\n",
       "      <td>0</td>\n",
       "      <td>0</td>\n",
       "      <td>0</td>\n",
       "      <td>1</td>\n",
       "    </tr>\n",
       "    <tr>\n",
       "      <th>Lakes</th>\n",
       "      <td>0</td>\n",
       "      <td>0</td>\n",
       "      <td>1</td>\n",
       "      <td>0</td>\n",
       "      <td>0</td>\n",
       "    </tr>\n",
       "    <tr>\n",
       "      <th>Mountain views</th>\n",
       "      <td>1</td>\n",
       "      <td>0</td>\n",
       "      <td>0</td>\n",
       "      <td>1</td>\n",
       "      <td>1</td>\n",
       "    </tr>\n",
       "    <tr>\n",
       "      <th>Old growth</th>\n",
       "      <td>0</td>\n",
       "      <td>0</td>\n",
       "      <td>1</td>\n",
       "      <td>0</td>\n",
       "      <td>0</td>\n",
       "    </tr>\n",
       "    <tr>\n",
       "      <th>Ridges/passes</th>\n",
       "      <td>0</td>\n",
       "      <td>0</td>\n",
       "      <td>0</td>\n",
       "      <td>0</td>\n",
       "      <td>1</td>\n",
       "    </tr>\n",
       "    <tr>\n",
       "      <th>Rivers</th>\n",
       "      <td>0</td>\n",
       "      <td>0</td>\n",
       "      <td>0</td>\n",
       "      <td>0</td>\n",
       "      <td>0</td>\n",
       "    </tr>\n",
       "    <tr>\n",
       "      <th>Summits</th>\n",
       "      <td>0</td>\n",
       "      <td>0</td>\n",
       "      <td>0</td>\n",
       "      <td>0</td>\n",
       "      <td>0</td>\n",
       "    </tr>\n",
       "    <tr>\n",
       "      <th>Waterfalls</th>\n",
       "      <td>0</td>\n",
       "      <td>0</td>\n",
       "      <td>0</td>\n",
       "      <td>0</td>\n",
       "      <td>0</td>\n",
       "    </tr>\n",
       "    <tr>\n",
       "      <th>Wildflowers/Meadows</th>\n",
       "      <td>0</td>\n",
       "      <td>0</td>\n",
       "      <td>0</td>\n",
       "      <td>0</td>\n",
       "      <td>0</td>\n",
       "    </tr>\n",
       "    <tr>\n",
       "      <th>Wildlife</th>\n",
       "      <td>1</td>\n",
       "      <td>0</td>\n",
       "      <td>0</td>\n",
       "      <td>0</td>\n",
       "      <td>1</td>\n",
       "    </tr>\n",
       "  </tbody>\n",
       "</table>\n",
       "</div>"
      ],
      "text/plain": [
       "                                                 0               1  \\\n",
       "hike_name              Grand Park via Lake Eleanor  Shellrock Pass   \n",
       "hike_id                                          0               1   \n",
       "numReports                                     212               2   \n",
       "total_dist                                       8             NaN   \n",
       "elevation gain                                1100             NaN   \n",
       "time_from_seattle                          116.533             NaN   \n",
       "Coast                                            0               0   \n",
       "stars                                         4.25            2.33   \n",
       "Dogs allowed on leash                            0               1   \n",
       "Established campsites                            1               0   \n",
       "Fall foliage                                     0               0   \n",
       "Good for kids                                    0               0   \n",
       "Lakes                                            0               0   \n",
       "Mountain views                                   1               0   \n",
       "Old growth                                       0               0   \n",
       "Ridges/passes                                    0               0   \n",
       "Rivers                                           0               0   \n",
       "Summits                                          0               0   \n",
       "Waterfalls                                       0               0   \n",
       "Wildflowers/Meadows                              0               0   \n",
       "Wildlife                                         1               0   \n",
       "\n",
       "                                     2          3                         4  \n",
       "hike_name              Soda Peaks Lake  Shorthorn  West Fork Teanaway River  \n",
       "hike_id                              2          3                         4  \n",
       "numReports                          24          5                         5  \n",
       "total_dist                           7        5.6                      19.2  \n",
       "elevation gain                    2500       1400                      2800  \n",
       "time_from_seattle              227.333    207.433                    115.75  \n",
       "Coast                                0          0                         0  \n",
       "stars                                3       3.67                      2.75  \n",
       "Dogs allowed on leash                0          1                         1  \n",
       "Established campsites                0          0                         1  \n",
       "Fall foliage                         0          0                         0  \n",
       "Good for kids                        0          0                         1  \n",
       "Lakes                                1          0                         0  \n",
       "Mountain views                       0          1                         1  \n",
       "Old growth                           1          0                         0  \n",
       "Ridges/passes                        0          0                         1  \n",
       "Rivers                               0          0                         0  \n",
       "Summits                              0          0                         0  \n",
       "Waterfalls                           0          0                         0  \n",
       "Wildflowers/Meadows                  0          0                         0  \n",
       "Wildlife                             0          0                         1  "
      ]
     },
     "execution_count": 8,
     "metadata": {},
     "output_type": "execute_result"
    }
   ],
   "source": [
    "df.head().T"
   ]
  },
  {
   "cell_type": "markdown",
   "metadata": {},
   "source": [
    "## Using Feature Importance from Gradient Boosting to get weights"
   ]
  },
  {
   "cell_type": "code",
   "execution_count": 10,
   "metadata": {},
   "outputs": [
    {
     "name": "stdout",
     "output_type": "stream",
     "text": [
      "RMSE: 1.060894954702379\n"
     ]
    },
    {
     "name": "stderr",
     "output_type": "stream",
     "text": [
      "/Users/jadetabony/miniconda3/envs/aind/lib/python3.5/site-packages/sklearn/cross_validation.py:41: DeprecationWarning: This module was deprecated in version 0.18 in favor of the model_selection module into which all the refactored classes and functions are moved. Also note that the interface of the new CV iterators are different from that of this module. This module will be removed in 0.20.\n",
      "  \"This module will be removed in 0.20.\", DeprecationWarning)\n"
     ]
    }
   ],
   "source": [
    "from sklearn.ensemble import GradientBoostingRegressor\n",
    "from sklearn.cross_validation import train_test_split\n",
    "from sklearn.metrics import mean_squared_error\n",
    "df = df.dropna()\n",
    "X = df[[u'elevation gain', u'time_from_seattle', u'numReports', \n",
    "        u'total_dist', u'Coast',\n",
    "       u'Dogs allowed on leash', u'Established campsites', u'Fall foliage',\n",
    "       u'Good for kids', u'Lakes', u'Mountain views', u'Old growth',\n",
    "       u'Ridges/passes', u'Rivers', u'Summits', u'Waterfalls',\n",
    "       u'Wildflowers/Meadows', u'Wildlife']]\n",
    "y = df.stars\n",
    "X_train, X_test, y_train, y_test = train_test_split(X, y, random_state=0)\n",
    "gb = GradientBoostingRegressor(min_samples_leaf=3, random_state=0).fit(X_train, y_train)\n",
    "print('RMSE: {}'.format(np.sqrt(mean_squared_error(y_test, gb.predict(X_test)))))"
   ]
  },
  {
   "cell_type": "code",
   "execution_count": 11,
   "metadata": {},
   "outputs": [
    {
     "data": {
      "text/plain": [
       "<matplotlib.axes._subplots.AxesSubplot at 0x10ce58080>"
      ]
     },
     "execution_count": 11,
     "metadata": {},
     "output_type": "execute_result"
    },
    {
     "data": {
      "image/png": "[encoded data removed]",
      "text/plain": [
       "<matplotlib.figure.Figure at 0x10ce53b00>"
      ]
     },
     "metadata": {},
     "output_type": "display_data"
    }
   ],
   "source": [
    "feat_imp = gb.feature_importances_\n",
    "feat_scores = pd.DataFrame({'Fraction of Samples Affected' : gb.feature_importances_},\n",
    "                           index=X.columns)\n",
    "feat_scores = feat_scores.sort_values(by='Fraction of Samples Affected')\n",
    "feat_scores.plot(kind='barh', color='green')"
   ]
  },
  {
   "cell_type": "code",
   "execution_count": 12,
   "metadata": {
    "collapsed": true
   },
   "outputs": [],
   "source": [
    "weights = dict(zip(X.columns, gb.feature_importances_))"
   ]
  },
  {
   "cell_type": "code",
   "execution_count": 13,
   "metadata": {},
   "outputs": [
    {
     "data": {
      "text/plain": [
       "{'Coast': 0.0008605416502796801,\n",
       " 'Dogs allowed on leash': 0.015485443549527633,\n",
       " 'Established campsites': 0.007265152002914418,\n",
       " 'Fall foliage': 0.003734896224677904,\n",
       " 'Good for kids': 0.018869290343909564,\n",
       " 'Lakes': 0.0025923560848305394,\n",
       " 'Mountain views': 0.008364118987063957,\n",
       " 'Old growth': 0.006148622728215646,\n",
       " 'Ridges/passes': 0.0017456838896329156,\n",
       " 'Rivers': 0.0077048155791259966,\n",
       " 'Summits': 0.023042377674711238,\n",
       " 'Waterfalls': 0.013400840316294587,\n",
       " 'Wildflowers/Meadows': 0.0018299341255906603,\n",
       " 'Wildlife': 0.02294547318827456,\n",
       " 'elevation gain': 0.19793960947377007,\n",
       " 'numReports': 0.23698143453301185,\n",
       " 'time_from_seattle': 0.26267208494186467,\n",
       " 'total_dist': 0.16841732470630383}"
      ]
     },
     "execution_count": 13,
     "metadata": {},
     "output_type": "execute_result"
    }
   ],
   "source": [
    "weights"
   ]
  },
  {
   "cell_type": "code",
   "execution_count": 47,
   "metadata": {},
   "outputs": [],
   "source": [
    "def prettyPrint(scores):\n",
    "    for score in scores:\n",
    "        print 'Hike Name: ', df.ix[score]['hike_name']\n",
    "        print 'Miles: ', df.ix[score]['total_dist']\n",
    "        print 'EG: ', df.ix[score]['elevation gain']"
   ]
  },
  {
   "cell_type": "code",
   "execution_count": 15,
   "metadata": {},
   "outputs": [],
   "source": [
    "# writes weights for use in model\n",
    "with open('../data/weights.json', 'w') as weight_fp:\n",
    "    json.dump(weights, weight_fp)"
   ]
  },
  {
   "cell_type": "code",
   "execution_count": null,
   "metadata": {
    "collapsed": true
   },
   "outputs": [],
   "source": []
  }
 ],
 "metadata": {
  "kernelspec": {
   "display_name": "Python [conda env:aind]",
   "language": "python",
   "name": "conda-env-aind-py"
  },
  "language_info": {
   "codemirror_mode": {
    "name": "ipython",
    "version": 3
   },
   "file_extension": ".py",
   "mimetype": "text/x-python",
   "name": "python",
   "nbconvert_exporter": "python",
   "pygments_lexer": "ipython3",
   "version": "3.5.4"
  }
 },
 "nbformat": 4,
 "nbformat_minor": 1
}
