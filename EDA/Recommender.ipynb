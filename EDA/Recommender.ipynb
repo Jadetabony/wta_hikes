{
 "cells": [
  {
   "cell_type": "code",
   "execution_count": 1,
   "metadata": {
    "collapsed": false
   },
   "outputs": [],
   "source": [
    "from __future__ import division\n",
    "import graphlab\n",
    "import pandas as pd\n",
    "import numpy as np\n",
    "from sklearn.cross_validation import train_test_split"
   ]
  },
  {
   "cell_type": "code",
   "execution_count": 2,
   "metadata": {
    "collapsed": false
   },
   "outputs": [
    {
     "data": {
      "text/html": [
       "<div>\n",
       "<table border=\"1\" class=\"dataframe\">\n",
       "  <thead>\n",
       "    <tr style=\"text-align: right;\">\n",
       "      <th></th>\n",
       "      <th>Rating</th>\n",
       "      <th>hike_id</th>\n",
       "      <th>hike_name</th>\n",
       "      <th>author_id</th>\n",
       "    </tr>\n",
       "  </thead>\n",
       "  <tbody>\n",
       "    <tr>\n",
       "      <th>0</th>\n",
       "      <td>3.0</td>\n",
       "      <td>0.0</td>\n",
       "      <td>Grand Park via Lake Eleanor</td>\n",
       "      <td>12474.0</td>\n",
       "    </tr>\n",
       "    <tr>\n",
       "      <th>1</th>\n",
       "      <td>3.0</td>\n",
       "      <td>0.0</td>\n",
       "      <td>Grand Park via Lake Eleanor</td>\n",
       "      <td>19586.0</td>\n",
       "    </tr>\n",
       "    <tr>\n",
       "      <th>2</th>\n",
       "      <td>1.0</td>\n",
       "      <td>0.0</td>\n",
       "      <td>Grand Park via Lake Eleanor</td>\n",
       "      <td>4317.0</td>\n",
       "    </tr>\n",
       "    <tr>\n",
       "      <th>3</th>\n",
       "      <td>3.0</td>\n",
       "      <td>0.0</td>\n",
       "      <td>Grand Park via Lake Eleanor</td>\n",
       "      <td>6676.0</td>\n",
       "    </tr>\n",
       "    <tr>\n",
       "      <th>4</th>\n",
       "      <td>3.0</td>\n",
       "      <td>0.0</td>\n",
       "      <td>Grand Park via Lake Eleanor</td>\n",
       "      <td>10392.0</td>\n",
       "    </tr>\n",
       "  </tbody>\n",
       "</table>\n",
       "</div>"
      ],
      "text/plain": [
       "   Rating  hike_id                    hike_name  author_id\n",
       "0     3.0      0.0  Grand Park via Lake Eleanor    12474.0\n",
       "1     3.0      0.0  Grand Park via Lake Eleanor    19586.0\n",
       "2     1.0      0.0  Grand Park via Lake Eleanor     4317.0\n",
       "3     3.0      0.0  Grand Park via Lake Eleanor     6676.0\n",
       "4     3.0      0.0  Grand Park via Lake Eleanor    10392.0"
      ]
     },
     "execution_count": 2,
     "metadata": {},
     "output_type": "execute_result"
    }
   ],
   "source": [
    "df = pd.read_csv(open('../data/tripReports.csv','rU'), encoding='utf-8', engine='c')\n",
    "df = df.drop(labels=['Unnamed: 0', 'Text', 'Date','Creator'], axis=1)\n",
    "df.head()"
   ]
  },
  {
   "cell_type": "code",
   "execution_count": 3,
   "metadata": {
    "collapsed": false
   },
   "outputs": [],
   "source": [
    "df = df.dropna()"
   ]
  },
  {
   "cell_type": "code",
   "execution_count": 4,
   "metadata": {
    "collapsed": false
   },
   "outputs": [],
   "source": [
    "df['hike_id'] = df['hike_id'].fillna(np.nan).astype(int)\n",
    "df['author_id'] = df['author_id'].fillna(np.nan).astype(int)"
   ]
  },
  {
   "cell_type": "code",
   "execution_count": 5,
   "metadata": {
    "collapsed": false
   },
   "outputs": [
    {
     "name": "stderr",
     "output_type": "stream",
     "text": [
      "[INFO] graphlab.cython.cy_server: GraphLab Create v2.1 started. Logging: /tmp/graphlab_server_1471209371.log\n",
      "INFO:graphlab.cython.cy_server:GraphLab Create v2.1 started. Logging: /tmp/graphlab_server_1471209371.log\n"
     ]
    },
    {
     "name": "stdout",
     "output_type": "stream",
     "text": [
      "This non-commercial license of GraphLab Create for academic use is assigned to jat257@cornell.edu and will expire on June 30, 2017.\n"
     ]
    }
   ],
   "source": [
    "df = graphlab.SFrame(df)"
   ]
  },
  {
   "cell_type": "markdown",
   "metadata": {},
   "source": [
    "## Factorization Recommender\n",
    "\n",
    "https://turi.com/products/create/docs/generated/graphlab.recommender.factorization_recommender.FactorizationRecommender.html\n",
    "\n",
    "With ALS"
   ]
  },
  {
   "cell_type": "code",
   "execution_count": 6,
   "metadata": {
    "collapsed": false
   },
   "outputs": [
    {
     "data": {
      "text/plain": [
       "(76966, 4)"
      ]
     },
     "execution_count": 6,
     "metadata": {},
     "output_type": "execute_result"
    }
   ],
   "source": [
    "df.shape"
   ]
  },
  {
   "cell_type": "code",
   "execution_count": 7,
   "metadata": {
    "collapsed": true
   },
   "outputs": [],
   "source": [
    "# Create training and test set\n",
    "df_train = df[:60000]\n",
    "df_test = df[60000:]"
   ]
  },
  {
   "cell_type": "code",
   "execution_count": 8,
   "metadata": {
    "collapsed": false
   },
   "outputs": [
    {
     "data": {
      "text/plain": [
       "(60000, 4)"
      ]
     },
     "execution_count": 8,
     "metadata": {},
     "output_type": "execute_result"
    }
   ],
   "source": [
    "df_train.shape"
   ]
  },
  {
   "cell_type": "code",
   "execution_count": 9,
   "metadata": {
    "collapsed": false
   },
   "outputs": [
    {
     "data": {
      "text/html": [
       "<pre>Recsys training: model = factorization_recommender</pre>"
      ],
      "text/plain": [
       "Recsys training: model = factorization_recommender"
      ]
     },
     "metadata": {},
     "output_type": "display_data"
    },
    {
     "data": {
      "text/html": [
       "<pre>Preparing data set.</pre>"
      ],
      "text/plain": [
       "Preparing data set."
      ]
     },
     "metadata": {},
     "output_type": "display_data"
    },
    {
     "data": {
      "text/html": [
       "<pre>    Data has 60000 observations with 17057 users and 848 items.</pre>"
      ],
      "text/plain": [
       "    Data has 60000 observations with 17057 users and 848 items."
      ]
     },
     "metadata": {},
     "output_type": "display_data"
    },
    {
     "data": {
      "text/html": [
       "<pre>    Data prepared in: 0.170711s</pre>"
      ],
      "text/plain": [
       "    Data prepared in: 0.170711s"
      ]
     },
     "metadata": {},
     "output_type": "display_data"
    },
    {
     "data": {
      "text/html": [
       "<pre>Training factorization_recommender for recommendations.</pre>"
      ],
      "text/plain": [
       "Training factorization_recommender for recommendations."
      ]
     },
     "metadata": {},
     "output_type": "display_data"
    },
    {
     "data": {
      "text/html": [
       "<pre>+------------------------------+--------------------------------------------------+----------+</pre>"
      ],
      "text/plain": [
       "+------------------------------+--------------------------------------------------+----------+"
      ]
     },
     "metadata": {},
     "output_type": "display_data"
    },
    {
     "data": {
      "text/html": [
       "<pre>| Parameter                    | Description                                      | Value    |</pre>"
      ],
      "text/plain": [
       "| Parameter                    | Description                                      | Value    |"
      ]
     },
     "metadata": {},
     "output_type": "display_data"
    },
    {
     "data": {
      "text/html": [
       "<pre>+------------------------------+--------------------------------------------------+----------+</pre>"
      ],
      "text/plain": [
       "+------------------------------+--------------------------------------------------+----------+"
      ]
     },
     "metadata": {},
     "output_type": "display_data"
    },
    {
     "data": {
      "text/html": [
       "<pre>| num_factors                  | Factor Dimension                                 | 8        |</pre>"
      ],
      "text/plain": [
       "| num_factors                  | Factor Dimension                                 | 8        |"
      ]
     },
     "metadata": {},
     "output_type": "display_data"
    },
    {
     "data": {
      "text/html": [
       "<pre>| regularization               | L2 Regularization on Factors                     | 1e-08    |</pre>"
      ],
      "text/plain": [
       "| regularization               | L2 Regularization on Factors                     | 1e-08    |"
      ]
     },
     "metadata": {},
     "output_type": "display_data"
    },
    {
     "data": {
      "text/html": [
       "<pre>| max_iterations               | Maximum Number of Iterations                     | 50       |</pre>"
      ],
      "text/plain": [
       "| max_iterations               | Maximum Number of Iterations                     | 50       |"
      ]
     },
     "metadata": {},
     "output_type": "display_data"
    },
    {
     "data": {
      "text/html": [
       "<pre>| solver                       | Solver used for training                         | als      |</pre>"
      ],
      "text/plain": [
       "| solver                       | Solver used for training                         | als      |"
      ]
     },
     "metadata": {},
     "output_type": "display_data"
    },
    {
     "data": {
      "text/html": [
       "<pre>+------------------------------+--------------------------------------------------+----------+</pre>"
      ],
      "text/plain": [
       "+------------------------------+--------------------------------------------------+----------+"
      ]
     },
     "metadata": {},
     "output_type": "display_data"
    },
    {
     "data": {
      "text/html": [
       "<pre>+---------+--------------+------------------------+</pre>"
      ],
      "text/plain": [
       "+---------+--------------+------------------------+"
      ]
     },
     "metadata": {},
     "output_type": "display_data"
    },
    {
     "data": {
      "text/html": [
       "<pre>| Iter.   | Elapsed time | RMSE                   |</pre>"
      ],
      "text/plain": [
       "| Iter.   | Elapsed time | RMSE                   |"
      ]
     },
     "metadata": {},
     "output_type": "display_data"
    },
    {
     "data": {
      "text/html": [
       "<pre>+---------+--------------+------------------------+</pre>"
      ],
      "text/plain": [
       "+---------+--------------+------------------------+"
      ]
     },
     "metadata": {},
     "output_type": "display_data"
    },
    {
     "data": {
      "text/html": [
       "<pre>| Initial | 138us        | NA                     |</pre>"
      ],
      "text/plain": [
       "| Initial | 138us        | NA                     |"
      ]
     },
     "metadata": {},
     "output_type": "display_data"
    },
    {
     "data": {
      "text/html": [
       "<pre>+---------+--------------+------------------------+</pre>"
      ],
      "text/plain": [
       "+---------+--------------+------------------------+"
      ]
     },
     "metadata": {},
     "output_type": "display_data"
    },
    {
     "data": {
      "text/html": [
       "<pre>| 0       | 170.975ms    | 1.17135                |</pre>"
      ],
      "text/plain": [
       "| 0       | 170.975ms    | 1.17135                |"
      ]
     },
     "metadata": {},
     "output_type": "display_data"
    },
    {
     "data": {
      "text/html": [
       "<pre>| 1       | 296.448ms    | 0.750105               |</pre>"
      ],
      "text/plain": [
       "| 1       | 296.448ms    | 0.750105               |"
      ]
     },
     "metadata": {},
     "output_type": "display_data"
    },
    {
     "data": {
      "text/html": [
       "<pre>| 2       | 408.572ms    | 0.727217               |</pre>"
      ],
      "text/plain": [
       "| 2       | 408.572ms    | 0.727217               |"
      ]
     },
     "metadata": {},
     "output_type": "display_data"
    },
    {
     "data": {
      "text/html": [
       "<pre>| 3       | 544.161ms    | 0.713053               |</pre>"
      ],
      "text/plain": [
       "| 3       | 544.161ms    | 0.713053               |"
      ]
     },
     "metadata": {},
     "output_type": "display_data"
    },
    {
     "data": {
      "text/html": [
       "<pre>| 4       | 663.556ms    | 0.70287                |</pre>"
      ],
      "text/plain": [
       "| 4       | 663.556ms    | 0.70287                |"
      ]
     },
     "metadata": {},
     "output_type": "display_data"
    },
    {
     "data": {
      "text/html": [
       "<pre>| 5       | 771.467ms    | 0.695132               |</pre>"
      ],
      "text/plain": [
       "| 5       | 771.467ms    | 0.695132               |"
      ]
     },
     "metadata": {},
     "output_type": "display_data"
    },
    {
     "data": {
      "text/html": [
       "<pre>| 6       | 900.771ms    | 0.688953               |</pre>"
      ],
      "text/plain": [
       "| 6       | 900.771ms    | 0.688953               |"
      ]
     },
     "metadata": {},
     "output_type": "display_data"
    },
    {
     "data": {
      "text/html": [
       "<pre>| 7       | 1.01s        | 0.68385                |</pre>"
      ],
      "text/plain": [
       "| 7       | 1.01s        | 0.68385                |"
      ]
     },
     "metadata": {},
     "output_type": "display_data"
    },
    {
     "data": {
      "text/html": [
       "<pre>| 8       | 1.13s        | 0.679512               |</pre>"
      ],
      "text/plain": [
       "| 8       | 1.13s        | 0.679512               |"
      ]
     },
     "metadata": {},
     "output_type": "display_data"
    },
    {
     "data": {
      "text/html": [
       "<pre>| 9       | 1.25s        | 0.675741               |</pre>"
      ],
      "text/plain": [
       "| 9       | 1.25s        | 0.675741               |"
      ]
     },
     "metadata": {},
     "output_type": "display_data"
    },
    {
     "data": {
      "text/html": [
       "<pre>| 10      | 1.37s        | 0.67244                |</pre>"
      ],
      "text/plain": [
       "| 10      | 1.37s        | 0.67244                |"
      ]
     },
     "metadata": {},
     "output_type": "display_data"
    },
    {
     "data": {
      "text/html": [
       "<pre>| 11      | 1.47s        | 0.669518               |</pre>"
      ],
      "text/plain": [
       "| 11      | 1.47s        | 0.669518               |"
      ]
     },
     "metadata": {},
     "output_type": "display_data"
    },
    {
     "data": {
      "text/html": [
       "<pre>| 12      | 1.60s        | 0.666912               |</pre>"
      ],
      "text/plain": [
       "| 12      | 1.60s        | 0.666912               |"
      ]
     },
     "metadata": {},
     "output_type": "display_data"
    },
    {
     "data": {
      "text/html": [
       "<pre>| 13      | 1.71s        | 0.664586               |</pre>"
      ],
      "text/plain": [
       "| 13      | 1.71s        | 0.664586               |"
      ]
     },
     "metadata": {},
     "output_type": "display_data"
    },
    {
     "data": {
      "text/html": [
       "<pre>| 14      | 1.81s        | 0.662489               |</pre>"
      ],
      "text/plain": [
       "| 14      | 1.81s        | 0.662489               |"
      ]
     },
     "metadata": {},
     "output_type": "display_data"
    },
    {
     "data": {
      "text/html": [
       "<pre>| 15      | 1.92s        | 0.660614               |</pre>"
      ],
      "text/plain": [
       "| 15      | 1.92s        | 0.660614               |"
      ]
     },
     "metadata": {},
     "output_type": "display_data"
    },
    {
     "data": {
      "text/html": [
       "<pre>| 16      | 2.05s        | 0.658933               |</pre>"
      ],
      "text/plain": [
       "| 16      | 2.05s        | 0.658933               |"
      ]
     },
     "metadata": {},
     "output_type": "display_data"
    },
    {
     "data": {
      "text/html": [
       "<pre>| 17      | 2.20s        | 0.657428               |</pre>"
      ],
      "text/plain": [
       "| 17      | 2.20s        | 0.657428               |"
      ]
     },
     "metadata": {},
     "output_type": "display_data"
    },
    {
     "data": {
      "text/html": [
       "<pre>| 18      | 2.31s        | 0.656059               |</pre>"
      ],
      "text/plain": [
       "| 18      | 2.31s        | 0.656059               |"
      ]
     },
     "metadata": {},
     "output_type": "display_data"
    },
    {
     "data": {
      "text/html": [
       "<pre>| 19      | 2.46s        | 0.654799               |</pre>"
      ],
      "text/plain": [
       "| 19      | 2.46s        | 0.654799               |"
      ]
     },
     "metadata": {},
     "output_type": "display_data"
    },
    {
     "data": {
      "text/html": [
       "<pre>| 20      | 2.67s        | 0.653632               |</pre>"
      ],
      "text/plain": [
       "| 20      | 2.67s        | 0.653632               |"
      ]
     },
     "metadata": {},
     "output_type": "display_data"
    },
    {
     "data": {
      "text/html": [
       "<pre>| 21      | 2.78s        | 0.652535               |</pre>"
      ],
      "text/plain": [
       "| 21      | 2.78s        | 0.652535               |"
      ]
     },
     "metadata": {},
     "output_type": "display_data"
    },
    {
     "data": {
      "text/html": [
       "<pre>| 22      | 2.92s        | 0.651507               |</pre>"
      ],
      "text/plain": [
       "| 22      | 2.92s        | 0.651507               |"
      ]
     },
     "metadata": {},
     "output_type": "display_data"
    },
    {
     "data": {
      "text/html": [
       "<pre>| 23      | 3.01s        | 0.650529               |</pre>"
      ],
      "text/plain": [
       "| 23      | 3.01s        | 0.650529               |"
      ]
     },
     "metadata": {},
     "output_type": "display_data"
    },
    {
     "data": {
      "text/html": [
       "<pre>| 24      | 3.09s        | 0.649597               |</pre>"
      ],
      "text/plain": [
       "| 24      | 3.09s        | 0.649597               |"
      ]
     },
     "metadata": {},
     "output_type": "display_data"
    },
    {
     "data": {
      "text/html": [
       "<pre>| 25      | 3.20s        | 0.648702               |</pre>"
      ],
      "text/plain": [
       "| 25      | 3.20s        | 0.648702               |"
      ]
     },
     "metadata": {},
     "output_type": "display_data"
    },
    {
     "data": {
      "text/html": [
       "<pre>| 26      | 3.28s        | 0.647842               |</pre>"
      ],
      "text/plain": [
       "| 26      | 3.28s        | 0.647842               |"
      ]
     },
     "metadata": {},
     "output_type": "display_data"
    },
    {
     "data": {
      "text/html": [
       "<pre>| 27      | 3.39s        | 0.647029               |</pre>"
      ],
      "text/plain": [
       "| 27      | 3.39s        | 0.647029               |"
      ]
     },
     "metadata": {},
     "output_type": "display_data"
    },
    {
     "data": {
      "text/html": [
       "<pre>| 28      | 3.48s        | 0.646259               |</pre>"
      ],
      "text/plain": [
       "| 28      | 3.48s        | 0.646259               |"
      ]
     },
     "metadata": {},
     "output_type": "display_data"
    },
    {
     "data": {
      "text/html": [
       "<pre>| 29      | 3.56s        | 0.645535               |</pre>"
      ],
      "text/plain": [
       "| 29      | 3.56s        | 0.645535               |"
      ]
     },
     "metadata": {},
     "output_type": "display_data"
    },
    {
     "data": {
      "text/html": [
       "<pre>| 30      | 3.64s        | 0.644851               |</pre>"
      ],
      "text/plain": [
       "| 30      | 3.64s        | 0.644851               |"
      ]
     },
     "metadata": {},
     "output_type": "display_data"
    },
    {
     "data": {
      "text/html": [
       "<pre>| 31      | 3.73s        | 0.644206               |</pre>"
      ],
      "text/plain": [
       "| 31      | 3.73s        | 0.644206               |"
      ]
     },
     "metadata": {},
     "output_type": "display_data"
    },
    {
     "data": {
      "text/html": [
       "<pre>| 32      | 3.82s        | 0.643594               |</pre>"
      ],
      "text/plain": [
       "| 32      | 3.82s        | 0.643594               |"
      ]
     },
     "metadata": {},
     "output_type": "display_data"
    },
    {
     "data": {
      "text/html": [
       "<pre>| 33      | 3.90s        | 0.643015               |</pre>"
      ],
      "text/plain": [
       "| 33      | 3.90s        | 0.643015               |"
      ]
     },
     "metadata": {},
     "output_type": "display_data"
    },
    {
     "data": {
      "text/html": [
       "<pre>| 34      | 3.99s        | 0.642462               |</pre>"
      ],
      "text/plain": [
       "| 34      | 3.99s        | 0.642462               |"
      ]
     },
     "metadata": {},
     "output_type": "display_data"
    },
    {
     "data": {
      "text/html": [
       "<pre>| 35      | 4.09s        | 0.641936               |</pre>"
      ],
      "text/plain": [
       "| 35      | 4.09s        | 0.641936               |"
      ]
     },
     "metadata": {},
     "output_type": "display_data"
    },
    {
     "data": {
      "text/html": [
       "<pre>| 36      | 4.18s        | 0.641432               |</pre>"
      ],
      "text/plain": [
       "| 36      | 4.18s        | 0.641432               |"
      ]
     },
     "metadata": {},
     "output_type": "display_data"
    },
    {
     "data": {
      "text/html": [
       "<pre>| 37      | 4.28s        | 0.640947               |</pre>"
      ],
      "text/plain": [
       "| 37      | 4.28s        | 0.640947               |"
      ]
     },
     "metadata": {},
     "output_type": "display_data"
    },
    {
     "data": {
      "text/html": [
       "<pre>| 38      | 4.37s        | 0.640478               |</pre>"
      ],
      "text/plain": [
       "| 38      | 4.37s        | 0.640478               |"
      ]
     },
     "metadata": {},
     "output_type": "display_data"
    },
    {
     "data": {
      "text/html": [
       "<pre>| 39      | 4.46s        | 0.640025               |</pre>"
      ],
      "text/plain": [
       "| 39      | 4.46s        | 0.640025               |"
      ]
     },
     "metadata": {},
     "output_type": "display_data"
    },
    {
     "data": {
      "text/html": [
       "<pre>| 40      | 4.55s        | 0.639585               |</pre>"
      ],
      "text/plain": [
       "| 40      | 4.55s        | 0.639585               |"
      ]
     },
     "metadata": {},
     "output_type": "display_data"
    },
    {
     "data": {
      "text/html": [
       "<pre>| 41      | 4.64s        | 0.639155               |</pre>"
      ],
      "text/plain": [
       "| 41      | 4.64s        | 0.639155               |"
      ]
     },
     "metadata": {},
     "output_type": "display_data"
    },
    {
     "data": {
      "text/html": [
       "<pre>| 42      | 4.72s        | 0.638736               |</pre>"
      ],
      "text/plain": [
       "| 42      | 4.72s        | 0.638736               |"
      ]
     },
     "metadata": {},
     "output_type": "display_data"
    },
    {
     "data": {
      "text/html": [
       "<pre>| 43      | 4.80s        | 0.638321               |</pre>"
      ],
      "text/plain": [
       "| 43      | 4.80s        | 0.638321               |"
      ]
     },
     "metadata": {},
     "output_type": "display_data"
    },
    {
     "data": {
      "text/html": [
       "<pre>| 44      | 4.89s        | 0.637918               |</pre>"
      ],
      "text/plain": [
       "| 44      | 4.89s        | 0.637918               |"
      ]
     },
     "metadata": {},
     "output_type": "display_data"
    },
    {
     "data": {
      "text/html": [
       "<pre>| 45      | 4.97s        | 0.637532               |</pre>"
      ],
      "text/plain": [
       "| 45      | 4.97s        | 0.637532               |"
      ]
     },
     "metadata": {},
     "output_type": "display_data"
    },
    {
     "data": {
      "text/html": [
       "<pre>| 46      | 5.05s        | 0.637163               |</pre>"
      ],
      "text/plain": [
       "| 46      | 5.05s        | 0.637163               |"
      ]
     },
     "metadata": {},
     "output_type": "display_data"
    },
    {
     "data": {
      "text/html": [
       "<pre>| 47      | 5.14s        | 0.636812               |</pre>"
      ],
      "text/plain": [
       "| 47      | 5.14s        | 0.636812               |"
      ]
     },
     "metadata": {},
     "output_type": "display_data"
    },
    {
     "data": {
      "text/html": [
       "<pre>| 48      | 5.23s        | 0.636476               |</pre>"
      ],
      "text/plain": [
       "| 48      | 5.23s        | 0.636476               |"
      ]
     },
     "metadata": {},
     "output_type": "display_data"
    },
    {
     "data": {
      "text/html": [
       "<pre>| 49      | 5.32s        | 0.636152               |</pre>"
      ],
      "text/plain": [
       "| 49      | 5.32s        | 0.636152               |"
      ]
     },
     "metadata": {},
     "output_type": "display_data"
    },
    {
     "data": {
      "text/html": [
       "<pre>| FINAL   | 5.32s        | 0.636152               |</pre>"
      ],
      "text/plain": [
       "| FINAL   | 5.32s        | 0.636152               |"
      ]
     },
     "metadata": {},
     "output_type": "display_data"
    },
    {
     "data": {
      "text/html": [
       "<pre>+---------+--------------+------------------------+</pre>"
      ],
      "text/plain": [
       "+---------+--------------+------------------------+"
      ]
     },
     "metadata": {},
     "output_type": "display_data"
    },
    {
     "data": {
      "text/html": [
       "<pre>Optimization Complete: Iteration limit reached.</pre>"
      ],
      "text/plain": [
       "Optimization Complete: Iteration limit reached."
      ]
     },
     "metadata": {},
     "output_type": "display_data"
    }
   ],
   "source": [
    "model = graphlab.recommender.factorization_recommender.create(df_train, user_id='author_id', item_id='hike_id', target='Rating', solver='als' )"
   ]
  },
  {
   "cell_type": "code",
   "execution_count": 10,
   "metadata": {
    "collapsed": false
   },
   "outputs": [],
   "source": [
    "predicted = model.predict(df_test)\n",
    "\n"
   ]
  },
  {
   "cell_type": "code",
   "execution_count": 11,
   "metadata": {
    "collapsed": false
   },
   "outputs": [
    {
     "data": {
      "text/html": [
       "<div style=\"max-height:1000px;max-width:1500px;overflow:auto;\"><table frame=\"box\" rules=\"cols\">\n",
       "    <tr>\n",
       "        <th style=\"padding-left: 1em; padding-right: 1em; text-align: center\">Rating</th>\n",
       "        <th style=\"padding-left: 1em; padding-right: 1em; text-align: center\">hike_id</th>\n",
       "        <th style=\"padding-left: 1em; padding-right: 1em; text-align: center\">hike_name</th>\n",
       "        <th style=\"padding-left: 1em; padding-right: 1em; text-align: center\">author_id</th>\n",
       "    </tr>\n",
       "    <tr>\n",
       "        <td style=\"padding-left: 1em; padding-right: 1em; text-align: center; vertical-align: top\">5.0</td>\n",
       "        <td style=\"padding-left: 1em; padding-right: 1em; text-align: center; vertical-align: top\">875</td>\n",
       "        <td style=\"padding-left: 1em; padding-right: 1em; text-align: center; vertical-align: top\">Heliotrope Ridge</td>\n",
       "        <td style=\"padding-left: 1em; padding-right: 1em; text-align: center; vertical-align: top\">15685</td>\n",
       "    </tr>\n",
       "    <tr>\n",
       "        <td style=\"padding-left: 1em; padding-right: 1em; text-align: center; vertical-align: top\">5.0</td>\n",
       "        <td style=\"padding-left: 1em; padding-right: 1em; text-align: center; vertical-align: top\">875</td>\n",
       "        <td style=\"padding-left: 1em; padding-right: 1em; text-align: center; vertical-align: top\">Heliotrope Ridge</td>\n",
       "        <td style=\"padding-left: 1em; padding-right: 1em; text-align: center; vertical-align: top\">6105</td>\n",
       "    </tr>\n",
       "    <tr>\n",
       "        <td style=\"padding-left: 1em; padding-right: 1em; text-align: center; vertical-align: top\">3.0</td>\n",
       "        <td style=\"padding-left: 1em; padding-right: 1em; text-align: center; vertical-align: top\">875</td>\n",
       "        <td style=\"padding-left: 1em; padding-right: 1em; text-align: center; vertical-align: top\">Heliotrope Ridge</td>\n",
       "        <td style=\"padding-left: 1em; padding-right: 1em; text-align: center; vertical-align: top\">6837</td>\n",
       "    </tr>\n",
       "    <tr>\n",
       "        <td style=\"padding-left: 1em; padding-right: 1em; text-align: center; vertical-align: top\">5.0</td>\n",
       "        <td style=\"padding-left: 1em; padding-right: 1em; text-align: center; vertical-align: top\">875</td>\n",
       "        <td style=\"padding-left: 1em; padding-right: 1em; text-align: center; vertical-align: top\">Heliotrope Ridge</td>\n",
       "        <td style=\"padding-left: 1em; padding-right: 1em; text-align: center; vertical-align: top\">5218</td>\n",
       "    </tr>\n",
       "    <tr>\n",
       "        <td style=\"padding-left: 1em; padding-right: 1em; text-align: center; vertical-align: top\">5.0</td>\n",
       "        <td style=\"padding-left: 1em; padding-right: 1em; text-align: center; vertical-align: top\">875</td>\n",
       "        <td style=\"padding-left: 1em; padding-right: 1em; text-align: center; vertical-align: top\">Heliotrope Ridge</td>\n",
       "        <td style=\"padding-left: 1em; padding-right: 1em; text-align: center; vertical-align: top\">4770</td>\n",
       "    </tr>\n",
       "    <tr>\n",
       "        <td style=\"padding-left: 1em; padding-right: 1em; text-align: center; vertical-align: top\">3.0</td>\n",
       "        <td style=\"padding-left: 1em; padding-right: 1em; text-align: center; vertical-align: top\">875</td>\n",
       "        <td style=\"padding-left: 1em; padding-right: 1em; text-align: center; vertical-align: top\">Heliotrope Ridge</td>\n",
       "        <td style=\"padding-left: 1em; padding-right: 1em; text-align: center; vertical-align: top\">15232</td>\n",
       "    </tr>\n",
       "    <tr>\n",
       "        <td style=\"padding-left: 1em; padding-right: 1em; text-align: center; vertical-align: top\">3.0</td>\n",
       "        <td style=\"padding-left: 1em; padding-right: 1em; text-align: center; vertical-align: top\">875</td>\n",
       "        <td style=\"padding-left: 1em; padding-right: 1em; text-align: center; vertical-align: top\">Heliotrope Ridge</td>\n",
       "        <td style=\"padding-left: 1em; padding-right: 1em; text-align: center; vertical-align: top\">5774</td>\n",
       "    </tr>\n",
       "    <tr>\n",
       "        <td style=\"padding-left: 1em; padding-right: 1em; text-align: center; vertical-align: top\">5.0</td>\n",
       "        <td style=\"padding-left: 1em; padding-right: 1em; text-align: center; vertical-align: top\">875</td>\n",
       "        <td style=\"padding-left: 1em; padding-right: 1em; text-align: center; vertical-align: top\">Heliotrope Ridge</td>\n",
       "        <td style=\"padding-left: 1em; padding-right: 1em; text-align: center; vertical-align: top\">14435</td>\n",
       "    </tr>\n",
       "    <tr>\n",
       "        <td style=\"padding-left: 1em; padding-right: 1em; text-align: center; vertical-align: top\">3.0</td>\n",
       "        <td style=\"padding-left: 1em; padding-right: 1em; text-align: center; vertical-align: top\">875</td>\n",
       "        <td style=\"padding-left: 1em; padding-right: 1em; text-align: center; vertical-align: top\">Heliotrope Ridge</td>\n",
       "        <td style=\"padding-left: 1em; padding-right: 1em; text-align: center; vertical-align: top\">1295</td>\n",
       "    </tr>\n",
       "    <tr>\n",
       "        <td style=\"padding-left: 1em; padding-right: 1em; text-align: center; vertical-align: top\">1.0</td>\n",
       "        <td style=\"padding-left: 1em; padding-right: 1em; text-align: center; vertical-align: top\">875</td>\n",
       "        <td style=\"padding-left: 1em; padding-right: 1em; text-align: center; vertical-align: top\">Heliotrope Ridge</td>\n",
       "        <td style=\"padding-left: 1em; padding-right: 1em; text-align: center; vertical-align: top\">18756</td>\n",
       "    </tr>\n",
       "</table>\n",
       "[10 rows x 4 columns]<br/>\n",
       "</div>"
      ],
      "text/plain": [
       "Columns:\n",
       "\tRating\tfloat\n",
       "\thike_id\tint\n",
       "\thike_name\tstr\n",
       "\tauthor_id\tint\n",
       "\n",
       "Rows: 10\n",
       "\n",
       "Data:\n",
       "+--------+---------+------------------+-----------+\n",
       "| Rating | hike_id |    hike_name     | author_id |\n",
       "+--------+---------+------------------+-----------+\n",
       "|  5.0   |   875   | Heliotrope Ridge |   15685   |\n",
       "|  5.0   |   875   | Heliotrope Ridge |    6105   |\n",
       "|  3.0   |   875   | Heliotrope Ridge |    6837   |\n",
       "|  5.0   |   875   | Heliotrope Ridge |    5218   |\n",
       "|  5.0   |   875   | Heliotrope Ridge |    4770   |\n",
       "|  3.0   |   875   | Heliotrope Ridge |   15232   |\n",
       "|  3.0   |   875   | Heliotrope Ridge |    5774   |\n",
       "|  5.0   |   875   | Heliotrope Ridge |   14435   |\n",
       "|  3.0   |   875   | Heliotrope Ridge |    1295   |\n",
       "|  1.0   |   875   | Heliotrope Ridge |   18756   |\n",
       "+--------+---------+------------------+-----------+\n",
       "[10 rows x 4 columns]"
      ]
     },
     "execution_count": 11,
     "metadata": {},
     "output_type": "execute_result"
    }
   ],
   "source": [
    "df_test.head()"
   ]
  },
  {
   "cell_type": "code",
   "execution_count": 12,
   "metadata": {
    "collapsed": true
   },
   "outputs": [],
   "source": [
    "from sklearn.metrics import mean_squared_error"
   ]
  },
  {
   "cell_type": "code",
   "execution_count": 13,
   "metadata": {
    "collapsed": false
   },
   "outputs": [
    {
     "name": "stdout",
     "output_type": "stream",
     "text": [
      "MSE:  1.99959502278\n",
      "RMSE:  1.41407037406\n"
     ]
    }
   ],
   "source": [
    "print 'MSE: ', mean_squared_error(df_test['Rating'], predicted)\n",
    "print 'RMSE: ', np.sqrt(mean_squared_error(df_test['Rating'], predicted))"
   ]
  },
  {
   "cell_type": "markdown",
   "metadata": {},
   "source": [
    "## Factorization Recommender\n",
    "\n",
    "https://turi.com/products/create/docs/generated/graphlab.recommender.factorization_recommender.FactorizationRecommender.html\n",
    "\n",
    "With SGD"
   ]
  },
  {
   "cell_type": "code",
   "execution_count": 14,
   "metadata": {
    "collapsed": false
   },
   "outputs": [
    {
     "data": {
      "text/html": [
       "<pre>Recsys training: model = factorization_recommender</pre>"
      ],
      "text/plain": [
       "Recsys training: model = factorization_recommender"
      ]
     },
     "metadata": {},
     "output_type": "display_data"
    },
    {
     "data": {
      "text/html": [
       "<pre>Preparing data set.</pre>"
      ],
      "text/plain": [
       "Preparing data set."
      ]
     },
     "metadata": {},
     "output_type": "display_data"
    },
    {
     "data": {
      "text/html": [
       "<pre>    Data has 60000 observations with 17057 users and 848 items.</pre>"
      ],
      "text/plain": [
       "    Data has 60000 observations with 17057 users and 848 items."
      ]
     },
     "metadata": {},
     "output_type": "display_data"
    },
    {
     "data": {
      "text/html": [
       "<pre>    Data prepared in: 0.166917s</pre>"
      ],
      "text/plain": [
       "    Data prepared in: 0.166917s"
      ]
     },
     "metadata": {},
     "output_type": "display_data"
    },
    {
     "data": {
      "text/html": [
       "<pre>Training factorization_recommender for recommendations.</pre>"
      ],
      "text/plain": [
       "Training factorization_recommender for recommendations."
      ]
     },
     "metadata": {},
     "output_type": "display_data"
    },
    {
     "data": {
      "text/html": [
       "<pre>+--------------------------------+--------------------------------------------------+----------+</pre>"
      ],
      "text/plain": [
       "+--------------------------------+--------------------------------------------------+----------+"
      ]
     },
     "metadata": {},
     "output_type": "display_data"
    },
    {
     "data": {
      "text/html": [
       "<pre>| Parameter                      | Description                                      | Value    |</pre>"
      ],
      "text/plain": [
       "| Parameter                      | Description                                      | Value    |"
      ]
     },
     "metadata": {},
     "output_type": "display_data"
    },
    {
     "data": {
      "text/html": [
       "<pre>+--------------------------------+--------------------------------------------------+----------+</pre>"
      ],
      "text/plain": [
       "+--------------------------------+--------------------------------------------------+----------+"
      ]
     },
     "metadata": {},
     "output_type": "display_data"
    },
    {
     "data": {
      "text/html": [
       "<pre>| num_factors                    | Factor Dimension                                 | 8        |</pre>"
      ],
      "text/plain": [
       "| num_factors                    | Factor Dimension                                 | 8        |"
      ]
     },
     "metadata": {},
     "output_type": "display_data"
    },
    {
     "data": {
      "text/html": [
       "<pre>| regularization                 | L2 Regularization on Factors                     | 1e-08    |</pre>"
      ],
      "text/plain": [
       "| regularization                 | L2 Regularization on Factors                     | 1e-08    |"
      ]
     },
     "metadata": {},
     "output_type": "display_data"
    },
    {
     "data": {
      "text/html": [
       "<pre>| solver                         | Solver used for training                         | sgd      |</pre>"
      ],
      "text/plain": [
       "| solver                         | Solver used for training                         | sgd      |"
      ]
     },
     "metadata": {},
     "output_type": "display_data"
    },
    {
     "data": {
      "text/html": [
       "<pre>| linear_regularization          | L2 Regularization on Linear Coefficients         | 1e-10    |</pre>"
      ],
      "text/plain": [
       "| linear_regularization          | L2 Regularization on Linear Coefficients         | 1e-10    |"
      ]
     },
     "metadata": {},
     "output_type": "display_data"
    },
    {
     "data": {
      "text/html": [
       "<pre>| max_iterations                 | Maximum Number of Iterations                     | 50       |</pre>"
      ],
      "text/plain": [
       "| max_iterations                 | Maximum Number of Iterations                     | 50       |"
      ]
     },
     "metadata": {},
     "output_type": "display_data"
    },
    {
     "data": {
      "text/html": [
       "<pre>+--------------------------------+--------------------------------------------------+----------+</pre>"
      ],
      "text/plain": [
       "+--------------------------------+--------------------------------------------------+----------+"
      ]
     },
     "metadata": {},
     "output_type": "display_data"
    },
    {
     "data": {
      "text/html": [
       "<pre>  Optimizing model using SGD; tuning step size.</pre>"
      ],
      "text/plain": [
       "  Optimizing model using SGD; tuning step size."
      ]
     },
     "metadata": {},
     "output_type": "display_data"
    },
    {
     "data": {
      "text/html": [
       "<pre>  Using 10000 / 60000 points for tuning the step size.</pre>"
      ],
      "text/plain": [
       "  Using 10000 / 60000 points for tuning the step size."
      ]
     },
     "metadata": {},
     "output_type": "display_data"
    },
    {
     "data": {
      "text/html": [
       "<pre>+---------+-------------------+------------------------------------------+</pre>"
      ],
      "text/plain": [
       "+---------+-------------------+------------------------------------------+"
      ]
     },
     "metadata": {},
     "output_type": "display_data"
    },
    {
     "data": {
      "text/html": [
       "<pre>| Attempt | Initial Step Size | Estimated Objective Value                |</pre>"
      ],
      "text/plain": [
       "| Attempt | Initial Step Size | Estimated Objective Value                |"
      ]
     },
     "metadata": {},
     "output_type": "display_data"
    },
    {
     "data": {
      "text/html": [
       "<pre>+---------+-------------------+------------------------------------------+</pre>"
      ],
      "text/plain": [
       "+---------+-------------------+------------------------------------------+"
      ]
     },
     "metadata": {},
     "output_type": "display_data"
    },
    {
     "data": {
      "text/html": [
       "<pre>| 0       | 16.6667           | Not Viable                               |</pre>"
      ],
      "text/plain": [
       "| 0       | 16.6667           | Not Viable                               |"
      ]
     },
     "metadata": {},
     "output_type": "display_data"
    },
    {
     "data": {
      "text/html": [
       "<pre>| 1       | 4.16667           | Not Viable                               |</pre>"
      ],
      "text/plain": [
       "| 1       | 4.16667           | Not Viable                               |"
      ]
     },
     "metadata": {},
     "output_type": "display_data"
    },
    {
     "data": {
      "text/html": [
       "<pre>| 2       | 1.04167           | Not Viable                               |</pre>"
      ],
      "text/plain": [
       "| 2       | 1.04167           | Not Viable                               |"
      ]
     },
     "metadata": {},
     "output_type": "display_data"
    },
    {
     "data": {
      "text/html": [
       "<pre>| 3       | 0.260417          | Not Viable                               |</pre>"
      ],
      "text/plain": [
       "| 3       | 0.260417          | Not Viable                               |"
      ]
     },
     "metadata": {},
     "output_type": "display_data"
    },
    {
     "data": {
      "text/html": [
       "<pre>| 4       | 0.0651042         | 1.10341                                  |</pre>"
      ],
      "text/plain": [
       "| 4       | 0.0651042         | 1.10341                                  |"
      ]
     },
     "metadata": {},
     "output_type": "display_data"
    },
    {
     "data": {
      "text/html": [
       "<pre>| 5       | 0.0325521         | 1.33601                                  |</pre>"
      ],
      "text/plain": [
       "| 5       | 0.0325521         | 1.33601                                  |"
      ]
     },
     "metadata": {},
     "output_type": "display_data"
    },
    {
     "data": {
      "text/html": [
       "<pre>| 6       | 0.016276          | 1.53177                                  |</pre>"
      ],
      "text/plain": [
       "| 6       | 0.016276          | 1.53177                                  |"
      ]
     },
     "metadata": {},
     "output_type": "display_data"
    },
    {
     "data": {
      "text/html": [
       "<pre>| 7       | 0.00813802        | 1.67858                                  |</pre>"
      ],
      "text/plain": [
       "| 7       | 0.00813802        | 1.67858                                  |"
      ]
     },
     "metadata": {},
     "output_type": "display_data"
    },
    {
     "data": {
      "text/html": [
       "<pre>+---------+-------------------+------------------------------------------+</pre>"
      ],
      "text/plain": [
       "+---------+-------------------+------------------------------------------+"
      ]
     },
     "metadata": {},
     "output_type": "display_data"
    },
    {
     "data": {
      "text/html": [
       "<pre>| Final   | 0.0651042         | 1.10341                                  |</pre>"
      ],
      "text/plain": [
       "| Final   | 0.0651042         | 1.10341                                  |"
      ]
     },
     "metadata": {},
     "output_type": "display_data"
    },
    {
     "data": {
      "text/html": [
       "<pre>+---------+-------------------+------------------------------------------+</pre>"
      ],
      "text/plain": [
       "+---------+-------------------+------------------------------------------+"
      ]
     },
     "metadata": {},
     "output_type": "display_data"
    },
    {
     "data": {
      "text/html": [
       "<pre>Starting Optimization.</pre>"
      ],
      "text/plain": [
       "Starting Optimization."
      ]
     },
     "metadata": {},
     "output_type": "display_data"
    },
    {
     "data": {
      "text/html": [
       "<pre>+---------+--------------+-------------------+-----------------------+-------------+</pre>"
      ],
      "text/plain": [
       "+---------+--------------+-------------------+-----------------------+-------------+"
      ]
     },
     "metadata": {},
     "output_type": "display_data"
    },
    {
     "data": {
      "text/html": [
       "<pre>| Iter.   | Elapsed Time | Approx. Objective | Approx. Training RMSE | Step Size   |</pre>"
      ],
      "text/plain": [
       "| Iter.   | Elapsed Time | Approx. Objective | Approx. Training RMSE | Step Size   |"
      ]
     },
     "metadata": {},
     "output_type": "display_data"
    },
    {
     "data": {
      "text/html": [
       "<pre>+---------+--------------+-------------------+-----------------------+-------------+</pre>"
      ],
      "text/plain": [
       "+---------+--------------+-------------------+-----------------------+-------------+"
      ]
     },
     "metadata": {},
     "output_type": "display_data"
    },
    {
     "data": {
      "text/html": [
       "<pre>| Initial | 133us        | 2.02211           | 1.42201               |             |</pre>"
      ],
      "text/plain": [
       "| Initial | 133us        | 2.02211           | 1.42201               |             |"
      ]
     },
     "metadata": {},
     "output_type": "display_data"
    },
    {
     "data": {
      "text/html": [
       "<pre>+---------+--------------+-------------------+-----------------------+-------------+</pre>"
      ],
      "text/plain": [
       "+---------+--------------+-------------------+-----------------------+-------------+"
      ]
     },
     "metadata": {},
     "output_type": "display_data"
    },
    {
     "data": {
      "text/html": [
       "<pre>| 1       | 108.536ms    | 2.12751           | 1.45859               | 0.0651042   |</pre>"
      ],
      "text/plain": [
       "| 1       | 108.536ms    | 2.12751           | 1.45859               | 0.0651042   |"
      ]
     },
     "metadata": {},
     "output_type": "display_data"
    },
    {
     "data": {
      "text/html": [
       "<pre>| 2       | 224.997ms    | 1.72404           | 1.31302               | 0.0387112   |</pre>"
      ],
      "text/plain": [
       "| 2       | 224.997ms    | 1.72404           | 1.31302               | 0.0387112   |"
      ]
     },
     "metadata": {},
     "output_type": "display_data"
    },
    {
     "data": {
      "text/html": [
       "<pre>| 3       | 299.642ms    | 1.57095           | 1.25337               | 0.0285606   |</pre>"
      ],
      "text/plain": [
       "| 3       | 299.642ms    | 1.57095           | 1.25337               | 0.0285606   |"
      ]
     },
     "metadata": {},
     "output_type": "display_data"
    },
    {
     "data": {
      "text/html": [
       "<pre>| 4       | 545.232ms    | 1.47748           | 1.21552               | 0.0193556   |</pre>"
      ],
      "text/plain": [
       "| 4       | 545.232ms    | 1.47748           | 1.21552               | 0.0193556   |"
      ]
     },
     "metadata": {},
     "output_type": "display_data"
    },
    {
     "data": {
      "text/html": [
       "<pre>| 5       | 698.193ms    | 1.40978           | 1.18734               | 0.0163728   |</pre>"
      ],
      "text/plain": [
       "| 5       | 698.193ms    | 1.40978           | 1.18734               | 0.0163728   |"
      ]
     },
     "metadata": {},
     "output_type": "display_data"
    },
    {
     "data": {
      "text/html": [
       "<pre>| 6       | 823.672ms    | 1.33138           | 1.15385               | 0.0142803   |</pre>"
      ],
      "text/plain": [
       "| 6       | 823.672ms    | 1.33138           | 1.15385               | 0.0142803   |"
      ]
     },
     "metadata": {},
     "output_type": "display_data"
    },
    {
     "data": {
      "text/html": [
       "<pre>| 10      | 1.30s        | 0.967604          | 0.98366               | 0.00973534  |</pre>"
      ],
      "text/plain": [
       "| 10      | 1.30s        | 0.967604          | 0.98366               | 0.00973534  |"
      ]
     },
     "metadata": {},
     "output_type": "display_data"
    },
    {
     "data": {
      "text/html": [
       "<pre>| 11      | 1.40s        | 0.900971          | 0.949184              | 0.00906373  |</pre>"
      ],
      "text/plain": [
       "| 11      | 1.40s        | 0.900971          | 0.949184              | 0.00906373  |"
      ]
     },
     "metadata": {},
     "output_type": "display_data"
    },
    {
     "data": {
      "text/html": [
       "<pre>| 20      | 2.62s        | 0.623258          | 0.789441              | 0.00578867  |</pre>"
      ],
      "text/plain": [
       "| 20      | 2.62s        | 0.623258          | 0.789441              | 0.00578867  |"
      ]
     },
     "metadata": {},
     "output_type": "display_data"
    },
    {
     "data": {
      "text/html": [
       "<pre>| 30      | 4.28s        | 0.532336          | 0.729578              | 0.00427081  |</pre>"
      ],
      "text/plain": [
       "| 30      | 4.28s        | 0.532336          | 0.729578              | 0.00427081  |"
      ]
     },
     "metadata": {},
     "output_type": "display_data"
    },
    {
     "data": {
      "text/html": [
       "<pre>| 40      | 5.57s        | 0.492834          | 0.701981              | 0.00344196  |</pre>"
      ],
      "text/plain": [
       "| 40      | 5.57s        | 0.492834          | 0.701981              | 0.00344196  |"
      ]
     },
     "metadata": {},
     "output_type": "display_data"
    },
    {
     "data": {
      "text/html": [
       "<pre>| 50      | 7.24s        | 0.471531          | 0.686636              | 0.00291155  |</pre>"
      ],
      "text/plain": [
       "| 50      | 7.24s        | 0.471531          | 0.686636              | 0.00291155  |"
      ]
     },
     "metadata": {},
     "output_type": "display_data"
    },
    {
     "data": {
      "text/html": [
       "<pre>+---------+--------------+-------------------+-----------------------+-------------+</pre>"
      ],
      "text/plain": [
       "+---------+--------------+-------------------+-----------------------+-------------+"
      ]
     },
     "metadata": {},
     "output_type": "display_data"
    },
    {
     "data": {
      "text/html": [
       "<pre>Optimization Complete: Maximum number of passes through the data reached.</pre>"
      ],
      "text/plain": [
       "Optimization Complete: Maximum number of passes through the data reached."
      ]
     },
     "metadata": {},
     "output_type": "display_data"
    },
    {
     "data": {
      "text/html": [
       "<pre>Computing final objective value and training RMSE.</pre>"
      ],
      "text/plain": [
       "Computing final objective value and training RMSE."
      ]
     },
     "metadata": {},
     "output_type": "display_data"
    },
    {
     "data": {
      "text/html": [
       "<pre>       Final objective value: 0.440293</pre>"
      ],
      "text/plain": [
       "       Final objective value: 0.440293"
      ]
     },
     "metadata": {},
     "output_type": "display_data"
    },
    {
     "data": {
      "text/html": [
       "<pre>       Final training RMSE: 0.6635</pre>"
      ],
      "text/plain": [
       "       Final training RMSE: 0.6635"
      ]
     },
     "metadata": {},
     "output_type": "display_data"
    }
   ],
   "source": [
    "model = graphlab.recommender.factorization_recommender.create(df_train, user_id='author_id', item_id='hike_id', target='Rating', solver='sgd' )"
   ]
  },
  {
   "cell_type": "code",
   "execution_count": 15,
   "metadata": {
    "collapsed": true
   },
   "outputs": [],
   "source": [
    "predicted = model.predict(df_test)"
   ]
  },
  {
   "cell_type": "code",
   "execution_count": 16,
   "metadata": {
    "collapsed": false
   },
   "outputs": [
    {
     "name": "stdout",
     "output_type": "stream",
     "text": [
      "MSE:  1.83835298532\n",
      "RMSE:  1.35585876304\n"
     ]
    }
   ],
   "source": [
    "print 'MSE: ', mean_squared_error(df_test['Rating'], predicted)\n",
    "print 'RMSE: ', np.sqrt(mean_squared_error(df_test['Rating'], predicted))"
   ]
  },
  {
   "cell_type": "code",
   "execution_count": 17,
   "metadata": {
    "collapsed": false
   },
   "outputs": [
    {
     "data": {
      "text/html": [
       "<div style=\"max-height:1000px;max-width:1500px;overflow:auto;\"><table frame=\"box\" rules=\"cols\">\n",
       "    <tr>\n",
       "        <th style=\"padding-left: 1em; padding-right: 1em; text-align: center\">author_id</th>\n",
       "        <th style=\"padding-left: 1em; padding-right: 1em; text-align: center\">hike_id</th>\n",
       "        <th style=\"padding-left: 1em; padding-right: 1em; text-align: center\">score</th>\n",
       "        <th style=\"padding-left: 1em; padding-right: 1em; text-align: center\">rank</th>\n",
       "    </tr>\n",
       "    <tr>\n",
       "        <td style=\"padding-left: 1em; padding-right: 1em; text-align: center; vertical-align: top\">2</td>\n",
       "        <td style=\"padding-left: 1em; padding-right: 1em; text-align: center; vertical-align: top\">238</td>\n",
       "        <td style=\"padding-left: 1em; padding-right: 1em; text-align: center; vertical-align: top\">5.25873636212</td>\n",
       "        <td style=\"padding-left: 1em; padding-right: 1em; text-align: center; vertical-align: top\">1</td>\n",
       "    </tr>\n",
       "    <tr>\n",
       "        <td style=\"padding-left: 1em; padding-right: 1em; text-align: center; vertical-align: top\">2</td>\n",
       "        <td style=\"padding-left: 1em; padding-right: 1em; text-align: center; vertical-align: top\">539</td>\n",
       "        <td style=\"padding-left: 1em; padding-right: 1em; text-align: center; vertical-align: top\">5.17415454928</td>\n",
       "        <td style=\"padding-left: 1em; padding-right: 1em; text-align: center; vertical-align: top\">2</td>\n",
       "    </tr>\n",
       "    <tr>\n",
       "        <td style=\"padding-left: 1em; padding-right: 1em; text-align: center; vertical-align: top\">2</td>\n",
       "        <td style=\"padding-left: 1em; padding-right: 1em; text-align: center; vertical-align: top\">783</td>\n",
       "        <td style=\"padding-left: 1em; padding-right: 1em; text-align: center; vertical-align: top\">5.11422454323</td>\n",
       "        <td style=\"padding-left: 1em; padding-right: 1em; text-align: center; vertical-align: top\">3</td>\n",
       "    </tr>\n",
       "    <tr>\n",
       "        <td style=\"padding-left: 1em; padding-right: 1em; text-align: center; vertical-align: top\">2</td>\n",
       "        <td style=\"padding-left: 1em; padding-right: 1em; text-align: center; vertical-align: top\">515</td>\n",
       "        <td style=\"padding-left: 1em; padding-right: 1em; text-align: center; vertical-align: top\">5.09451678991</td>\n",
       "        <td style=\"padding-left: 1em; padding-right: 1em; text-align: center; vertical-align: top\">4</td>\n",
       "    </tr>\n",
       "    <tr>\n",
       "        <td style=\"padding-left: 1em; padding-right: 1em; text-align: center; vertical-align: top\">2</td>\n",
       "        <td style=\"padding-left: 1em; padding-right: 1em; text-align: center; vertical-align: top\">803</td>\n",
       "        <td style=\"padding-left: 1em; padding-right: 1em; text-align: center; vertical-align: top\">5.08860352207</td>\n",
       "        <td style=\"padding-left: 1em; padding-right: 1em; text-align: center; vertical-align: top\">5</td>\n",
       "    </tr>\n",
       "</table>\n",
       "[5 rows x 4 columns]<br/>\n",
       "</div>"
      ],
      "text/plain": [
       "Columns:\n",
       "\tauthor_id\tint\n",
       "\thike_id\tint\n",
       "\tscore\tfloat\n",
       "\trank\tint\n",
       "\n",
       "Rows: 5\n",
       "\n",
       "Data:\n",
       "+-----------+---------+---------------+------+\n",
       "| author_id | hike_id |     score     | rank |\n",
       "+-----------+---------+---------------+------+\n",
       "|     2     |   238   | 5.25873636212 |  1   |\n",
       "|     2     |   539   | 5.17415454928 |  2   |\n",
       "|     2     |   783   | 5.11422454323 |  3   |\n",
       "|     2     |   515   | 5.09451678991 |  4   |\n",
       "|     2     |   803   | 5.08860352207 |  5   |\n",
       "+-----------+---------+---------------+------+\n",
       "[5 rows x 4 columns]"
      ]
     },
     "execution_count": 17,
     "metadata": {},
     "output_type": "execute_result"
    }
   ],
   "source": [
    "model.recommend(users=[2], k=5)"
   ]
  },
  {
   "cell_type": "markdown",
   "metadata": {},
   "source": [
    "## Factorization model incorporating item data\n"
   ]
  },
  {
   "cell_type": "code",
   "execution_count": 19,
   "metadata": {
    "collapsed": false
   },
   "outputs": [],
   "source": [
    "item_data = pd.read_csv('../data/itemData.csv')\n",
    "\n",
    "item_data = item_data.drop(labels=['Unnamed: 0'], axis=1)\n",
    "item_sf = item_data.dropna()\n"
   ]
  },
  {
   "cell_type": "code",
   "execution_count": 20,
   "metadata": {
    "collapsed": false
   },
   "outputs": [
    {
     "data": {
      "text/html": [
       "<div>\n",
       "<table border=\"1\" class=\"dataframe\">\n",
       "  <thead>\n",
       "    <tr style=\"text-align: right;\">\n",
       "      <th></th>\n",
       "      <th>hike_name</th>\n",
       "      <th>hike_id</th>\n",
       "      <th>numReports</th>\n",
       "      <th>total_dist</th>\n",
       "      <th>elevation gain</th>\n",
       "      <th>time_from_seattle</th>\n",
       "      <th>Coast</th>\n",
       "      <th>stars</th>\n",
       "      <th>Dogs allowed on leash</th>\n",
       "      <th>Established campsites</th>\n",
       "      <th>...</th>\n",
       "      <th>Good for kids</th>\n",
       "      <th>Lakes</th>\n",
       "      <th>Mountain views</th>\n",
       "      <th>Old growth</th>\n",
       "      <th>Ridges/passes</th>\n",
       "      <th>Rivers</th>\n",
       "      <th>Summits</th>\n",
       "      <th>Waterfalls</th>\n",
       "      <th>Wildflowers/Meadows</th>\n",
       "      <th>Wildlife</th>\n",
       "    </tr>\n",
       "  </thead>\n",
       "  <tbody>\n",
       "    <tr>\n",
       "      <th>0</th>\n",
       "      <td>Grand Park via Lake Eleanor</td>\n",
       "      <td>0</td>\n",
       "      <td>212.0</td>\n",
       "      <td>8.0</td>\n",
       "      <td>1100.0</td>\n",
       "      <td>116.533333</td>\n",
       "      <td>0</td>\n",
       "      <td>4.25</td>\n",
       "      <td>0</td>\n",
       "      <td>1</td>\n",
       "      <td>...</td>\n",
       "      <td>0</td>\n",
       "      <td>0</td>\n",
       "      <td>1</td>\n",
       "      <td>0</td>\n",
       "      <td>0</td>\n",
       "      <td>0</td>\n",
       "      <td>0</td>\n",
       "      <td>0</td>\n",
       "      <td>0</td>\n",
       "      <td>1</td>\n",
       "    </tr>\n",
       "    <tr>\n",
       "      <th>2</th>\n",
       "      <td>Soda Peaks Lake</td>\n",
       "      <td>2</td>\n",
       "      <td>24.0</td>\n",
       "      <td>7.0</td>\n",
       "      <td>2500.0</td>\n",
       "      <td>227.333333</td>\n",
       "      <td>0</td>\n",
       "      <td>3.00</td>\n",
       "      <td>0</td>\n",
       "      <td>0</td>\n",
       "      <td>...</td>\n",
       "      <td>0</td>\n",
       "      <td>1</td>\n",
       "      <td>0</td>\n",
       "      <td>1</td>\n",
       "      <td>0</td>\n",
       "      <td>0</td>\n",
       "      <td>0</td>\n",
       "      <td>0</td>\n",
       "      <td>0</td>\n",
       "      <td>0</td>\n",
       "    </tr>\n",
       "    <tr>\n",
       "      <th>3</th>\n",
       "      <td>Shorthorn</td>\n",
       "      <td>3</td>\n",
       "      <td>5.0</td>\n",
       "      <td>5.6</td>\n",
       "      <td>1400.0</td>\n",
       "      <td>207.433333</td>\n",
       "      <td>0</td>\n",
       "      <td>3.67</td>\n",
       "      <td>1</td>\n",
       "      <td>0</td>\n",
       "      <td>...</td>\n",
       "      <td>0</td>\n",
       "      <td>0</td>\n",
       "      <td>1</td>\n",
       "      <td>0</td>\n",
       "      <td>0</td>\n",
       "      <td>0</td>\n",
       "      <td>0</td>\n",
       "      <td>0</td>\n",
       "      <td>0</td>\n",
       "      <td>0</td>\n",
       "    </tr>\n",
       "    <tr>\n",
       "      <th>4</th>\n",
       "      <td>West Fork Teanaway River</td>\n",
       "      <td>4</td>\n",
       "      <td>5.0</td>\n",
       "      <td>19.2</td>\n",
       "      <td>2800.0</td>\n",
       "      <td>115.750000</td>\n",
       "      <td>0</td>\n",
       "      <td>2.75</td>\n",
       "      <td>1</td>\n",
       "      <td>1</td>\n",
       "      <td>...</td>\n",
       "      <td>1</td>\n",
       "      <td>0</td>\n",
       "      <td>1</td>\n",
       "      <td>0</td>\n",
       "      <td>1</td>\n",
       "      <td>0</td>\n",
       "      <td>0</td>\n",
       "      <td>0</td>\n",
       "      <td>0</td>\n",
       "      <td>1</td>\n",
       "    </tr>\n",
       "    <tr>\n",
       "      <th>5</th>\n",
       "      <td>Fishtrap Lake - North</td>\n",
       "      <td>5</td>\n",
       "      <td>4.0</td>\n",
       "      <td>4.0</td>\n",
       "      <td>126.0</td>\n",
       "      <td>233.516667</td>\n",
       "      <td>0</td>\n",
       "      <td>1.50</td>\n",
       "      <td>0</td>\n",
       "      <td>0</td>\n",
       "      <td>...</td>\n",
       "      <td>0</td>\n",
       "      <td>1</td>\n",
       "      <td>0</td>\n",
       "      <td>0</td>\n",
       "      <td>0</td>\n",
       "      <td>0</td>\n",
       "      <td>0</td>\n",
       "      <td>0</td>\n",
       "      <td>0</td>\n",
       "      <td>1</td>\n",
       "    </tr>\n",
       "  </tbody>\n",
       "</table>\n",
       "<p>5 rows × 21 columns</p>\n",
       "</div>"
      ],
      "text/plain": [
       "                     hike_name  hike_id  numReports  total_dist  \\\n",
       "0  Grand Park via Lake Eleanor        0       212.0         8.0   \n",
       "2              Soda Peaks Lake        2        24.0         7.0   \n",
       "3                    Shorthorn        3         5.0         5.6   \n",
       "4     West Fork Teanaway River        4         5.0        19.2   \n",
       "5        Fishtrap Lake - North        5         4.0         4.0   \n",
       "\n",
       "   elevation gain  time_from_seattle  Coast  stars  Dogs allowed on leash  \\\n",
       "0          1100.0         116.533333      0   4.25                      0   \n",
       "2          2500.0         227.333333      0   3.00                      0   \n",
       "3          1400.0         207.433333      0   3.67                      1   \n",
       "4          2800.0         115.750000      0   2.75                      1   \n",
       "5           126.0         233.516667      0   1.50                      0   \n",
       "\n",
       "   Established campsites    ...     Good for kids  Lakes  Mountain views  \\\n",
       "0                      1    ...                 0      0               1   \n",
       "2                      0    ...                 0      1               0   \n",
       "3                      0    ...                 0      0               1   \n",
       "4                      1    ...                 1      0               1   \n",
       "5                      0    ...                 0      1               0   \n",
       "\n",
       "   Old growth  Ridges/passes  Rivers  Summits  Waterfalls  \\\n",
       "0           0              0       0        0           0   \n",
       "2           1              0       0        0           0   \n",
       "3           0              0       0        0           0   \n",
       "4           0              1       0        0           0   \n",
       "5           0              0       0        0           0   \n",
       "\n",
       "   Wildflowers/Meadows  Wildlife  \n",
       "0                    0         1  \n",
       "2                    0         0  \n",
       "3                    0         0  \n",
       "4                    0         1  \n",
       "5                    0         1  \n",
       "\n",
       "[5 rows x 21 columns]"
      ]
     },
     "execution_count": 20,
     "metadata": {},
     "output_type": "execute_result"
    }
   ],
   "source": [
    "item_sf.head()"
   ]
  },
  {
   "cell_type": "code",
   "execution_count": 21,
   "metadata": {
    "collapsed": true
   },
   "outputs": [],
   "source": [
    "def norm(df, col):\n",
    "    df[col] = (df[col] - df[col].mean())/(df[col].max() - df[col].min())"
   ]
  },
  {
   "cell_type": "code",
   "execution_count": 22,
   "metadata": {
    "collapsed": false
   },
   "outputs": [
    {
     "name": "stderr",
     "output_type": "stream",
     "text": [
      "/Users/Jade/anaconda/lib/python2.7/site-packages/ipykernel/__main__.py:2: SettingWithCopyWarning: \n",
      "A value is trying to be set on a copy of a slice from a DataFrame.\n",
      "Try using .loc[row_indexer,col_indexer] = value instead\n",
      "\n",
      "See the caveats in the documentation: http://pandas.pydata.org/pandas-docs/stable/indexing.html#indexing-view-versus-copy\n",
      "  from ipykernel import kernelapp as app\n"
     ]
    }
   ],
   "source": [
    "norm(item_sf, 'elevation gain')"
   ]
  },
  {
   "cell_type": "code",
   "execution_count": 23,
   "metadata": {
    "collapsed": false
   },
   "outputs": [
    {
     "name": "stderr",
     "output_type": "stream",
     "text": [
      "/Users/Jade/anaconda/lib/python2.7/site-packages/ipykernel/__main__.py:2: SettingWithCopyWarning: \n",
      "A value is trying to be set on a copy of a slice from a DataFrame.\n",
      "Try using .loc[row_indexer,col_indexer] = value instead\n",
      "\n",
      "See the caveats in the documentation: http://pandas.pydata.org/pandas-docs/stable/indexing.html#indexing-view-versus-copy\n",
      "  from ipykernel import kernelapp as app\n"
     ]
    }
   ],
   "source": [
    "norm(item_sf, 'elevation gain')\n",
    "norm(item_sf, 'time_from_seattle')\n",
    "norm(item_sf, 'numReports')\n",
    "norm(item_sf, 'total_dist')"
   ]
  },
  {
   "cell_type": "code",
   "execution_count": 24,
   "metadata": {
    "collapsed": false
   },
   "outputs": [],
   "source": [
    "itemData = graphlab.SFrame(item_sf)"
   ]
  },
  {
   "cell_type": "code",
   "execution_count": 25,
   "metadata": {
    "collapsed": false
   },
   "outputs": [
    {
     "data": {
      "text/html": [
       "<pre>Recsys training: model = ranking_factorization_recommender</pre>"
      ],
      "text/plain": [
       "Recsys training: model = ranking_factorization_recommender"
      ]
     },
     "metadata": {},
     "output_type": "display_data"
    },
    {
     "data": {
      "text/html": [
       "<pre>Preparing data set.</pre>"
      ],
      "text/plain": [
       "Preparing data set."
      ]
     },
     "metadata": {},
     "output_type": "display_data"
    },
    {
     "data": {
      "text/html": [
       "<pre>    Data has 60000 observations with 17057 users and 1576 items.</pre>"
      ],
      "text/plain": [
       "    Data has 60000 observations with 17057 users and 1576 items."
      ]
     },
     "metadata": {},
     "output_type": "display_data"
    },
    {
     "data": {
      "text/html": [
       "<pre>    Data prepared in: 0.290716s</pre>"
      ],
      "text/plain": [
       "    Data prepared in: 0.290716s"
      ]
     },
     "metadata": {},
     "output_type": "display_data"
    },
    {
     "data": {
      "text/html": [
       "<pre>Training ranking_factorization_recommender for recommendations.</pre>"
      ],
      "text/plain": [
       "Training ranking_factorization_recommender for recommendations."
      ]
     },
     "metadata": {},
     "output_type": "display_data"
    },
    {
     "data": {
      "text/html": [
       "<pre>+--------------------------------+--------------------------------------------------+----------+</pre>"
      ],
      "text/plain": [
       "+--------------------------------+--------------------------------------------------+----------+"
      ]
     },
     "metadata": {},
     "output_type": "display_data"
    },
    {
     "data": {
      "text/html": [
       "<pre>| Parameter                      | Description                                      | Value    |</pre>"
      ],
      "text/plain": [
       "| Parameter                      | Description                                      | Value    |"
      ]
     },
     "metadata": {},
     "output_type": "display_data"
    },
    {
     "data": {
      "text/html": [
       "<pre>+--------------------------------+--------------------------------------------------+----------+</pre>"
      ],
      "text/plain": [
       "+--------------------------------+--------------------------------------------------+----------+"
      ]
     },
     "metadata": {},
     "output_type": "display_data"
    },
    {
     "data": {
      "text/html": [
       "<pre>| num_factors                    | Factor Dimension                                 | 32       |</pre>"
      ],
      "text/plain": [
       "| num_factors                    | Factor Dimension                                 | 32       |"
      ]
     },
     "metadata": {},
     "output_type": "display_data"
    },
    {
     "data": {
      "text/html": [
       "<pre>| regularization                 | L2 Regularization on Factors                     | 1e-10    |</pre>"
      ],
      "text/plain": [
       "| regularization                 | L2 Regularization on Factors                     | 1e-10    |"
      ]
     },
     "metadata": {},
     "output_type": "display_data"
    },
    {
     "data": {
      "text/html": [
       "<pre>| solver                         | Solver used for training                         | adagrad  |</pre>"
      ],
      "text/plain": [
       "| solver                         | Solver used for training                         | adagrad  |"
      ]
     },
     "metadata": {},
     "output_type": "display_data"
    },
    {
     "data": {
      "text/html": [
       "<pre>| linear_regularization          | L2 Regularization on Linear Coefficients         | 1e-08    |</pre>"
      ],
      "text/plain": [
       "| linear_regularization          | L2 Regularization on Linear Coefficients         | 1e-08    |"
      ]
     },
     "metadata": {},
     "output_type": "display_data"
    },
    {
     "data": {
      "text/html": [
       "<pre>| side_data_factorization        | Assign Factors for Side Data                     | True     |</pre>"
      ],
      "text/plain": [
       "| side_data_factorization        | Assign Factors for Side Data                     | True     |"
      ]
     },
     "metadata": {},
     "output_type": "display_data"
    },
    {
     "data": {
      "text/html": [
       "<pre>| max_iterations                 | Maximum Number of Iterations                     | 25       |</pre>"
      ],
      "text/plain": [
       "| max_iterations                 | Maximum Number of Iterations                     | 25       |"
      ]
     },
     "metadata": {},
     "output_type": "display_data"
    },
    {
     "data": {
      "text/html": [
       "<pre>+--------------------------------+--------------------------------------------------+----------+</pre>"
      ],
      "text/plain": [
       "+--------------------------------+--------------------------------------------------+----------+"
      ]
     },
     "metadata": {},
     "output_type": "display_data"
    },
    {
     "data": {
      "text/html": [
       "<pre>  Optimizing model using SGD; tuning step size.</pre>"
      ],
      "text/plain": [
       "  Optimizing model using SGD; tuning step size."
      ]
     },
     "metadata": {},
     "output_type": "display_data"
    },
    {
     "data": {
      "text/html": [
       "<pre>  Using 10000 / 60000 points for tuning the step size.</pre>"
      ],
      "text/plain": [
       "  Using 10000 / 60000 points for tuning the step size."
      ]
     },
     "metadata": {},
     "output_type": "display_data"
    },
    {
     "data": {
      "text/html": [
       "<pre>+---------+-------------------+------------------------------------------+</pre>"
      ],
      "text/plain": [
       "+---------+-------------------+------------------------------------------+"
      ]
     },
     "metadata": {},
     "output_type": "display_data"
    },
    {
     "data": {
      "text/html": [
       "<pre>| Attempt | Initial Step Size | Estimated Objective Value                |</pre>"
      ],
      "text/plain": [
       "| Attempt | Initial Step Size | Estimated Objective Value                |"
      ]
     },
     "metadata": {},
     "output_type": "display_data"
    },
    {
     "data": {
      "text/html": [
       "<pre>+---------+-------------------+------------------------------------------+</pre>"
      ],
      "text/plain": [
       "+---------+-------------------+------------------------------------------+"
      ]
     },
     "metadata": {},
     "output_type": "display_data"
    },
    {
     "data": {
      "text/html": [
       "<pre>| 0       | 2.17391           | Not Viable                               |</pre>"
      ],
      "text/plain": [
       "| 0       | 2.17391           | Not Viable                               |"
      ]
     },
     "metadata": {},
     "output_type": "display_data"
    },
    {
     "data": {
      "text/html": [
       "<pre>| 1       | 0.543478          | Not Viable                               |</pre>"
      ],
      "text/plain": [
       "| 1       | 0.543478          | Not Viable                               |"
      ]
     },
     "metadata": {},
     "output_type": "display_data"
    },
    {
     "data": {
      "text/html": [
       "<pre>| 2       | 0.13587           | 0.146096                                 |</pre>"
      ],
      "text/plain": [
       "| 2       | 0.13587           | 0.146096                                 |"
      ]
     },
     "metadata": {},
     "output_type": "display_data"
    },
    {
     "data": {
      "text/html": [
       "<pre>| 3       | 0.0679348         | 0.225637                                 |</pre>"
      ],
      "text/plain": [
       "| 3       | 0.0679348         | 0.225637                                 |"
      ]
     },
     "metadata": {},
     "output_type": "display_data"
    },
    {
     "data": {
      "text/html": [
       "<pre>| 4       | 0.0339674         | 0.715521                                 |</pre>"
      ],
      "text/plain": [
       "| 4       | 0.0339674         | 0.715521                                 |"
      ]
     },
     "metadata": {},
     "output_type": "display_data"
    },
    {
     "data": {
      "text/html": [
       "<pre>+---------+-------------------+------------------------------------------+</pre>"
      ],
      "text/plain": [
       "+---------+-------------------+------------------------------------------+"
      ]
     },
     "metadata": {},
     "output_type": "display_data"
    },
    {
     "data": {
      "text/html": [
       "<pre>| Final   | 0.13587           | 0.146096                                 |</pre>"
      ],
      "text/plain": [
       "| Final   | 0.13587           | 0.146096                                 |"
      ]
     },
     "metadata": {},
     "output_type": "display_data"
    },
    {
     "data": {
      "text/html": [
       "<pre>+---------+-------------------+------------------------------------------+</pre>"
      ],
      "text/plain": [
       "+---------+-------------------+------------------------------------------+"
      ]
     },
     "metadata": {},
     "output_type": "display_data"
    },
    {
     "data": {
      "text/html": [
       "<pre>Starting Optimization.</pre>"
      ],
      "text/plain": [
       "Starting Optimization."
      ]
     },
     "metadata": {},
     "output_type": "display_data"
    },
    {
     "data": {
      "text/html": [
       "<pre>+---------+--------------+-------------------+-----------------------+-------------+</pre>"
      ],
      "text/plain": [
       "+---------+--------------+-------------------+-----------------------+-------------+"
      ]
     },
     "metadata": {},
     "output_type": "display_data"
    },
    {
     "data": {
      "text/html": [
       "<pre>| Iter.   | Elapsed Time | Approx. Objective | Approx. Training RMSE | Step Size   |</pre>"
      ],
      "text/plain": [
       "| Iter.   | Elapsed Time | Approx. Objective | Approx. Training RMSE | Step Size   |"
      ]
     },
     "metadata": {},
     "output_type": "display_data"
    },
    {
     "data": {
      "text/html": [
       "<pre>+---------+--------------+-------------------+-----------------------+-------------+</pre>"
      ],
      "text/plain": [
       "+---------+--------------+-------------------+-----------------------+-------------+"
      ]
     },
     "metadata": {},
     "output_type": "display_data"
    },
    {
     "data": {
      "text/html": [
       "<pre>| Initial | 132us        | 2.02216           | 1.42203               |             |</pre>"
      ],
      "text/plain": [
       "| Initial | 132us        | 2.02216           | 1.42203               |             |"
      ]
     },
     "metadata": {},
     "output_type": "display_data"
    },
    {
     "data": {
      "text/html": [
       "<pre>+---------+--------------+-------------------+-----------------------+-------------+</pre>"
      ],
      "text/plain": [
       "+---------+--------------+-------------------+-----------------------+-------------+"
      ]
     },
     "metadata": {},
     "output_type": "display_data"
    },
    {
     "data": {
      "text/html": [
       "<pre>| 1       | 558.791ms    | 2.20639           | 1.48534               | 0.13587     |</pre>"
      ],
      "text/plain": [
       "| 1       | 558.791ms    | 2.20639           | 1.48534               | 0.13587     |"
      ]
     },
     "metadata": {},
     "output_type": "display_data"
    },
    {
     "data": {
      "text/html": [
       "<pre>| 2       | 1.13s        | 1.20351           | 1.09702               | 0.13587     |</pre>"
      ],
      "text/plain": [
       "| 2       | 1.13s        | 1.20351           | 1.09702               | 0.13587     |"
      ]
     },
     "metadata": {},
     "output_type": "display_data"
    },
    {
     "data": {
      "text/html": [
       "<pre>| 3       | 2.05s        | 0.795094          | 0.891666              | 0.13587     |</pre>"
      ],
      "text/plain": [
       "| 3       | 2.05s        | 0.795094          | 0.891666              | 0.13587     |"
      ]
     },
     "metadata": {},
     "output_type": "display_data"
    },
    {
     "data": {
      "text/html": [
       "<pre>| 4       | 2.64s        | 0.610097          | 0.781078              | 0.13587     |</pre>"
      ],
      "text/plain": [
       "| 4       | 2.64s        | 0.610097          | 0.781078              | 0.13587     |"
      ]
     },
     "metadata": {},
     "output_type": "display_data"
    },
    {
     "data": {
      "text/html": [
       "<pre>| 5       | 3.21s        | 0.511902          | 0.715466              | 0.13587     |</pre>"
      ],
      "text/plain": [
       "| 5       | 3.21s        | 0.511902          | 0.715466              | 0.13587     |"
      ]
     },
     "metadata": {},
     "output_type": "display_data"
    },
    {
     "data": {
      "text/html": [
       "<pre>| 6       | 3.98s        | 0.456726          | 0.675807              | 0.13587     |</pre>"
      ],
      "text/plain": [
       "| 6       | 3.98s        | 0.456726          | 0.675807              | 0.13587     |"
      ]
     },
     "metadata": {},
     "output_type": "display_data"
    },
    {
     "data": {
      "text/html": [
       "<pre>| 10      | 6.15s        | 0.366427          | 0.605321              | 0.13587     |</pre>"
      ],
      "text/plain": [
       "| 10      | 6.15s        | 0.366427          | 0.605321              | 0.13587     |"
      ]
     },
     "metadata": {},
     "output_type": "display_data"
    },
    {
     "data": {
      "text/html": [
       "<pre>| 11      | 6.71s        | 0.356104          | 0.596734              | 0.13587     |</pre>"
      ],
      "text/plain": [
       "| 11      | 6.71s        | 0.356104          | 0.596734              | 0.13587     |"
      ]
     },
     "metadata": {},
     "output_type": "display_data"
    },
    {
     "data": {
      "text/html": [
       "<pre>| 15      | 8.78s        | 0.330765          | 0.57511               | 0.13587     |</pre>"
      ],
      "text/plain": [
       "| 15      | 8.78s        | 0.330765          | 0.57511               | 0.13587     |"
      ]
     },
     "metadata": {},
     "output_type": "display_data"
    },
    {
     "data": {
      "text/html": [
       "<pre>| 20      | 11.35s       | 0.313496          | 0.559895              | 0.13587     |</pre>"
      ],
      "text/plain": [
       "| 20      | 11.35s       | 0.313496          | 0.559895              | 0.13587     |"
      ]
     },
     "metadata": {},
     "output_type": "display_data"
    },
    {
     "data": {
      "text/html": [
       "<pre>| 25      | 14.94s       | 0.30384           | 0.551204              | 0.13587     |</pre>"
      ],
      "text/plain": [
       "| 25      | 14.94s       | 0.30384           | 0.551204              | 0.13587     |"
      ]
     },
     "metadata": {},
     "output_type": "display_data"
    },
    {
     "data": {
      "text/html": [
       "<pre>+---------+--------------+-------------------+-----------------------+-------------+</pre>"
      ],
      "text/plain": [
       "+---------+--------------+-------------------+-----------------------+-------------+"
      ]
     },
     "metadata": {},
     "output_type": "display_data"
    },
    {
     "data": {
      "text/html": [
       "<pre>Optimization Complete: Maximum number of passes through the data reached.</pre>"
      ],
      "text/plain": [
       "Optimization Complete: Maximum number of passes through the data reached."
      ]
     },
     "metadata": {},
     "output_type": "display_data"
    },
    {
     "data": {
      "text/html": [
       "<pre>Computing final objective value and training RMSE.</pre>"
      ],
      "text/plain": [
       "Computing final objective value and training RMSE."
      ]
     },
     "metadata": {},
     "output_type": "display_data"
    },
    {
     "data": {
      "text/html": [
       "<pre>       Final objective value: 0.260942</pre>"
      ],
      "text/plain": [
       "       Final objective value: 0.260942"
      ]
     },
     "metadata": {},
     "output_type": "display_data"
    },
    {
     "data": {
      "text/html": [
       "<pre>       Final training RMSE: 0.510811</pre>"
      ],
      "text/plain": [
       "       Final training RMSE: 0.510811"
      ]
     },
     "metadata": {},
     "output_type": "display_data"
    }
   ],
   "source": [
    "model = graphlab.recommender.ranking_factorization_recommender.create(df_train, user_id='author_id', \n",
    "                                                                      item_id='hike_id', target='Rating', \n",
    "                                                                      item_data=itemData, ranking_regularization=0,\n",
    "                                                                        regularization=1e-10,\n",
    "                                                                      linear_regularization=1e-8)"
   ]
  },
  {
   "cell_type": "code",
   "execution_count": 26,
   "metadata": {
    "collapsed": false
   },
   "outputs": [],
   "source": [
    "my_recs = model.get_similar_items(items=[13], k=5)"
   ]
  },
  {
   "cell_type": "code",
   "execution_count": 27,
   "metadata": {
    "collapsed": false
   },
   "outputs": [
    {
     "data": {
      "text/html": [
       "<div style=\"max-height:1000px;max-width:1500px;overflow:auto;\"><table frame=\"box\" rules=\"cols\">\n",
       "    <tr>\n",
       "        <th style=\"padding-left: 1em; padding-right: 1em; text-align: center\">hike_id</th>\n",
       "        <th style=\"padding-left: 1em; padding-right: 1em; text-align: center\">similar</th>\n",
       "        <th style=\"padding-left: 1em; padding-right: 1em; text-align: center\">score</th>\n",
       "        <th style=\"padding-left: 1em; padding-right: 1em; text-align: center\">rank</th>\n",
       "    </tr>\n",
       "    <tr>\n",
       "        <td style=\"padding-left: 1em; padding-right: 1em; text-align: center; vertical-align: top\">13</td>\n",
       "        <td style=\"padding-left: 1em; padding-right: 1em; text-align: center; vertical-align: top\">2021</td>\n",
       "        <td style=\"padding-left: 1em; padding-right: 1em; text-align: center; vertical-align: top\">0.553878247738</td>\n",
       "        <td style=\"padding-left: 1em; padding-right: 1em; text-align: center; vertical-align: top\">1</td>\n",
       "    </tr>\n",
       "    <tr>\n",
       "        <td style=\"padding-left: 1em; padding-right: 1em; text-align: center; vertical-align: top\">13</td>\n",
       "        <td style=\"padding-left: 1em; padding-right: 1em; text-align: center; vertical-align: top\">1422</td>\n",
       "        <td style=\"padding-left: 1em; padding-right: 1em; text-align: center; vertical-align: top\">0.552374899387</td>\n",
       "        <td style=\"padding-left: 1em; padding-right: 1em; text-align: center; vertical-align: top\">2</td>\n",
       "    </tr>\n",
       "    <tr>\n",
       "        <td style=\"padding-left: 1em; padding-right: 1em; text-align: center; vertical-align: top\">13</td>\n",
       "        <td style=\"padding-left: 1em; padding-right: 1em; text-align: center; vertical-align: top\">1936</td>\n",
       "        <td style=\"padding-left: 1em; padding-right: 1em; text-align: center; vertical-align: top\">0.533952891827</td>\n",
       "        <td style=\"padding-left: 1em; padding-right: 1em; text-align: center; vertical-align: top\">3</td>\n",
       "    </tr>\n",
       "    <tr>\n",
       "        <td style=\"padding-left: 1em; padding-right: 1em; text-align: center; vertical-align: top\">13</td>\n",
       "        <td style=\"padding-left: 1em; padding-right: 1em; text-align: center; vertical-align: top\">575</td>\n",
       "        <td style=\"padding-left: 1em; padding-right: 1em; text-align: center; vertical-align: top\">0.515299618244</td>\n",
       "        <td style=\"padding-left: 1em; padding-right: 1em; text-align: center; vertical-align: top\">4</td>\n",
       "    </tr>\n",
       "    <tr>\n",
       "        <td style=\"padding-left: 1em; padding-right: 1em; text-align: center; vertical-align: top\">13</td>\n",
       "        <td style=\"padding-left: 1em; padding-right: 1em; text-align: center; vertical-align: top\">14</td>\n",
       "        <td style=\"padding-left: 1em; padding-right: 1em; text-align: center; vertical-align: top\">0.484716594219</td>\n",
       "        <td style=\"padding-left: 1em; padding-right: 1em; text-align: center; vertical-align: top\">5</td>\n",
       "    </tr>\n",
       "</table>\n",
       "[5 rows x 4 columns]<br/>\n",
       "</div>"
      ],
      "text/plain": [
       "Columns:\n",
       "\thike_id\tint\n",
       "\tsimilar\tint\n",
       "\tscore\tfloat\n",
       "\trank\tint\n",
       "\n",
       "Rows: 5\n",
       "\n",
       "Data:\n",
       "+---------+---------+----------------+------+\n",
       "| hike_id | similar |     score      | rank |\n",
       "+---------+---------+----------------+------+\n",
       "|    13   |   2021  | 0.553878247738 |  1   |\n",
       "|    13   |   1422  | 0.552374899387 |  2   |\n",
       "|    13   |   1936  | 0.533952891827 |  3   |\n",
       "|    13   |   575   | 0.515299618244 |  4   |\n",
       "|    13   |    14   | 0.484716594219 |  5   |\n",
       "+---------+---------+----------------+------+\n",
       "[5 rows x 4 columns]"
      ]
     },
     "execution_count": 27,
     "metadata": {},
     "output_type": "execute_result"
    }
   ],
   "source": [
    "my_recs"
   ]
  },
  {
   "cell_type": "markdown",
   "metadata": {},
   "source": [
    "## Item Content recommender\n",
    "https://turi.com/products/create/docs/generated/graphlab.recommender.item_content_recommender.ItemContentRecommender.html"
   ]
  },
  {
   "cell_type": "code",
   "execution_count": 29,
   "metadata": {
    "collapsed": false
   },
   "outputs": [
    {
     "name": "stdout",
     "output_type": "stream",
     "text": [
      "WARNING: The ItemContentRecommender model is still in beta.\n",
      "WARNING: This feature transformer is still in beta, and some interpretation rules may change in the future.\n",
      "('Applying transform:\\n', Class             : AutoVectorizer\n",
      "\n",
      "Model Fields\n",
      "------------\n",
      "Features          : ['hike_name', 'numReports', 'total_dist', 'elevation gain', 'time_from_seattle', 'Coast', 'stars', 'Dogs allowed on leash', 'Established campsites', 'Fall foliage', 'Good for kids', 'Lakes', 'Mountain views', 'Old growth', 'Ridges/passes', 'Rivers', 'Summits', 'Waterfalls', 'Wildflowers/Meadows', 'Wildlife']\n",
      "Excluded Features : ['hike_id']\n",
      "\n",
      "Column                 Type   Interpretation  Transforms                         Output Type\n",
      "---------------------  -----  --------------  ---------------------------------  -----------\n",
      "hike_name              str    short_text      3-Character NGram Counts -> TFIDF  dict       \n",
      "numReports             float  numerical       None                               float      \n",
      "total_dist             float  numerical       None                               float      \n",
      "elevation gain         float  numerical       None                               float      \n",
      "time_from_seattle      float  numerical       None                               float      \n",
      "Coast                  int    categorical     astype(str)                        str        \n",
      "stars                  float  numerical       None                               float      \n",
      "Dogs allowed on leash  int    categorical     astype(str)                        str        \n",
      "Established campsites  int    categorical     astype(str)                        str        \n",
      "Fall foliage           int    categorical     astype(str)                        str        \n",
      "Good for kids          int    categorical     astype(str)                        str        \n",
      "Lakes                  int    categorical     astype(str)                        str        \n",
      "Mountain views         int    categorical     astype(str)                        str        \n",
      "Old growth             int    categorical     astype(str)                        str        \n",
      "Ridges/passes          int    categorical     astype(str)                        str        \n",
      "Rivers                 int    categorical     astype(str)                        str        \n",
      "Summits                int    categorical     astype(str)                        str        \n",
      "Waterfalls             int    categorical     astype(str)                        str        \n",
      "Wildflowers/Meadows    int    categorical     astype(str)                        str        \n",
      "Wildlife               int    categorical     astype(str)                        str        \n",
      "\n",
      ")"
     ]
    },
    {
     "data": {
      "text/html": [
       "<pre>Recsys training: model = item_content_recommender</pre>"
      ],
      "text/plain": [
       "Recsys training: model = item_content_recommender"
      ]
     },
     "metadata": {},
     "output_type": "display_data"
    },
    {
     "name": "stdout",
     "output_type": "stream",
     "text": [
      "\n",
      "Defaulting to brute force instead of ball tree because there are multiple distance components."
     ]
    },
    {
     "data": {
      "text/html": [
       "<pre>Starting brute force nearest neighbors model training.</pre>"
      ],
      "text/plain": [
       "Starting brute force nearest neighbors model training."
      ]
     },
     "metadata": {},
     "output_type": "display_data"
    },
    {
     "data": {
      "text/html": [
       "<pre>Starting pairwise querying.</pre>"
      ],
      "text/plain": [
       "Starting pairwise querying."
      ]
     },
     "metadata": {},
     "output_type": "display_data"
    },
    {
     "data": {
      "text/html": [
       "<pre>+--------------+---------+-------------+--------------+</pre>"
      ],
      "text/plain": [
       "+--------------+---------+-------------+--------------+"
      ]
     },
     "metadata": {},
     "output_type": "display_data"
    },
    {
     "data": {
      "text/html": [
       "<pre>| Query points | # Pairs | % Complete. | Elapsed Time |</pre>"
      ],
      "text/plain": [
       "| Query points | # Pairs | % Complete. | Elapsed Time |"
      ]
     },
     "metadata": {},
     "output_type": "display_data"
    },
    {
     "data": {
      "text/html": [
       "<pre>+--------------+---------+-------------+--------------+</pre>"
      ],
      "text/plain": [
       "+--------------+---------+-------------+--------------+"
      ]
     },
     "metadata": {},
     "output_type": "display_data"
    },
    {
     "data": {
      "text/html": [
       "<pre>| 1            | 1413    | 0.0707714   | 29.014ms     |</pre>"
      ],
      "text/plain": [
       "| 1            | 1413    | 0.0707714   | 29.014ms     |"
      ]
     },
     "metadata": {},
     "output_type": "display_data"
    },
    {
     "data": {
      "text/html": [
       "<pre>| 983          | 1388979 | 69.5683     | 1.03s        |</pre>"
      ],
      "text/plain": [
       "| 983          | 1388979 | 69.5683     | 1.03s        |"
      ]
     },
     "metadata": {},
     "output_type": "display_data"
    },
    {
     "data": {
      "text/html": [
       "<pre>| Done         |         | 100         | 1.63s        |</pre>"
      ],
      "text/plain": [
       "| Done         |         | 100         | 1.63s        |"
      ]
     },
     "metadata": {},
     "output_type": "display_data"
    },
    {
     "data": {
      "text/html": [
       "<pre>+--------------+---------+-------------+--------------+</pre>"
      ],
      "text/plain": [
       "+--------------+---------+-------------+--------------+"
      ]
     },
     "metadata": {},
     "output_type": "display_data"
    },
    {
     "data": {
      "text/html": [
       "<pre>Preparing data set.</pre>"
      ],
      "text/plain": [
       "Preparing data set."
      ]
     },
     "metadata": {},
     "output_type": "display_data"
    },
    {
     "data": {
      "text/html": [
       "<pre>    Data has 0 observations with 0 users and 1413 items.</pre>"
      ],
      "text/plain": [
       "    Data has 0 observations with 0 users and 1413 items."
      ]
     },
     "metadata": {},
     "output_type": "display_data"
    },
    {
     "data": {
      "text/html": [
       "<pre>    Data prepared in: 0.29499s</pre>"
      ],
      "text/plain": [
       "    Data prepared in: 0.29499s"
      ]
     },
     "metadata": {},
     "output_type": "display_data"
    },
    {
     "data": {
      "text/html": [
       "<pre>Loading user-provided nearest items.</pre>"
      ],
      "text/plain": [
       "Loading user-provided nearest items."
      ]
     },
     "metadata": {},
     "output_type": "display_data"
    },
    {
     "data": {
      "text/html": [
       "<pre>Generating candidate set for working with new users.</pre>"
      ],
      "text/plain": [
       "Generating candidate set for working with new users."
      ]
     },
     "metadata": {},
     "output_type": "display_data"
    },
    {
     "data": {
      "text/html": [
       "<pre>Finished training in 0.021753s</pre>"
      ],
      "text/plain": [
       "Finished training in 0.021753s"
      ]
     },
     "metadata": {},
     "output_type": "display_data"
    },
    {
     "name": "stdout",
     "output_type": "stream",
     "text": [
      "\n"
     ]
    }
   ],
   "source": [
    "item_content_model = graphlab.recommender.item_content_recommender.create(itemData, 'hike_id')"
   ]
  },
  {
   "cell_type": "code",
   "execution_count": 30,
   "metadata": {
    "collapsed": false
   },
   "outputs": [],
   "source": [
    "recs = item_content_model.get_similar_items(items=[87])"
   ]
  },
  {
   "cell_type": "code",
   "execution_count": 31,
   "metadata": {
    "collapsed": false
   },
   "outputs": [
    {
     "name": "stdout",
     "output_type": "stream",
     "text": [
      "                 hike_name  hike_id  numReports  total_dist  elevation gain  \\\n",
      "196  Miners Ridge (Entiat)      196         1.0         4.0           850.0   \n",
      "\n",
      "     time_from_seattle  Coast  stars  Dogs allowed on leash  \\\n",
      "196             181.35      0    3.8                      1   \n",
      "\n",
      "     Established campsites    ...     Good for kids  Lakes  Mountain views  \\\n",
      "196                      0    ...                 0      0               1   \n",
      "\n",
      "     Old growth  Ridges/passes  Rivers  Summits  Waterfalls  \\\n",
      "196           0              0       0        0           0   \n",
      "\n",
      "     Wildflowers/Meadows  Wildlife  \n",
      "196                    0         0  \n",
      "\n",
      "[1 rows x 21 columns]\n",
      "           hike_name  hike_id  numReports  total_dist  elevation gain  \\\n",
      "1309  Anderson Butte     1309        24.0         3.0          1000.0   \n",
      "\n",
      "      time_from_seattle  Coast  stars  Dogs allowed on leash  \\\n",
      "1309         149.433333      0   3.29                      1   \n",
      "\n",
      "      Established campsites    ...     Good for kids  Lakes  Mountain views  \\\n",
      "1309                      0    ...                 0      0               1   \n",
      "\n",
      "      Old growth  Ridges/passes  Rivers  Summits  Waterfalls  \\\n",
      "1309           0              0       0        0           0   \n",
      "\n",
      "      Wildflowers/Meadows  Wildlife  \n",
      "1309                    0         0  \n",
      "\n",
      "[1 rows x 21 columns]\n",
      "      hike_name  hike_id  numReports  total_dist  elevation gain  \\\n",
      "2243  Iron Peak     2243       153.0         7.0          2600.0   \n",
      "\n",
      "      time_from_seattle  Coast  stars  Dogs allowed on leash  \\\n",
      "2243         134.916667      0   3.75                      1   \n",
      "\n",
      "      Established campsites    ...     Good for kids  Lakes  Mountain views  \\\n",
      "2243                      0    ...                 0      0               1   \n",
      "\n",
      "      Old growth  Ridges/passes  Rivers  Summits  Waterfalls  \\\n",
      "2243           0              0       0        0           0   \n",
      "\n",
      "      Wildflowers/Meadows  Wildlife  \n",
      "2243                    0         0  \n",
      "\n",
      "[1 rows x 21 columns]\n",
      "         hike_name  hike_id  numReports  total_dist  elevation gain  \\\n",
      "45  Snowgrass Flat       45       116.0         8.2          1600.0   \n",
      "\n",
      "    time_from_seattle  Coast  stars  Dogs allowed on leash  \\\n",
      "45         187.366667      0   4.25                      1   \n",
      "\n",
      "    Established campsites    ...     Good for kids  Lakes  Mountain views  \\\n",
      "45                      0    ...                 0      0               1   \n",
      "\n",
      "    Old growth  Ridges/passes  Rivers  Summits  Waterfalls  \\\n",
      "45           0              0       0        0           0   \n",
      "\n",
      "    Wildflowers/Meadows  Wildlife  \n",
      "45                    0         0  \n",
      "\n",
      "[1 rows x 21 columns]\n",
      "           hike_name  hike_id  numReports  total_dist  elevation gain  \\\n",
      "316  Ptarmigan Ridge      316       108.0         9.0          1350.0   \n",
      "\n",
      "     time_from_seattle  Coast  stars  Dogs allowed on leash  \\\n",
      "316              171.7      0   4.28                      1   \n",
      "\n",
      "     Established campsites    ...     Good for kids  Lakes  Mountain views  \\\n",
      "316                      0    ...                 0      0               1   \n",
      "\n",
      "     Old growth  Ridges/passes  Rivers  Summits  Waterfalls  \\\n",
      "316           0              0       0        0           0   \n",
      "\n",
      "     Wildflowers/Meadows  Wildlife  \n",
      "316                    0         0  \n",
      "\n",
      "[1 rows x 21 columns]\n",
      "   hike_name  hike_id  numReports  total_dist  elevation gain  \\\n",
      "3  Shorthorn        3         5.0         5.6          1400.0   \n",
      "\n",
      "   time_from_seattle  Coast  stars  Dogs allowed on leash  \\\n",
      "3         207.433333      0   3.67                      1   \n",
      "\n",
      "   Established campsites    ...     Good for kids  Lakes  Mountain views  \\\n",
      "3                      0    ...                 0      0               1   \n",
      "\n",
      "   Old growth  Ridges/passes  Rivers  Summits  Waterfalls  \\\n",
      "3           0              0       0        0           0   \n",
      "\n",
      "   Wildflowers/Meadows  Wildlife  \n",
      "3                    0         0  \n",
      "\n",
      "[1 rows x 21 columns]\n",
      "       hike_name  hike_id  numReports  total_dist  elevation gain  \\\n",
      "1036  Noble Knob     1036       167.0         5.0           500.0   \n",
      "\n",
      "      time_from_seattle  Coast  stars  Dogs allowed on leash  \\\n",
      "1036         114.533333      0   3.85                      1   \n",
      "\n",
      "      Established campsites    ...     Good for kids  Lakes  Mountain views  \\\n",
      "1036                      0    ...                 1      0               1   \n",
      "\n",
      "      Old growth  Ridges/passes  Rivers  Summits  Waterfalls  \\\n",
      "1036           0              0       0        0           0   \n",
      "\n",
      "      Wildflowers/Meadows  Wildlife  \n",
      "1036                    0         0  \n",
      "\n",
      "[1 rows x 21 columns]\n",
      "                            hike_name  hike_id  numReports  total_dist  \\\n",
      "435  Teneriffe Falls (Kamikaze Falls)      435       370.0         6.0   \n",
      "\n",
      "     elevation gain  time_from_seattle  Coast  stars  Dogs allowed on leash  \\\n",
      "435          1420.0               41.5      0   3.87                      1   \n",
      "\n",
      "     Established campsites    ...     Good for kids  Lakes  Mountain views  \\\n",
      "435                      0    ...                 0      0               1   \n",
      "\n",
      "     Old growth  Ridges/passes  Rivers  Summits  Waterfalls  \\\n",
      "435           0              0       0        0           0   \n",
      "\n",
      "     Wildflowers/Meadows  Wildlife  \n",
      "435                    0         0  \n",
      "\n",
      "[1 rows x 21 columns]\n",
      "                      hike_name  hike_id  numReports  total_dist  \\\n",
      "152  Iron Bear - Teanaway Ridge      152       186.0         6.5   \n",
      "\n",
      "     elevation gain  time_from_seattle  Coast  stars  Dogs allowed on leash  \\\n",
      "152          1900.0             107.85      0   3.81                      0   \n",
      "\n",
      "     Established campsites    ...     Good for kids  Lakes  Mountain views  \\\n",
      "152                      0    ...                 0      0               1   \n",
      "\n",
      "     Old growth  Ridges/passes  Rivers  Summits  Waterfalls  \\\n",
      "152           0              0       0        0           0   \n",
      "\n",
      "     Wildflowers/Meadows  Wildlife  \n",
      "152                    0         0  \n",
      "\n",
      "[1 rows x 21 columns]\n",
      "       hike_name  hike_id  numReports  total_dist  elevation gain  \\\n",
      "1441  Shangri La     1441        53.0         3.4           643.0   \n",
      "\n",
      "      time_from_seattle  Coast  stars  Dogs allowed on leash  \\\n",
      "1441          27.366667      0    4.0                      1   \n",
      "\n",
      "      Established campsites    ...     Good for kids  Lakes  Mountain views  \\\n",
      "1441                      0    ...                 0      0               1   \n",
      "\n",
      "      Old growth  Ridges/passes  Rivers  Summits  Waterfalls  \\\n",
      "1441           0              0       0        0           0   \n",
      "\n",
      "      Wildflowers/Meadows  Wildlife  \n",
      "1441                    0         0  \n",
      "\n",
      "[1 rows x 21 columns]\n"
     ]
    }
   ],
   "source": [
    "for i in recs['similar']:\n",
    "    print item_data[item_data['hike_id']==i]"
   ]
  },
  {
   "cell_type": "code",
   "execution_count": null,
   "metadata": {
    "collapsed": true
   },
   "outputs": [],
   "source": []
  },
  {
   "cell_type": "code",
   "execution_count": null,
   "metadata": {
    "collapsed": true
   },
   "outputs": [],
   "source": []
  }
 ],
 "metadata": {
  "kernelspec": {
   "display_name": "Python 2",
   "language": "python",
   "name": "python2"
  },
  "language_info": {
   "codemirror_mode": {
    "name": "ipython",
    "version": 2
   },
   "file_extension": ".py",
   "mimetype": "text/x-python",
   "name": "python",
   "nbconvert_exporter": "python",
   "pygments_lexer": "ipython2",
   "version": "2.7.12"
  }
 },
 "nbformat": 4,
 "nbformat_minor": 0
}
