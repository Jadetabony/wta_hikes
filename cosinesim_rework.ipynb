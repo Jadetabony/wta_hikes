{
 "cells": [
  {
   "cell_type": "code",
   "execution_count": 1,
   "metadata": {},
   "outputs": [],
   "source": [
    "import pandas as pd\n",
    "import numpy as np\n",
    "from sklearn.metrics.pairwise import cosine_similarity\n"
   ]
  },
  {
   "cell_type": "code",
   "execution_count": null,
   "metadata": {},
   "outputs": [],
   "source": []
  },
  {
   "cell_type": "code",
   "execution_count": 7,
   "metadata": {},
   "outputs": [],
   "source": [
    "item_data = pd.read_csv('data/itemData.csv')\n",
    "item_data = item_data.drop(labels=['Unnamed: 0', 'hike_name'], axis=1)"
   ]
  },
  {
   "cell_type": "code",
   "execution_count": 8,
   "metadata": {},
   "outputs": [
    {
     "data": {
      "text/html": [
       "<div>\n",
       "<style scoped>\n",
       "    .dataframe tbody tr th:only-of-type {\n",
       "        vertical-align: middle;\n",
       "    }\n",
       "\n",
       "    .dataframe tbody tr th {\n",
       "        vertical-align: top;\n",
       "    }\n",
       "\n",
       "    .dataframe thead th {\n",
       "        text-align: right;\n",
       "    }\n",
       "</style>\n",
       "<table border=\"1\" class=\"dataframe\">\n",
       "  <thead>\n",
       "    <tr style=\"text-align: right;\">\n",
       "      <th></th>\n",
       "      <th>hike_id</th>\n",
       "      <th>numReports</th>\n",
       "      <th>total_dist</th>\n",
       "      <th>elevation gain</th>\n",
       "      <th>time_from_seattle</th>\n",
       "      <th>Coast</th>\n",
       "      <th>stars</th>\n",
       "      <th>Dogs allowed on leash</th>\n",
       "      <th>Established campsites</th>\n",
       "      <th>Fall foliage</th>\n",
       "      <th>Good for kids</th>\n",
       "      <th>Lakes</th>\n",
       "      <th>Mountain views</th>\n",
       "      <th>Old growth</th>\n",
       "      <th>Ridges/passes</th>\n",
       "      <th>Rivers</th>\n",
       "      <th>Summits</th>\n",
       "      <th>Waterfalls</th>\n",
       "      <th>Wildflowers/Meadows</th>\n",
       "      <th>Wildlife</th>\n",
       "    </tr>\n",
       "  </thead>\n",
       "  <tbody>\n",
       "    <tr>\n",
       "      <th>0</th>\n",
       "      <td>0</td>\n",
       "      <td>212.0</td>\n",
       "      <td>8.0</td>\n",
       "      <td>1100.0</td>\n",
       "      <td>116.533333</td>\n",
       "      <td>0</td>\n",
       "      <td>4.25</td>\n",
       "      <td>0</td>\n",
       "      <td>1</td>\n",
       "      <td>0</td>\n",
       "      <td>0</td>\n",
       "      <td>0</td>\n",
       "      <td>1</td>\n",
       "      <td>0</td>\n",
       "      <td>0</td>\n",
       "      <td>0</td>\n",
       "      <td>0</td>\n",
       "      <td>0</td>\n",
       "      <td>0</td>\n",
       "      <td>1</td>\n",
       "    </tr>\n",
       "    <tr>\n",
       "      <th>1</th>\n",
       "      <td>1</td>\n",
       "      <td>2.0</td>\n",
       "      <td>NaN</td>\n",
       "      <td>NaN</td>\n",
       "      <td>NaN</td>\n",
       "      <td>0</td>\n",
       "      <td>2.33</td>\n",
       "      <td>1</td>\n",
       "      <td>0</td>\n",
       "      <td>0</td>\n",
       "      <td>0</td>\n",
       "      <td>0</td>\n",
       "      <td>0</td>\n",
       "      <td>0</td>\n",
       "      <td>0</td>\n",
       "      <td>0</td>\n",
       "      <td>0</td>\n",
       "      <td>0</td>\n",
       "      <td>0</td>\n",
       "      <td>0</td>\n",
       "    </tr>\n",
       "    <tr>\n",
       "      <th>2</th>\n",
       "      <td>2</td>\n",
       "      <td>24.0</td>\n",
       "      <td>7.0</td>\n",
       "      <td>2500.0</td>\n",
       "      <td>227.333333</td>\n",
       "      <td>0</td>\n",
       "      <td>3.00</td>\n",
       "      <td>0</td>\n",
       "      <td>0</td>\n",
       "      <td>0</td>\n",
       "      <td>0</td>\n",
       "      <td>1</td>\n",
       "      <td>0</td>\n",
       "      <td>1</td>\n",
       "      <td>0</td>\n",
       "      <td>0</td>\n",
       "      <td>0</td>\n",
       "      <td>0</td>\n",
       "      <td>0</td>\n",
       "      <td>0</td>\n",
       "    </tr>\n",
       "    <tr>\n",
       "      <th>3</th>\n",
       "      <td>3</td>\n",
       "      <td>5.0</td>\n",
       "      <td>5.6</td>\n",
       "      <td>1400.0</td>\n",
       "      <td>207.433333</td>\n",
       "      <td>0</td>\n",
       "      <td>3.67</td>\n",
       "      <td>1</td>\n",
       "      <td>0</td>\n",
       "      <td>0</td>\n",
       "      <td>0</td>\n",
       "      <td>0</td>\n",
       "      <td>1</td>\n",
       "      <td>0</td>\n",
       "      <td>0</td>\n",
       "      <td>0</td>\n",
       "      <td>0</td>\n",
       "      <td>0</td>\n",
       "      <td>0</td>\n",
       "      <td>0</td>\n",
       "    </tr>\n",
       "    <tr>\n",
       "      <th>4</th>\n",
       "      <td>4</td>\n",
       "      <td>5.0</td>\n",
       "      <td>19.2</td>\n",
       "      <td>2800.0</td>\n",
       "      <td>115.750000</td>\n",
       "      <td>0</td>\n",
       "      <td>2.75</td>\n",
       "      <td>1</td>\n",
       "      <td>1</td>\n",
       "      <td>0</td>\n",
       "      <td>1</td>\n",
       "      <td>0</td>\n",
       "      <td>1</td>\n",
       "      <td>0</td>\n",
       "      <td>1</td>\n",
       "      <td>0</td>\n",
       "      <td>0</td>\n",
       "      <td>0</td>\n",
       "      <td>0</td>\n",
       "      <td>1</td>\n",
       "    </tr>\n",
       "  </tbody>\n",
       "</table>\n",
       "</div>"
      ],
      "text/plain": [
       "   hike_id  numReports  total_dist  elevation gain  time_from_seattle  Coast  \\\n",
       "0        0       212.0         8.0          1100.0         116.533333      0   \n",
       "1        1         2.0         NaN             NaN                NaN      0   \n",
       "2        2        24.0         7.0          2500.0         227.333333      0   \n",
       "3        3         5.0         5.6          1400.0         207.433333      0   \n",
       "4        4         5.0        19.2          2800.0         115.750000      0   \n",
       "\n",
       "   stars  Dogs allowed on leash  Established campsites  Fall foliage  \\\n",
       "0   4.25                      0                      1             0   \n",
       "1   2.33                      1                      0             0   \n",
       "2   3.00                      0                      0             0   \n",
       "3   3.67                      1                      0             0   \n",
       "4   2.75                      1                      1             0   \n",
       "\n",
       "   Good for kids  Lakes  Mountain views  Old growth  Ridges/passes  Rivers  \\\n",
       "0              0      0               1           0              0       0   \n",
       "1              0      0               0           0              0       0   \n",
       "2              0      1               0           1              0       0   \n",
       "3              0      0               1           0              0       0   \n",
       "4              1      0               1           0              1       0   \n",
       "\n",
       "   Summits  Waterfalls  Wildflowers/Meadows  Wildlife  \n",
       "0        0           0                    0         1  \n",
       "1        0           0                    0         0  \n",
       "2        0           0                    0         0  \n",
       "3        0           0                    0         0  \n",
       "4        0           0                    0         1  "
      ]
     },
     "execution_count": 8,
     "metadata": {},
     "output_type": "execute_result"
    }
   ],
   "source": [
    "item_data.head()"
   ]
  },
  {
   "cell_type": "code",
   "execution_count": 10,
   "metadata": {},
   "outputs": [],
   "source": [
    "def norm(df, col):\n",
    "    \"\"\"Normalized the give column of the provided dataframe\"\"\"\n",
    "    df[col] = (df[col] - df[col].mean())/(df[col].max() - df[col].min())"
   ]
  },
  {
   "cell_type": "code",
   "execution_count": 11,
   "metadata": {},
   "outputs": [],
   "source": [
    "norm(item_data, 'elevation gain')\n",
    "norm(item_data, 'time_from_seattle')\n",
    "norm(item_data, 'numReports')\n",
    "norm(item_data, 'total_dist')"
   ]
  },
  {
   "cell_type": "code",
   "execution_count": 12,
   "metadata": {},
   "outputs": [],
   "source": [
    "item_data.dropna(inplace=True)"
   ]
  },
  {
   "cell_type": "code",
   "execution_count": 25,
   "metadata": {},
   "outputs": [],
   "source": [
    "hikes_liked = pd.DataFrame(item_data.iloc[65]).transpose()"
   ]
  },
  {
   "cell_type": "code",
   "execution_count": 26,
   "metadata": {},
   "outputs": [
    {
     "data": {
      "text/html": [
       "<div>\n",
       "<style scoped>\n",
       "    .dataframe tbody tr th:only-of-type {\n",
       "        vertical-align: middle;\n",
       "    }\n",
       "\n",
       "    .dataframe tbody tr th {\n",
       "        vertical-align: top;\n",
       "    }\n",
       "\n",
       "    .dataframe thead th {\n",
       "        text-align: right;\n",
       "    }\n",
       "</style>\n",
       "<table border=\"1\" class=\"dataframe\">\n",
       "  <thead>\n",
       "    <tr style=\"text-align: right;\">\n",
       "      <th></th>\n",
       "      <th>hike_id</th>\n",
       "      <th>numReports</th>\n",
       "      <th>total_dist</th>\n",
       "      <th>elevation gain</th>\n",
       "      <th>time_from_seattle</th>\n",
       "      <th>Coast</th>\n",
       "      <th>stars</th>\n",
       "      <th>Dogs allowed on leash</th>\n",
       "      <th>Established campsites</th>\n",
       "      <th>Fall foliage</th>\n",
       "      <th>Good for kids</th>\n",
       "      <th>Lakes</th>\n",
       "      <th>Mountain views</th>\n",
       "      <th>Old growth</th>\n",
       "      <th>Ridges/passes</th>\n",
       "      <th>Rivers</th>\n",
       "      <th>Summits</th>\n",
       "      <th>Waterfalls</th>\n",
       "      <th>Wildflowers/Meadows</th>\n",
       "      <th>Wildlife</th>\n",
       "    </tr>\n",
       "  </thead>\n",
       "  <tbody>\n",
       "    <tr>\n",
       "      <th>73</th>\n",
       "      <td>73.0</td>\n",
       "      <td>-0.015021</td>\n",
       "      <td>-0.095594</td>\n",
       "      <td>-0.044155</td>\n",
       "      <td>0.030779</td>\n",
       "      <td>0.0</td>\n",
       "      <td>3.5</td>\n",
       "      <td>0.0</td>\n",
       "      <td>0.0</td>\n",
       "      <td>0.0</td>\n",
       "      <td>0.0</td>\n",
       "      <td>0.0</td>\n",
       "      <td>0.0</td>\n",
       "      <td>1.0</td>\n",
       "      <td>0.0</td>\n",
       "      <td>0.0</td>\n",
       "      <td>0.0</td>\n",
       "      <td>0.0</td>\n",
       "      <td>0.0</td>\n",
       "      <td>0.0</td>\n",
       "    </tr>\n",
       "  </tbody>\n",
       "</table>\n",
       "</div>"
      ],
      "text/plain": [
       "    hike_id  numReports  total_dist  elevation gain  time_from_seattle  Coast  \\\n",
       "73     73.0   -0.015021   -0.095594       -0.044155           0.030779    0.0   \n",
       "\n",
       "    stars  Dogs allowed on leash  Established campsites  Fall foliage  \\\n",
       "73    3.5                    0.0                    0.0           0.0   \n",
       "\n",
       "    Good for kids  Lakes  Mountain views  Old growth  Ridges/passes  Rivers  \\\n",
       "73            0.0    0.0             0.0         1.0            0.0     0.0   \n",
       "\n",
       "    Summits  Waterfalls  Wildflowers/Meadows  Wildlife  \n",
       "73      0.0         0.0                  0.0       0.0  "
      ]
     },
     "execution_count": 26,
     "metadata": {},
     "output_type": "execute_result"
    }
   ],
   "source": [
    "hikes_liked"
   ]
  },
  {
   "cell_type": "code",
   "execution_count": 27,
   "metadata": {},
   "outputs": [],
   "source": [
    "hikes_liked = hikes_liked.append(item_data.iloc[87])"
   ]
  },
  {
   "cell_type": "code",
   "execution_count": 28,
   "metadata": {},
   "outputs": [
    {
     "data": {
      "text/html": [
       "<div>\n",
       "<style scoped>\n",
       "    .dataframe tbody tr th:only-of-type {\n",
       "        vertical-align: middle;\n",
       "    }\n",
       "\n",
       "    .dataframe tbody tr th {\n",
       "        vertical-align: top;\n",
       "    }\n",
       "\n",
       "    .dataframe thead th {\n",
       "        text-align: right;\n",
       "    }\n",
       "</style>\n",
       "<table border=\"1\" class=\"dataframe\">\n",
       "  <thead>\n",
       "    <tr style=\"text-align: right;\">\n",
       "      <th></th>\n",
       "      <th>hike_id</th>\n",
       "      <th>numReports</th>\n",
       "      <th>total_dist</th>\n",
       "      <th>elevation gain</th>\n",
       "      <th>time_from_seattle</th>\n",
       "      <th>Coast</th>\n",
       "      <th>stars</th>\n",
       "      <th>Dogs allowed on leash</th>\n",
       "      <th>Established campsites</th>\n",
       "      <th>Fall foliage</th>\n",
       "      <th>Good for kids</th>\n",
       "      <th>Lakes</th>\n",
       "      <th>Mountain views</th>\n",
       "      <th>Old growth</th>\n",
       "      <th>Ridges/passes</th>\n",
       "      <th>Rivers</th>\n",
       "      <th>Summits</th>\n",
       "      <th>Waterfalls</th>\n",
       "      <th>Wildflowers/Meadows</th>\n",
       "      <th>Wildlife</th>\n",
       "    </tr>\n",
       "  </thead>\n",
       "  <tbody>\n",
       "    <tr>\n",
       "      <th>73</th>\n",
       "      <td>73.0</td>\n",
       "      <td>-0.015021</td>\n",
       "      <td>-0.095594</td>\n",
       "      <td>-0.044155</td>\n",
       "      <td>0.030779</td>\n",
       "      <td>0.0</td>\n",
       "      <td>3.5</td>\n",
       "      <td>0.0</td>\n",
       "      <td>0.0</td>\n",
       "      <td>0.0</td>\n",
       "      <td>0.0</td>\n",
       "      <td>0.0</td>\n",
       "      <td>0.0</td>\n",
       "      <td>1.0</td>\n",
       "      <td>0.0</td>\n",
       "      <td>0.0</td>\n",
       "      <td>0.0</td>\n",
       "      <td>0.0</td>\n",
       "      <td>0.0</td>\n",
       "      <td>0.0</td>\n",
       "    </tr>\n",
       "    <tr>\n",
       "      <th>99</th>\n",
       "      <td>99.0</td>\n",
       "      <td>-0.025598</td>\n",
       "      <td>0.035247</td>\n",
       "      <td>0.397317</td>\n",
       "      <td>-0.015716</td>\n",
       "      <td>0.0</td>\n",
       "      <td>0.0</td>\n",
       "      <td>0.0</td>\n",
       "      <td>0.0</td>\n",
       "      <td>0.0</td>\n",
       "      <td>0.0</td>\n",
       "      <td>0.0</td>\n",
       "      <td>0.0</td>\n",
       "      <td>0.0</td>\n",
       "      <td>0.0</td>\n",
       "      <td>0.0</td>\n",
       "      <td>0.0</td>\n",
       "      <td>0.0</td>\n",
       "      <td>0.0</td>\n",
       "      <td>0.0</td>\n",
       "    </tr>\n",
       "  </tbody>\n",
       "</table>\n",
       "</div>"
      ],
      "text/plain": [
       "    hike_id  numReports  total_dist  elevation gain  time_from_seattle  Coast  \\\n",
       "73     73.0   -0.015021   -0.095594       -0.044155           0.030779    0.0   \n",
       "99     99.0   -0.025598    0.035247        0.397317          -0.015716    0.0   \n",
       "\n",
       "    stars  Dogs allowed on leash  Established campsites  Fall foliage  \\\n",
       "73    3.5                    0.0                    0.0           0.0   \n",
       "99    0.0                    0.0                    0.0           0.0   \n",
       "\n",
       "    Good for kids  Lakes  Mountain views  Old growth  Ridges/passes  Rivers  \\\n",
       "73            0.0    0.0             0.0         1.0            0.0     0.0   \n",
       "99            0.0    0.0             0.0         0.0            0.0     0.0   \n",
       "\n",
       "    Summits  Waterfalls  Wildflowers/Meadows  Wildlife  \n",
       "73      0.0         0.0                  0.0       0.0  \n",
       "99      0.0         0.0                  0.0       0.0  "
      ]
     },
     "execution_count": 28,
     "metadata": {},
     "output_type": "execute_result"
    }
   ],
   "source": [
    "hikes_liked"
   ]
  },
  {
   "cell_type": "code",
   "execution_count": 136,
   "metadata": {},
   "outputs": [
    {
     "data": {
      "text/plain": [
       "Index([u'hike_id', u'numReports', u'total_dist', u'elevation gain',\n",
       "       u'time_from_seattle', u'Coast', u'stars', u'Dogs allowed on leash',\n",
       "       u'Established campsites', u'Fall foliage', u'Good for kids', u'Lakes',\n",
       "       u'Mountain views', u'Old growth', u'Ridges/passes', u'Rivers',\n",
       "       u'Summits', u'Waterfalls', u'Wildflowers/Meadows', u'Wildlife'],\n",
       "      dtype='object')"
      ]
     },
     "execution_count": 136,
     "metadata": {},
     "output_type": "execute_result"
    }
   ],
   "source": [
    "hikes_liked.columns"
   ]
  },
  {
   "cell_type": "code",
   "execution_count": 29,
   "metadata": {},
   "outputs": [],
   "source": [
    "\"\"\"DOC strings\"\"\"\n",
    "\n",
    "# import packages\n",
    "import pandas as pd\n",
    "import numpy as np\n",
    "from sklearn.metrics.pairwise import cosine_similarity\n",
    "\n",
    "\n",
    "\n",
    "class hikeRecommender(object):\n",
    "\n",
    "    def __init__(self, hikes, weights=None):\n",
    "        self.hike_matrix = hikes\n",
    "        self.feature_weights = weights\n",
    "        self.hikes_liked = []\n",
    "        self.hikes_disliked = []\n",
    "\n",
    "    def like_hike(self, hike_id):\n",
    "        indx = self.hike_matrix[self.hike_matrix['hike_id']==hike_id].index[0]\n",
    "        if len(self.hikes_liked)==0:\n",
    "            self.hikes_liked = pd.DataFrame(self.hike_matrix.ix[indx]).transpose()\n",
    "            self.hike_matrix = self.hike_matrix.drop(indx, axis=0).reset_index(drop=True)\n",
    "        else:\n",
    "            self.hikes_liked = self.hikes_liked.append(self.hike_matrix.ix[indx])\n",
    "            self.hike_matrix = self.hike_matrix.drop(indx, axis=0).reset_index(drop=True)\n",
    "\n",
    "    def recommend(self, n=5):\n",
    "        # Calculate similarity to all of the hikes\n",
    "        # average similarities\n",
    "        # return top 5\n",
    "        indx_id = self.hike_matrix['hike_id']\n",
    "        X = self.hike_matrix.drop('hike_id', axis=1)\n",
    "        y = self.hikes_liked.drop('hike_id', axis=1)\n",
    "        cs = cosine_similarity(X, y).mean(axis=1)\n",
    "        rec_index= np.argsort(cs)[-n:][::-1]\n",
    "        recommendations = indx_id.ix[rec_index]\n",
    "        return recommendations\n"
   ]
  },
  {
   "cell_type": "code",
   "execution_count": 30,
   "metadata": {},
   "outputs": [
    {
     "data": {
      "text/plain": [
       "<__main__.hikeRecommender at 0x119571518>"
      ]
     },
     "execution_count": 30,
     "metadata": {},
     "output_type": "execute_result"
    }
   ],
   "source": [
    "hikeRecommender(item_data)"
   ]
  },
  {
   "cell_type": "code",
   "execution_count": 31,
   "metadata": {},
   "outputs": [],
   "source": [
    "hr=hikeRecommender(item_data)"
   ]
  },
  {
   "cell_type": "code",
   "execution_count": 32,
   "metadata": {},
   "outputs": [
    {
     "name": "stderr",
     "output_type": "stream",
     "text": [
      "/usr/local/lib/python3.6/site-packages/ipykernel_launcher.py:21: DeprecationWarning: \n",
      ".ix is deprecated. Please use\n",
      ".loc for label based indexing or\n",
      ".iloc for positional indexing\n",
      "\n",
      "See the documentation here:\n",
      "http://pandas.pydata.org/pandas-docs/stable/indexing.html#ix-indexer-is-deprecated\n"
     ]
    }
   ],
   "source": [
    "hr.likeHike(65)"
   ]
  },
  {
   "cell_type": "code",
   "execution_count": 33,
   "metadata": {},
   "outputs": [
    {
     "name": "stderr",
     "output_type": "stream",
     "text": [
      "/usr/local/lib/python3.6/site-packages/ipykernel_launcher.py:24: DeprecationWarning: \n",
      ".ix is deprecated. Please use\n",
      ".loc for label based indexing or\n",
      ".iloc for positional indexing\n",
      "\n",
      "See the documentation here:\n",
      "http://pandas.pydata.org/pandas-docs/stable/indexing.html#ix-indexer-is-deprecated\n"
     ]
    }
   ],
   "source": [
    "hr.likeHike(4)"
   ]
  },
  {
   "cell_type": "code",
   "execution_count": 135,
   "metadata": {},
   "outputs": [
    {
     "data": {
      "text/plain": [
       "962     1215\n",
       "811     1001\n",
       "1044    1332\n",
       "371      421\n",
       "960     1213\n",
       "1237    1774\n",
       "1187    1609\n",
       "479      552\n",
       "316      359\n",
       "1031    1311\n",
       "Name: hike_id, dtype: int64"
      ]
     },
     "execution_count": 135,
     "metadata": {},
     "output_type": "execute_result"
    }
   ],
   "source": [
    "hr.recommend(10)"
   ]
  },
  {
   "cell_type": "code",
   "execution_count": null,
   "metadata": {
    "collapsed": true
   },
   "outputs": [],
   "source": []
  }
 ],
 "metadata": {
  "kernelspec": {
   "display_name": "Python 3",
   "language": "python",
   "name": "python3"
  },
  "language_info": {
   "codemirror_mode": {
    "name": "ipython",
    "version": 3
   },
   "file_extension": ".py",
   "mimetype": "text/x-python",
   "name": "python",
   "nbconvert_exporter": "python",
   "pygments_lexer": "ipython3",
   "version": "3.6.5"
  }
 },
 "nbformat": 4,
 "nbformat_minor": 1
}
